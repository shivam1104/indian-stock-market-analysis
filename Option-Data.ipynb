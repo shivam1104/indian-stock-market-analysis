{
 "cells": [
  {
   "cell_type": "code",
   "execution_count": 1,
   "metadata": {},
   "outputs": [],
   "source": [
    "from nsetools import Nse\n",
    "from pprint import pprint\n",
    "from csv import writer\n",
    "import pandas as pd\n",
    "from datetime import date\n",
    "\n",
    "today = date.today()"
   ]
  },
  {
   "cell_type": "code",
   "execution_count": 4,
   "metadata": {},
   "outputs": [],
   "source": [
    "nse= Nse()\n"
   ]
  },
  {
   "cell_type": "code",
   "execution_count": null,
   "metadata": {},
   "outputs": [],
   "source": [
    "OptionLot = (nse.get_fno_lot_sizes())"
   ]
  },
  {
   "cell_type": "code",
   "execution_count": 9,
   "metadata": {},
   "outputs": [
    {
     "name": "stdout",
     "output_type": "stream",
     "text": [
      "{'FINNIFTY': 40, 'BANKNIFTY': 25, 'NIFTY': 75, 'AARTIIND': 425, 'ADANIENT': 2000, 'ADANIPORTS': 2500, 'AMARAJABAT': 1000, 'APOLLOTYRE': 5000, 'ASHOKLEY': 9000, 'APOLLOHOSP': 500, 'ASIANPAINT': 300, 'AUROPHARMA': 650, 'BAJAJ-AUTO': 250, 'BANKBARODA': 11700, 'BEL': 7600, 'AXISBANK': 1200, 'BERGEPAINT': 1100, 'BHEL': 21000, 'CADILAHC': 2200, 'CANBK': 5400, 'BAJFINANCE': 250, 'BALKRISIND': 400, 'CHOLAFIN': 2500, 'CIPLA': 1300, 'CONCOR': 1563, 'CUMMINSIND': 1200, 'DLF': 3300, 'BATAINDIA': 550, 'DRREDDY': 125, 'BHARTIARTL': 1851, 'FEDERALBNK': 10000, 'BPCL': 1800, 'HDFCAMC': 200, 'BRITANNIA': 200, 'HDFCBANK': 550, 'ACC': 500, 'IGL': 1375, 'ITC': 3200, 'JINDALSTEL': 5000, 'JSWSTEEL': 2700, 'L&TFH': 8924, 'LALPATHLAB': 250, 'COFORGE': 375, 'LICHSGFIN': 2000, 'LT': 575, 'LUPIN': 850, 'M&M': 1400, 'M&MFIN': 4000, 'MANAPPURAM': 6000, 'DIVISLAB': 200, 'ESCORTS': 550, 'MARUTI': 100, 'MFSL': 1300, 'NATIONALUM': 17000, 'NMDC': 6700, 'PAGEIND': 30, 'PEL': 550, 'EXIDEIND': 3600, 'PIDILITIND': 500, 'PVR': 407, 'SAIL': 19000, 'SBIN': 3000, 'SIEMENS': 550, 'GMRINFRA': 22500, 'SRF': 125, 'GODREJPROP': 650, 'SRTRANSFIN': 800, 'HCLTECH': 700, 'SUNPHARMA': 1400, 'TATACONSUM': 1350, 'TATAPOWER': 13500, 'TCS': 300, 'TECHM': 1200, 'HDFCLIFE': 1100, 'HEROMOTOCO': 300, 'HINDALCO': 4300, 'HINDPETRO': 2700, 'HINDUNILVR': 300, 'ICICIBANK': 1375, 'WIPRO': 3200, 'ICICIPRULI': 1500, 'IDFCFIRSTB': 19000, 'INDIGO': 500, 'INFY': 600, 'IOC': 6500, 'KOTAKBANK': 400, 'AMBUJACEM': 3000, 'MARICO': 2000, 'MCDOWELL-N': 1250, 'BHARATFORG': 1500, 'MGL': 600, 'MINDTREE': 800, 'MOTHERSUMI': 7000, 'MRF': 10, 'MUTHOOTFIN': 750, 'COALINDIA': 4200, 'NAUKRI': 250, 'NESTLEIND': 50, 'NTPC': 5700, 'ONGC': 7700, 'PETRONET': 3000, 'PFC': 6200, 'PNB': 16000, 'POWERGRID': 4000, 'DABUR': 1250, 'RAMCOCEM': 850, 'EICHERMOT': 350, 'RBLBANK': 2900, 'SBILIFE': 750, 'SUNTV': 1500, 'TATACHEM': 2000, 'GAIL': 6100, 'TATAMOTORS': 5700, 'GODREJCP': 1000, 'TATASTEEL': 1700, 'TITAN': 750, 'TORNTPOWER': 3000, 'GRASIM': 950, 'TVSMOTOR': 1400, 'ULTRACEMCO': 200, 'VOLTAS': 1000, 'BANDHANBNK': 1800, 'ZEEL': 3000, 'BIOCON': 2300, 'HDFC': 300, 'ICICIGI': 425, 'IDEA': 70000, 'INDUSTOWER': 2800, 'BAJAJFINSV': 125, 'BOSCHLTD': 50, 'COLPAL': 700, 'GLENMARK': 1150, 'HAVELLS': 1000, 'IBULHSGFIN': 3100, 'INDUSINDBK': 900, 'RECLTD': 6000, 'SHREECEM': 50, 'VEDL': 6200, 'TORNTPHARM': 250, 'UBL': 700, 'UPL': 1300, 'JUBLFOOD': 250, 'RELIANCE': 250}\n"
     ]
    }
   ],
   "source": [
    "print(OptionLot)"
   ]
  }
 ],
 "metadata": {
  "kernelspec": {
   "display_name": "Python 3",
   "language": "python",
   "name": "python3"
  },
  "language_info": {
   "codemirror_mode": {
    "name": "ipython",
    "version": 3
   },
   "file_extension": ".py",
   "mimetype": "text/x-python",
   "name": "python",
   "nbconvert_exporter": "python",
   "pygments_lexer": "ipython3",
   "version": "3.8.5"
  }
 },
 "nbformat": 4,
 "nbformat_minor": 4
}
