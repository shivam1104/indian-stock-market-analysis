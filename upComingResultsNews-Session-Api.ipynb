{
 "cells": [
  {
   "cell_type": "code",
   "execution_count": 1,
   "metadata": {},
   "outputs": [],
   "source": [
    "import numpy as np # linear algebra\n",
    "import pandas as pd \n",
    "from datetime import date\n",
    "\n",
    "today = date.today()"
   ]
  },
  {
   "cell_type": "code",
   "execution_count": 2,
   "metadata": {},
   "outputs": [],
   "source": [
    "import requests # for http requests\n",
    "from bs4 import BeautifulSoup # for html parsing and scraping\n",
    "from fastnumbers import isfloat \n",
    "from fastnumbers import fast_float\n",
    "from multiprocessing.dummy import Pool as ThreadPool \n",
    "import bs4\n",
    "\n",
    "import matplotlib.pyplot as plt\n",
    "import seaborn as sns\n",
    "import json\n",
    "from tidylib import tidy_document # for tidying incorrect html\n",
    "\n",
    "sns.set_style('whitegrid')\n",
    "%matplotlib inline\n",
    "from IPython.core.interactiveshell import InteractiveShell\n",
    "InteractiveShell.ast_node_interactivity = \"all\""
   ]
  },
  {
   "cell_type": "code",
   "execution_count": 3,
   "metadata": {},
   "outputs": [],
   "source": [
    "from nsepython import *"
   ]
  },
  {
   "cell_type": "code",
   "execution_count": 4,
   "metadata": {},
   "outputs": [
    {
     "name": "stderr",
     "output_type": "stream",
     "text": [
      "DEBUG:urllib3.connectionpool:Starting new HTTPS connection (1): www.nseindia.com:443\n",
      "DEBUG:urllib3.connectionpool:https://www.nseindia.com:443 \"GET /api/event-calendar HTTP/1.1\" 401 272\n",
      "DEBUG:urllib3.connectionpool:Starting new HTTP connection (1): nseindia.com:80\n",
      "DEBUG:urllib3.connectionpool:http://nseindia.com:80 \"GET / HTTP/1.1\" 301 0\n",
      "DEBUG:urllib3.connectionpool:Starting new HTTP connection (1): www.nseindia.com:80\n",
      "DEBUG:urllib3.connectionpool:http://www.nseindia.com:80 \"GET / HTTP/1.1\" 301 0\n",
      "DEBUG:urllib3.connectionpool:Starting new HTTPS connection (1): www.nseindia.com:443\n",
      "DEBUG:urllib3.connectionpool:https://www.nseindia.com:443 \"GET / HTTP/1.1\" 200 39071\n",
      "DEBUG:urllib3.connectionpool:https://www.nseindia.com:443 \"GET /api/event-calendar HTTP/1.1\" 200 2564\n"
     ]
    }
   ],
   "source": [
    "data =pd.DataFrame(nse_events())"
   ]
  },
  {
   "cell_type": "code",
   "execution_count": 5,
   "metadata": {},
   "outputs": [],
   "source": [
    "data.to_csv('UpComingResults'+str(today)+'.csv')"
   ]
  }
 ],
 "metadata": {
  "kernelspec": {
   "display_name": "Python 3",
   "language": "python",
   "name": "python3"
  },
  "language_info": {
   "codemirror_mode": {
    "name": "ipython",
    "version": 3
   },
   "file_extension": ".py",
   "mimetype": "text/x-python",
   "name": "python",
   "nbconvert_exporter": "python",
   "pygments_lexer": "ipython3",
   "version": "3.8.5"
  }
 },
 "nbformat": 4,
 "nbformat_minor": 4
}
