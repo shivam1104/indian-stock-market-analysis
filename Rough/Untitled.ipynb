{
 "cells": [
  {
   "cell_type": "code",
   "execution_count": null,
   "metadata": {},
   "outputs": [],
   "source": [
    "try:\n",
    "            nse_url = 'https://www.nseindia.com/market-data/top-gainers-loosers'\n",
    "            url = 'https://www.nseindia.com/api/live-analysis-variations?index=gainers'\n",
    "            resp = requests.get(url=nse_url, headers=__request_headers)\n",
    "            if resp.ok:\n",
    "                req_cookies = dict(nsit=resp.cookies['nsit'], nseappid=resp.cookies['nseappid'], ak_bmsc=resp.cookies['ak_bmsc'])\n",
    "                tresp = requests.get(url=url, headers=__request_headers, cookies=req_cookies)\n",
    "                result = tresp.json()\n",
    "                res_data = result[\"NIFTY\"][\"data\"] if \"NIFTY\" in result and \"data\" in result[\"NIFTY\"] else []\n",
    "                if res_data != None and len(res_data) > 0:\n",
    "                    __top_list = res_data\n",
    "        except OSError as err:\n",
    "            logger.error('Unable to fetch data')"
   ]
  }
 ],
 "metadata": {
  "kernelspec": {
   "display_name": "Python 3",
   "language": "python",
   "name": "python3"
  },
  "language_info": {
   "codemirror_mode": {
    "name": "ipython",
    "version": 3
   },
   "file_extension": ".py",
   "mimetype": "text/x-python",
   "name": "python",
   "nbconvert_exporter": "python",
   "pygments_lexer": "ipython3",
   "version": "3.8.5"
  }
 },
 "nbformat": 4,
 "nbformat_minor": 4
}
