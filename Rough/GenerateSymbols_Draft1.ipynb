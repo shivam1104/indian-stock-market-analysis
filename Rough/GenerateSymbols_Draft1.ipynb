{
 "cells": [
  {
   "cell_type": "code",
   "execution_count": 1,
   "metadata": {},
   "outputs": [
    {
     "name": "stderr",
     "output_type": "stream",
     "text": [
      "c:\\users\\dell\\appdata\\local\\programs\\python\\python38\\lib\\site-packages\\fuzzywuzzy\\fuzz.py:11: UserWarning: Using slow pure-python SequenceMatcher. Install python-Levenshtein to remove this warning\n",
      "  warnings.warn('Using slow pure-python SequenceMatcher. Install python-Levenshtein to remove this warning')\n"
     ]
    }
   ],
   "source": [
    "\n",
    "# Import modules\n",
    "from datetime import datetime, timedelta\n",
    "import pandas as pd\n",
    "pd.core.common.is_list_like = pd.api.types.is_list_like #For solving import pandas_datareader issue\n",
    "import numpy as np\n",
    "import datetime\n",
    "import csv\n",
    "import requests\n",
    "import pandas_datareader.data as web\n",
    "import pandas_datareader as pdr\n",
    "from pandas_datareader import data, wb\n",
    "import datetime\n",
    "from nsetools import Nse\n",
    "from pprint import pprint\n",
    "import pandas as pd\n",
    "from datetime import date\n",
    "#import yfinance as yf\n",
    "from NSEDownload import stocks\n",
    "from nsepython import *\n",
    "\n",
    "\n",
    "today = date.today()"
   ]
  },
  {
   "cell_type": "code",
   "execution_count": 2,
   "metadata": {},
   "outputs": [],
   "source": [
    "currentDay = datetime.datetime.now().day\n",
    "currentMonth = datetime.datetime.now().month\n",
    "currentYear = datetime.datetime.now().year\n",
    "\n",
    "# Input Start and End Date\n",
    "start = datetime.datetime(2018,4,20)\n",
    "end = datetime.datetime(currentYear,currentMonth,currentDay-1)"
   ]
  },
  {
   "cell_type": "code",
   "execution_count": 3,
   "metadata": {},
   "outputs": [],
   "source": [
    "nse= Nse()\n",
    "OptionLot = (nse.get_fno_lot_sizes())"
   ]
  },
  {
   "cell_type": "code",
   "execution_count": 4,
   "metadata": {},
   "outputs": [
    {
     "name": "stdout",
     "output_type": "stream",
     "text": [
      "{'FINNIFTY': 40, 'BANKNIFTY': 25, 'NIFTY': 75, 'AARTIIND': 425, 'ADANIENT': 2000, 'ADANIPORTS': 2500, 'AMARAJABAT': 1000, 'APOLLOTYRE': 5000, 'ASHOKLEY': 9000, 'APOLLOHOSP': 500, 'ASIANPAINT': 300, 'AUROPHARMA': 650, 'BAJAJ-AUTO': 250, 'BANKBARODA': 11700, 'BEL': 7600, 'AXISBANK': 1200, 'BERGEPAINT': 1100, 'BHEL': 21000, 'CADILAHC': 2200, 'CANBK': 5400, 'BAJFINANCE': 250, 'BALKRISIND': 400, 'CHOLAFIN': 2500, 'CIPLA': 1300, 'CONCOR': 1563, 'CUMMINSIND': 1200, 'DLF': 3300, 'BATAINDIA': 550, 'DRREDDY': 125, 'BHARTIARTL': 1851, 'FEDERALBNK': 10000, 'BPCL': 1800, 'HDFCAMC': 200, 'BRITANNIA': 200, 'HDFCBANK': 550, 'ACC': 500, 'IGL': 1375, 'ITC': 3200, 'JINDALSTEL': 5000, 'JSWSTEEL': 2700, 'L&TFH': 8924, 'LALPATHLAB': 250, 'COFORGE': 375, 'LICHSGFIN': 2000, 'LT': 575, 'LUPIN': 850, 'M&M': 1400, 'M&MFIN': 4000, 'MANAPPURAM': 6000, 'DIVISLAB': 200, 'ESCORTS': 550, 'MARUTI': 100, 'MFSL': 1300, 'NATIONALUM': 17000, 'NMDC': 6700, 'PAGEIND': 30, 'PEL': 550, 'EXIDEIND': 3600, 'PIDILITIND': 500, 'PVR': 407, 'SAIL': 19000, 'SBIN': 3000, 'SIEMENS': 550, 'GMRINFRA': 22500, 'SRF': 125, 'GODREJPROP': 650, 'SRTRANSFIN': 800, 'HCLTECH': 700, 'SUNPHARMA': 1400, 'TATACONSUM': 1350, 'TATAPOWER': 13500, 'TCS': 300, 'TECHM': 1200, 'HDFCLIFE': 1100, 'HEROMOTOCO': 300, 'HINDALCO': 4300, 'HINDPETRO': 2700, 'HINDUNILVR': 300, 'ICICIBANK': 1375, 'WIPRO': 3200, 'ICICIPRULI': 1500, 'IDFCFIRSTB': 19000, 'INDIGO': 500, 'INFY': 600, 'IOC': 6500, 'KOTAKBANK': 400, 'AMBUJACEM': 3000, 'MARICO': 2000, 'MCDOWELL-N': 1250, 'BHARATFORG': 1500, 'MGL': 600, 'MINDTREE': 800, 'MOTHERSUMI': 7000, 'MRF': 10, 'MUTHOOTFIN': 750, 'COALINDIA': 4200, 'NAUKRI': 250, 'NESTLEIND': 50, 'NTPC': 5700, 'ONGC': 7700, 'PETRONET': 3000, 'PFC': 6200, 'PNB': 16000, 'POWERGRID': 4000, 'DABUR': 1250, 'RAMCOCEM': 850, 'EICHERMOT': 350, 'RBLBANK': 2900, 'SBILIFE': 750, 'SUNTV': 1500, 'TATACHEM': 2000, 'GAIL': 6100, 'TATAMOTORS': 5700, 'GODREJCP': 1000, 'TATASTEEL': 1700, 'TITAN': 750, 'TORNTPOWER': 3000, 'GRASIM': 950, 'TVSMOTOR': 1400, 'ULTRACEMCO': 200, 'VOLTAS': 1000, 'BANDHANBNK': 1800, 'ZEEL': 3000, 'BIOCON': 2300, 'HDFC': 300, 'ICICIGI': 425, 'IDEA': 70000, 'INDUSTOWER': 2800, 'BAJAJFINSV': 125, 'BOSCHLTD': 50, 'COLPAL': 700, 'GLENMARK': 1150, 'HAVELLS': 1000, 'IBULHSGFIN': 3100, 'INDUSINDBK': 900, 'RECLTD': 6000, 'SHREECEM': 50, 'VEDL': 6200, 'TORNTPHARM': 250, 'UBL': 700, 'UPL': 1300, 'JUBLFOOD': 250, 'RELIANCE': 250}\n"
     ]
    }
   ],
   "source": [
    "print(OptionLot)\n",
    "listOptions = OptionLot.keys()"
   ]
  },
  {
   "cell_type": "code",
   "execution_count": 7,
   "metadata": {},
   "outputs": [
    {
     "name": "stdout",
     "output_type": "stream",
     "text": [
      "Main-ed\n"
     ]
    }
   ],
   "source": [
    "import PYTopLosersTopGainersEquity as ab"
   ]
  },
  {
   "cell_type": "code",
   "execution_count": 8,
   "metadata": {},
   "outputs": [
    {
     "name": "stdout",
     "output_type": "stream",
     "text": [
      "{'TG': 'Files/TopGainers2021-02-20.csv'}\n"
     ]
    }
   ],
   "source": [
    "TG = ab.getGainValue()\n"
   ]
  },
  {
   "cell_type": "code",
   "execution_count": 9,
   "metadata": {},
   "outputs": [
    {
     "name": "stdout",
     "output_type": "stream",
     "text": [
      "{'TL': 'Files/TopLosers2021-02-20.csv'}\n"
     ]
    }
   ],
   "source": [
    "TL = ab.getLostValue()"
   ]
  },
  {
   "cell_type": "code",
   "execution_count": 10,
   "metadata": {},
   "outputs": [
    {
     "name": "stderr",
     "output_type": "stream",
     "text": [
      "DEBUG:urllib3.connectionpool:Starting new HTTPS connection (1): www.nseindia.com:443\n",
      "DEBUG:urllib3.connectionpool:https://www.nseindia.com:443 \"GET /api/event-calendar HTTP/1.1\" 401 272\n",
      "DEBUG:urllib3.connectionpool:Starting new HTTP connection (1): nseindia.com:80\n",
      "DEBUG:urllib3.connectionpool:http://nseindia.com:80 \"GET / HTTP/1.1\" 301 0\n",
      "DEBUG:urllib3.connectionpool:Starting new HTTP connection (1): www.nseindia.com:80\n",
      "DEBUG:urllib3.connectionpool:http://www.nseindia.com:80 \"GET / HTTP/1.1\" 301 0\n",
      "DEBUG:urllib3.connectionpool:Starting new HTTPS connection (1): www.nseindia.com:443\n",
      "DEBUG:urllib3.connectionpool:https://www.nseindia.com:443 \"GET / HTTP/1.1\" 200 39633\n",
      "DEBUG:urllib3.connectionpool:https://www.nseindia.com:443 \"GET /api/event-calendar HTTP/1.1\" 200 2448\n"
     ]
    }
   ],
   "source": [
    "data =pd.DataFrame(nse_events())"
   ]
  },
  {
   "cell_type": "code",
   "execution_count": 11,
   "metadata": {},
   "outputs": [
    {
     "name": "stdout",
     "output_type": "stream",
     "text": [
      "       symbol series  openPrice  highPrice  lowPrice      ltp  previousPrice  \\\n",
      "0        ONGC     EQ     110.70     112.20    103.85   105.10         110.70   \n",
      "1   TATASTEEL     EQ     696.00     696.00    655.95   669.40         697.75   \n",
      "2  HEROMOTOCO     EQ    3522.85    3522.85   3370.00  3390.75        3522.85   \n",
      "3        SBIN     EQ     415.00     415.00    395.00   400.60         415.20   \n",
      "4  TATAMOTORS     EQ     321.95     321.95    301.40   312.45         323.85   \n",
      "5    AXISBANK     EQ     772.90     777.20    741.35   750.60         777.00   \n",
      "6   ICICIBANK     EQ     635.50     635.50    619.00   625.40         644.65   \n",
      "7  BAJAJ-AUTO     EQ    4106.00    4106.70   3977.20  4002.00        4115.45   \n",
      "8   EICHERMOT     EQ    2646.00    2647.90   2570.00  2582.00        2650.20   \n",
      "9    JSWSTEEL     EQ     408.10     408.40    390.95   398.30         407.65   \n",
      "\n",
      "  netPrice  tradedQuantity  turnoverInLakhs lastCorpAnnouncementDate  \\\n",
      "0    -5.06      48225988.0         52416.83              17-Feb-2021   \n",
      "1    -4.06      22392386.0        151251.61              06-Aug-2020   \n",
      "2    -3.75        995322.0         34123.82              15-Feb-2021   \n",
      "3    -3.52      66155518.0        267969.54              15-Jun-2018   \n",
      "4    -3.52      80274683.0        251508.61              18-Jul-2016   \n",
      "5    -3.40      15634787.0        118994.80              04-Jul-2019   \n",
      "6    -2.99      24055811.0        151056.06              22-Jul-2019   \n",
      "7    -2.76        762200.0         30614.83              03-Mar-2020   \n",
      "8    -2.57       1588781.0         41263.98              24-Aug-2020   \n",
      "9    -2.29       4527644.0         18129.59              06-Jul-2020   \n",
      "\n",
      "                                lastCorpAnnouncement  \n",
      "0               Interim Dividend - Rs 1.75 Per Share  \n",
      "1                         Dividend - Rs 10 Per Share  \n",
      "2  Interim Dividend - Rs 65 Per Share Special Div...  \n",
      "3  Annual General Meeting/ Change In Registrar An...  \n",
      "4                     Dividend - Re 0.20/- Per Share  \n",
      "5  Annual General Meeting/ Dividend - Re 1 Per Share  \n",
      "6   Annual General Meeting/Dividend - Re 1 Per Share  \n",
      "7                Interim Dividend - Rs 120 Per Share  \n",
      "8  Face Value Split (Sub-Division) - From Rs 10/-...  \n",
      "9                          Dividend - Rs 2 Per Share  \n"
     ]
    }
   ],
   "source": [
    "#print(TL)"
   ]
  },
  {
   "cell_type": "code",
   "execution_count": 12,
   "metadata": {},
   "outputs": [],
   "source": [
    "#data['TopLoser'] = -1\n",
    "#data['TopGainer'] = -1\n",
    "data['HasOption'] = -1\n",
    "TL['HasOption'] = -1\n",
    "TG['HasOption'] = -1"
   ]
  },
  {
   "cell_type": "code",
   "execution_count": 13,
   "metadata": {},
   "outputs": [],
   "source": [
    "for i, row in data.iterrows():\n",
    "    if data.at[i,'symbol'] in listOptions:\n",
    "        data.at[i,'HasOption'] = 1\n",
    "    else:\n",
    "        data.at[i,'HasOption'] = 0"
   ]
  },
  {
   "cell_type": "code",
   "execution_count": 14,
   "metadata": {},
   "outputs": [
    {
     "name": "stdout",
     "output_type": "stream",
     "text": [
      "        symbol                                       company  \\\n",
      "0       UNIPLY                     Uniply Industries Limited   \n",
      "1     DBREALTY                            D B Realty Limited   \n",
      "2    INDIAMART                   Indiamart Intermesh Limited   \n",
      "3    HUHTAMAKI                       Huhtamaki India Limited   \n",
      "4       SAFARI             Safari Industries (India) Limited   \n",
      "5       SANOFI                          Sanofi India Limited   \n",
      "6    HUHTAMAKI                       Huhtamaki India Limited   \n",
      "7       UNIPLY                     Uniply Industries Limited   \n",
      "8     VENUSREM                        Venus Remedies Limited   \n",
      "9   STOVEKRAFT                           Stove Kraft Limited   \n",
      "10     BIGBLOC                  Bigbloc Construction Limited   \n",
      "11    SPANDANA           Spandana Sphoorty Financial Limited   \n",
      "12  WEBELSOLAR                  Websol Energy System Limited   \n",
      "13  HINDMOTORS                      Hindustan Motors Limited   \n",
      "14    KRISHANA                     Krishana Phoschem Limited   \n",
      "15         KSB                                   Ksb Limited   \n",
      "16   MAWANASUG                         Mawana Sugars Limited   \n",
      "17        RAIN                       Rain Industries Limited   \n",
      "18   SOUTHBANK                 The South Indian Bank Limited   \n",
      "19   STEELCITY                 Steel City Securities Limited   \n",
      "20    VESUVIUS                        Vesuvius India Limited   \n",
      "21         HAL                 Hindustan Aeronautics Limited   \n",
      "22   JINDALSAW                            Jindal Saw Limited   \n",
      "23         KEI                        KEI Industries Limited   \n",
      "24   MODTHREAD                         Modern Thread Limited   \n",
      "25  POWERINDIA  ABB Power Products and Systems India Limited   \n",
      "26  POWERINDIA  ABB Power Products and Systems India Limited   \n",
      "27     SIMPLEX                      Simplex Projects Limited   \n",
      "28  LINDEINDIA                           Linde India Limited   \n",
      "29      JAGRAN                      Jagran Prakashan Limited   \n",
      "30      MARICO                                Marico Limited   \n",
      "\n",
      "                                     purpose  \\\n",
      "0                          Financial Results   \n",
      "1                               Fund Raising   \n",
      "2                     Other business matters   \n",
      "3                 Financial Results/Dividend   \n",
      "4                               Fund Raising   \n",
      "5                 Financial Results/Dividend   \n",
      "6                 Financial Results/Dividend   \n",
      "7                          Financial Results   \n",
      "8                     Other business matters   \n",
      "9   Financial Results/Other business matters   \n",
      "10                    Other business matters   \n",
      "11                              Fund Raising   \n",
      "12                    Other business matters   \n",
      "13                    Other business matters   \n",
      "14                    Other business matters   \n",
      "15                Financial Results/Dividend   \n",
      "16                    Other business matters   \n",
      "17                         Financial Results   \n",
      "18                              Fund Raising   \n",
      "19                                  Dividend   \n",
      "20                Financial Results/Dividend   \n",
      "21                                  Dividend   \n",
      "22                    Other business matters   \n",
      "23                                  Dividend   \n",
      "24                         Financial Results   \n",
      "25                Financial Results/Dividend   \n",
      "26                Financial Results/Dividend   \n",
      "27                         Financial Results   \n",
      "28                Financial Results/Dividend   \n",
      "29                                   Buyback   \n",
      "30                                  Dividend   \n",
      "\n",
      "                                              bm_desc         date  HasOption  \n",
      "0   Dear Madam/Sir,ￂﾠￂﾠSub: Intimation of Board Me...  21-Feb-2021          0  \n",
      "1                            To consider Fund Raising  22-Feb-2021          0  \n",
      "2   Fund Raise Committee Meeting is scheduled on 2...  22-Feb-2021          0  \n",
      "3   HUHTAMAKI : 24-Feb-2021 :  The Company has inf...  23-Feb-2021          0  \n",
      "4                            To consider Fund Raising  23-Feb-2021          0  \n",
      "5   To consider and approve the financial results ...  23-Feb-2021          0  \n",
      "6   To consider and approve the financial results ...  23-Feb-2021          0  \n",
      "7   To consider and approve the financial results ...  23-Feb-2021          0  \n",
      "8   To consider the allotment of 10,25,000 warrant...  23-Feb-2021          0  \n",
      "9   To consider and approve the financial results ...  23-Feb-2021          0  \n",
      "10  To consider other business mattersￂﾠ to discus...  24-Feb-2021          0  \n",
      "11                           To consider Fund Raising  24-Feb-2021          0  \n",
      "12  To consider o1. Proposal to raise resources by...  24-Feb-2021          0  \n",
      "13                 To consider other business matters  25-Feb-2021          0  \n",
      "14                 To consider other business matters  25-Feb-2021          0  \n",
      "15  To consider and approve the financial results ...  25-Feb-2021          0  \n",
      "16                 To consider other business matters  25-Feb-2021          0  \n",
      "17  To consider and approve the financial results ...  25-Feb-2021          0  \n",
      "18                           To consider Fund Raising  25-Feb-2021          0  \n",
      "19                               To consider dividend  25-Feb-2021          0  \n",
      "20  To consider and approve the financial results ...  25-Feb-2021          0  \n",
      "21                               To consider dividend  26-Feb-2021          0  \n",
      "22  To consider other business matters for conside...  26-Feb-2021          0  \n",
      "23                       To consider interim dividend  26-Feb-2021          0  \n",
      "24  To consider and approve the financial results ...  26-Feb-2021          0  \n",
      "25  To consider and approve the financial results ...  26-Feb-2021          0  \n",
      "26  POWERINDIA : 25-Feb-2021 : The Company has inf...  26-Feb-2021          0  \n",
      "27  To consider and approve the financial results ...  26-Feb-2021          0  \n",
      "28  This is to inform you that a meeting of the Bo...  01-Mar-2021          0  \n",
      "29              To consider buyback for equity shares  02-Mar-2021          0  \n",
      "30  Pursuant to Regulation 29 of the Securities an...  03-Mar-2021          1  \n"
     ]
    }
   ],
   "source": [
    "#print(data)"
   ]
  },
  {
   "cell_type": "code",
   "execution_count": 15,
   "metadata": {},
   "outputs": [],
   "source": [
    "for i, row in TL.iterrows():\n",
    "    if TL.at[i,'symbol'] in listOptions:\n",
    "        TL.at[i,'HasOption'] = 1\n",
    "    else:\n",
    "        TL.at[i,'HasOption'] = 0"
   ]
  },
  {
   "cell_type": "code",
   "execution_count": 16,
   "metadata": {},
   "outputs": [],
   "source": [
    "for i, row in TG.iterrows():\n",
    "    if TG.at[i,'symbol'] in listOptions:\n",
    "        TG.at[i,'HasOption'] = 1\n",
    "    else:\n",
    "        TG.at[i,'HasOption'] = 0"
   ]
  },
  {
   "cell_type": "code",
   "execution_count": 17,
   "metadata": {},
   "outputs": [],
   "source": [
    "symbols = []\n",
    "symbols = TL.symbol.tolist()\n",
    "symbols+= TG.symbol.tolist()\n",
    "symbols+= data.symbol.tolist()\n"
   ]
  },
  {
   "cell_type": "code",
   "execution_count": 25,
   "metadata": {},
   "outputs": [
    {
     "name": "stdout",
     "output_type": "stream",
     "text": [
      "List Of Stocks to Analyse Today :- \n",
      "['ONGC', 'TATASTEEL', 'HEROMOTOCO', 'SBIN', 'TATAMOTORS', 'AXISBANK', 'ICICIBANK', 'BAJAJ-AUTO', 'EICHERMOT', 'JSWSTEEL', 'UPL', 'DRREDDY', 'INDUSINDBK', 'HINDUNILVR', 'GAIL', 'NTPC', 'TCS', 'RELIANCE', 'NESTLEIND', 'BAJAJFINSV', 'UNIPLY', 'DBREALTY', 'INDIAMART', 'HUHTAMAKI', 'SAFARI', 'SANOFI', 'HUHTAMAKI', 'UNIPLY', 'VENUSREM', 'STOVEKRAFT', 'BIGBLOC', 'SPANDANA', 'WEBELSOLAR', 'HINDMOTORS', 'KRISHANA', 'KSB', 'MAWANASUG', 'RAIN', 'SOUTHBANK', 'STEELCITY', 'VESUVIUS', 'HAL', 'JINDALSAW', 'KEI', 'MODTHREAD', 'POWERINDIA', 'POWERINDIA', 'SIMPLEX', 'LINDEINDIA', 'JAGRAN', 'MARICO']\n"
     ]
    }
   ],
   "source": [
    "print(\"List Of Stocks to Analyse Today :- \")\n",
    "print(symbols)"
   ]
  },
  {
   "cell_type": "code",
   "execution_count": null,
   "metadata": {},
   "outputs": [],
   "source": []
  }
 ],
 "metadata": {
  "kernelspec": {
   "display_name": "Python 3",
   "language": "python",
   "name": "python3"
  },
  "language_info": {
   "codemirror_mode": {
    "name": "ipython",
    "version": 3
   },
   "file_extension": ".py",
   "mimetype": "text/x-python",
   "name": "python",
   "nbconvert_exporter": "python",
   "pygments_lexer": "ipython3",
   "version": "3.8.5"
  }
 },
 "nbformat": 4,
 "nbformat_minor": 4
}
