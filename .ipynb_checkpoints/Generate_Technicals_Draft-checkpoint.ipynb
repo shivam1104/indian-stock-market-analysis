{
 "cells": [
  {
   "cell_type": "code",
   "execution_count": 24,
   "metadata": {},
   "outputs": [],
   "source": [
    "\n",
    "import datetime as dt\n",
    "import os\n",
    "import sys\n",
    "import numpy as np\n",
    "import pandas as pd\n",
    "import matplotlib.pyplot as plt\n",
    "\n"
   ]
  },
  {
   "cell_type": "code",
   "execution_count": 25,
   "metadata": {},
   "outputs": [],
   "source": [
    "from YahoBuilt import getHistoricPricing\n"
   ]
  },
  {
   "cell_type": "code",
   "execution_count": 26,
   "metadata": {},
   "outputs": [],
   "source": [
    "def plotRSI(price,symbol,trimData=False,sd=dt.datetime(2008, 1, 1), ed=dt.datetime(2009,12,31)):\n",
    "    if trimData:\n",
    "        price = price[sd:ed]\n",
    "        # print(price)\n",
    "    figure, (ax0,ax1) = plt.subplots(2,figsize=(12, 8))\n",
    "    figure.suptitle(\"Relative Strength Indicator\")\n",
    "    ax0.plot(price[symbol+\"_Close\"])\n",
    "    ax1.plot(price[\"RSI\"],color='k')\n",
    "    price[\"RSI70\"] = price[\"RSI\"][price[\"RSI\"]>70]\n",
    "    price[\"RSI30\"] = price[\"RSI\"][price[\"RSI\"]<30]\n",
    "    legend = [\"RSI\"]\n",
    "    if trimData:\n",
    "        ax1.plot(price[\"RSI70\"],color='springgreen', marker='^')\n",
    "        ax1.plot(price[\"RSI30\"],color='lightcoral', marker='v')\n",
    "        legend = [\"RSI\",\"OverBought > 70%\" ,\"OverSold < 30%\"]\n",
    "    else:\n",
    "        ax1.fill_between(price[\"RSI70\"].index,70, price[\"RSI70\"] ,color='springgreen')\n",
    "        ax1.fill_between(price[\"RSI30\"].index,30, price[\"RSI30\"],color='lightcoral')\n",
    "    ax1.axhline(y=70, color='g', linestyle='--')\n",
    "    ax1.axhline(y=30, color='r', linestyle='--')\n",
    "    ax1.set_yticks(range(0,110,10))\n",
    "    ax0.set(xlabel=\"Date\", ylabel=\"Stock Price\")\n",
    "    # ax0.legend([symbol])\n",
    "    ax1.set(xlabel=\"Date\", ylabel=\"RSI\")\n",
    "    ax1.legend(legend)\n",
    "    ax0.grid()\n",
    "    ax1.grid()\n",
    "    figureName = \"RelativeStrengthIndicator.png\"\n",
    "    if trimData:\n",
    "        figureName = \"RelativeStrengthIndicator_T.png\"    \n",
    "    figure.savefig(figureName)\n"
   ]
  },
  {
   "cell_type": "code",
   "execution_count": 27,
   "metadata": {},
   "outputs": [],
   "source": [
    "def plotBB(price,symbol,trimData=False,sd=dt.datetime(2008, 1, 1), ed=dt.datetime(2009,12,31)):\n",
    "    if trimData:\n",
    "        price = price[sd:ed]\n",
    "        # print(price)\n",
    "    figure, (ax0,ax1) = plt.subplots(2,figsize=(12, 8))\n",
    "    figure.suptitle(\"Bollinger Bands\")\n",
    "    ax0.plot(price[symbol+\"_Close\"],color='k')\n",
    "    ax0.plot(price[\"UBB\"],color='g', linestyle='--')\n",
    "    ax0.plot(price[\"LBB\"],color='r', linestyle='--')\n",
    "    dateRange = price[\"UBB\"].index\n",
    "    ax0.fill_between(dateRange,price[\"UBB\"], price[\"LBB\"], alpha=0.2)\n",
    "    ax0.plot(price[\"SMA\"],color='b')\n",
    "    ax0.set(xlabel=\"Date\", ylabel=\"Stock Price\")\n",
    "    ax0.legend([\"Closing Price\",\"Upper Bollinger Band\",\"Lower Bollinger Band\",\"Simple Moving Average\"])\n",
    "    \n",
    "    ax1.plot(price[\"BBP\"],color='blue')\n",
    "    price[\"BBP1\"] = price[\"BBP\"][price[\"BBP\"]>1]\n",
    "    price[\"BBP2\"] = price[\"BBP\"][price[\"BBP\"]<-1]\n",
    "    legend = [\"Bollinger Band %\"]\n",
    "    if trimData:\n",
    "        ax1.plot(price[\"BBP1\"],color='springgreen', marker='^')\n",
    "        ax1.plot(price[\"BBP2\"],color='lightcoral', marker='v')\n",
    "        legend = [\"Bollinger Band %\",\"Sell Signal\",\"Buy Signal\"]\n",
    "    else:\n",
    "        ax1.fill_between(price[\"BBP1\"].index,1, price[\"BBP1\"] ,color='springgreen')\n",
    "        ax1.fill_between(price[\"BBP2\"].index,-1, price[\"BBP2\"],color='lightcoral')\n",
    "    ax1.axhline(y=1, color='g', linestyle='--')\n",
    "    ax1.axhline(y=-1, color='r', linestyle='--')\n",
    "    ax1.set(xlabel=\"Date\", ylabel=\"Bollinger Band %\")\n",
    "    ax1.legend(legend)    \n",
    "    \n",
    "    ax0.grid()\n",
    "    ax1.grid()\n",
    "    \n",
    "    figureName = \"BollingerBand.png\"\n",
    "    if trimData:\n",
    "        figureName = \"BollingerBand_T.png\"    \n",
    "    figure.savefig(figureName)\n",
    "\n"
   ]
  },
  {
   "cell_type": "code",
   "execution_count": 28,
   "metadata": {},
   "outputs": [],
   "source": [
    "def plotMACD(price,symbol,trimData=False,sd=dt.datetime(2008, 1, 1), ed=dt.datetime(2009,12,31)):\n",
    "    if trimData:\n",
    "        price = price[sd:ed]\n",
    "    figure, (ax0,ax1) = plt.subplots(2,figsize=(12, 8))\n",
    "    # minMaxList = []\n",
    "    # minMaxList.append(-1*price[\"MACD\"].min())\n",
    "    # minMaxList.append(price[\"MACD\"].max())\n",
    "    # minMaxList.append(-1*price[\"MACD_EM9\"].min())\n",
    "    # minMaxList.append(price[\"MACD_EM9\"].max())\n",
    "    # maxRange = int(np.ceil(np.array(minMaxList).max()))\n",
    "    # print(maxRange)\n",
    "    positive = price[\"MACD_HIST\"][price[\"MACD_HIST\"]>0]\n",
    "    negative = price[\"MACD_HIST\"][price[\"MACD_HIST\"]<0]\n",
    "    \n",
    "    figure.suptitle(\"Moving Average Convergence Divergence\")\n",
    "    ax0.plot(price[symbol+\"_Close\"])\n",
    "    ax0.plot(price[\"EM12\"])\n",
    "    ax0.plot(price[\"EM26\"])\n",
    "    ax1.plot(price[\"MACD\"])\n",
    "    ax1.plot(price[\"MACD_EM9\"])\n",
    "    ax1.bar(positive.index,positive, width = 2, color='springgreen')\n",
    "    ax1.bar(negative.index,negative, width = 2, color='lightcoral')\n",
    "    ax1.axhline(y=0, color='k', linestyle='-')\n",
    "    ax0.set(xlabel=\"Date\", ylabel=\"Stock Price\")\n",
    "    ax0.legend([\"Closing Price\",\"12 Day EMA\",\"26 Day EMA\"])\n",
    "    ax1.set(xlabel=\"Date\", ylabel=\"MACD\")\n",
    "    ax1.legend([\"MACD\",\"9 Day EMA of MACD\"])    \n",
    "    ax0.grid()\n",
    "    ax1.grid()\n",
    "    # ax1.set_yticks(range(-1*maxRange,maxRange+1,1))\n",
    "    figure.savefig(\"MovingAverageConvergenceDivergence.png\")\n",
    "\n"
   ]
  },
  {
   "cell_type": "code",
   "execution_count": 31,
   "metadata": {},
   "outputs": [
    {
     "name": "stdout",
     "output_type": "stream",
     "text": [
      "Creating new connection for  RELIANCE  ETA 5s...\n"
     ]
    },
    {
     "ename": "FileNotFoundError",
     "evalue": "[Errno 2] No such file or directory: 'data//stocks//RELIANCE.20210219.csv'",
     "output_type": "error",
     "traceback": [
      "\u001b[1;31m---------------------------------------------------------------------------\u001b[0m",
      "\u001b[1;31mFileNotFoundError\u001b[0m                         Traceback (most recent call last)",
      "\u001b[1;32m<ipython-input-31-c905299c11ce>\u001b[0m in \u001b[0;36m<module>\u001b[1;34m\u001b[0m\n\u001b[0;32m      1\u001b[0m \u001b[1;31m#def callIndicators():\u001b[0m\u001b[1;33m\u001b[0m\u001b[1;33m\u001b[0m\u001b[1;33m\u001b[0m\u001b[0m\n\u001b[0;32m      2\u001b[0m \u001b[0msymbol\u001b[0m \u001b[1;33m=\u001b[0m \u001b[1;34m\"RELIANCE\"\u001b[0m\u001b[1;33m\u001b[0m\u001b[1;33m\u001b[0m\u001b[0m\n\u001b[1;32m----> 3\u001b[1;33m \u001b[0mticker\u001b[0m\u001b[1;33m,\u001b[0m \u001b[0mhist\u001b[0m \u001b[1;33m=\u001b[0m \u001b[0mgetHistoricPricing\u001b[0m\u001b[1;33m(\u001b[0m\u001b[0msymbol\u001b[0m\u001b[1;33m,\u001b[0m \u001b[1;34m\"10y\"\u001b[0m\u001b[1;33m)\u001b[0m\u001b[1;33m\u001b[0m\u001b[1;33m\u001b[0m\u001b[0m\n\u001b[0m\u001b[0;32m      4\u001b[0m \u001b[1;33m\u001b[0m\u001b[0m\n\u001b[0;32m      5\u001b[0m \u001b[0mrsi\u001b[0m \u001b[1;33m=\u001b[0m \u001b[0mRSI\u001b[0m\u001b[1;33m(\u001b[0m\u001b[0mhist\u001b[0m\u001b[1;33m,\u001b[0m\u001b[0msymbol\u001b[0m\u001b[1;33m,\u001b[0m\u001b[1;36m14\u001b[0m\u001b[1;33m)\u001b[0m\u001b[1;33m\u001b[0m\u001b[1;33m\u001b[0m\u001b[0m\n",
      "\u001b[1;32mE:\\Git Worthy Projects\\WannaStock\\YahoBuilt.py\u001b[0m in \u001b[0;36mgetHistoricPricing\u001b[1;34m(sym, renewRequired)\u001b[0m\n\u001b[0;32m     58\u001b[0m         \u001b[0mcolumnNames\u001b[0m \u001b[1;33m=\u001b[0m \u001b[0mhist\u001b[0m\u001b[1;33m.\u001b[0m\u001b[0mcolumns\u001b[0m\u001b[1;33m\u001b[0m\u001b[1;33m\u001b[0m\u001b[0m\n\u001b[0;32m     59\u001b[0m         \u001b[0mprint\u001b[0m\u001b[1;33m(\u001b[0m\u001b[0mcolumnNames\u001b[0m\u001b[1;33m)\u001b[0m\u001b[1;33m\u001b[0m\u001b[1;33m\u001b[0m\u001b[0m\n\u001b[1;32m---> 60\u001b[1;33m         \u001b[0mhist\u001b[0m\u001b[1;33m.\u001b[0m\u001b[0mcolumns\u001b[0m \u001b[1;33m=\u001b[0m \u001b[1;33m[\u001b[0m\u001b[0msym\u001b[0m\u001b[1;33m+\u001b[0m\u001b[1;34m\"_\"\u001b[0m\u001b[1;33m+\u001b[0m\u001b[0mcolumnNames\u001b[0m\u001b[1;33m[\u001b[0m\u001b[0mi\u001b[0m\u001b[1;33m]\u001b[0m \u001b[1;32mfor\u001b[0m \u001b[0mi\u001b[0m \u001b[1;32min\u001b[0m \u001b[0mrange\u001b[0m\u001b[1;33m(\u001b[0m\u001b[0mlen\u001b[0m\u001b[1;33m(\u001b[0m\u001b[0mcolumnNames\u001b[0m\u001b[1;33m)\u001b[0m\u001b[1;33m)\u001b[0m\u001b[1;33m]\u001b[0m\u001b[1;33m\u001b[0m\u001b[1;33m\u001b[0m\u001b[0m\n\u001b[0m\u001b[0;32m     61\u001b[0m         \u001b[0mhist\u001b[0m\u001b[1;33m.\u001b[0m\u001b[0mto_csv\u001b[0m\u001b[1;33m(\u001b[0m\u001b[0mstockPath\u001b[0m\u001b[1;33m)\u001b[0m\u001b[1;33m\u001b[0m\u001b[1;33m\u001b[0m\u001b[0m\n\u001b[0;32m     62\u001b[0m     \u001b[1;32mreturn\u001b[0m \u001b[0mhist\u001b[0m\u001b[1;33m\u001b[0m\u001b[1;33m\u001b[0m\u001b[0m\n",
      "\u001b[1;32mc:\\users\\dell\\appdata\\local\\programs\\python\\python38\\lib\\site-packages\\pandas\\core\\generic.py\u001b[0m in \u001b[0;36mto_csv\u001b[1;34m(self, path_or_buf, sep, na_rep, float_format, columns, header, index, index_label, mode, encoding, compression, quoting, quotechar, line_terminator, chunksize, date_format, doublequote, escapechar, decimal, errors, storage_options)\u001b[0m\n\u001b[0;32m   3382\u001b[0m         )\n\u001b[0;32m   3383\u001b[0m \u001b[1;33m\u001b[0m\u001b[0m\n\u001b[1;32m-> 3384\u001b[1;33m         return DataFrameRenderer(formatter).to_csv(\n\u001b[0m\u001b[0;32m   3385\u001b[0m             \u001b[0mpath_or_buf\u001b[0m\u001b[1;33m,\u001b[0m\u001b[1;33m\u001b[0m\u001b[1;33m\u001b[0m\u001b[0m\n\u001b[0;32m   3386\u001b[0m             \u001b[0mline_terminator\u001b[0m\u001b[1;33m=\u001b[0m\u001b[0mline_terminator\u001b[0m\u001b[1;33m,\u001b[0m\u001b[1;33m\u001b[0m\u001b[1;33m\u001b[0m\u001b[0m\n",
      "\u001b[1;32mc:\\users\\dell\\appdata\\local\\programs\\python\\python38\\lib\\site-packages\\pandas\\io\\formats\\format.py\u001b[0m in \u001b[0;36mto_csv\u001b[1;34m(self, path_or_buf, encoding, sep, columns, index_label, mode, compression, quoting, quotechar, line_terminator, chunksize, date_format, doublequote, escapechar, errors, storage_options)\u001b[0m\n\u001b[0;32m   1081\u001b[0m             \u001b[0mformatter\u001b[0m\u001b[1;33m=\u001b[0m\u001b[0mself\u001b[0m\u001b[1;33m.\u001b[0m\u001b[0mfmt\u001b[0m\u001b[1;33m,\u001b[0m\u001b[1;33m\u001b[0m\u001b[1;33m\u001b[0m\u001b[0m\n\u001b[0;32m   1082\u001b[0m         )\n\u001b[1;32m-> 1083\u001b[1;33m         \u001b[0mcsv_formatter\u001b[0m\u001b[1;33m.\u001b[0m\u001b[0msave\u001b[0m\u001b[1;33m(\u001b[0m\u001b[1;33m)\u001b[0m\u001b[1;33m\u001b[0m\u001b[1;33m\u001b[0m\u001b[0m\n\u001b[0m\u001b[0;32m   1084\u001b[0m \u001b[1;33m\u001b[0m\u001b[0m\n\u001b[0;32m   1085\u001b[0m         \u001b[1;32mif\u001b[0m \u001b[0mcreated_buffer\u001b[0m\u001b[1;33m:\u001b[0m\u001b[1;33m\u001b[0m\u001b[1;33m\u001b[0m\u001b[0m\n",
      "\u001b[1;32mc:\\users\\dell\\appdata\\local\\programs\\python\\python38\\lib\\site-packages\\pandas\\io\\formats\\csvs.py\u001b[0m in \u001b[0;36msave\u001b[1;34m(self)\u001b[0m\n\u001b[0;32m    226\u001b[0m         \"\"\"\n\u001b[0;32m    227\u001b[0m         \u001b[1;31m# apply compression and byte/text conversion\u001b[0m\u001b[1;33m\u001b[0m\u001b[1;33m\u001b[0m\u001b[1;33m\u001b[0m\u001b[0m\n\u001b[1;32m--> 228\u001b[1;33m         with get_handle(\n\u001b[0m\u001b[0;32m    229\u001b[0m             \u001b[0mself\u001b[0m\u001b[1;33m.\u001b[0m\u001b[0mfilepath_or_buffer\u001b[0m\u001b[1;33m,\u001b[0m\u001b[1;33m\u001b[0m\u001b[1;33m\u001b[0m\u001b[0m\n\u001b[0;32m    230\u001b[0m             \u001b[0mself\u001b[0m\u001b[1;33m.\u001b[0m\u001b[0mmode\u001b[0m\u001b[1;33m,\u001b[0m\u001b[1;33m\u001b[0m\u001b[1;33m\u001b[0m\u001b[0m\n",
      "\u001b[1;32mc:\\users\\dell\\appdata\\local\\programs\\python\\python38\\lib\\site-packages\\pandas\\io\\common.py\u001b[0m in \u001b[0;36mget_handle\u001b[1;34m(path_or_buf, mode, encoding, compression, memory_map, is_text, errors, storage_options)\u001b[0m\n\u001b[0;32m    637\u001b[0m         \u001b[1;32mif\u001b[0m \u001b[0mioargs\u001b[0m\u001b[1;33m.\u001b[0m\u001b[0mencoding\u001b[0m \u001b[1;32mand\u001b[0m \u001b[1;34m\"b\"\u001b[0m \u001b[1;32mnot\u001b[0m \u001b[1;32min\u001b[0m \u001b[0mioargs\u001b[0m\u001b[1;33m.\u001b[0m\u001b[0mmode\u001b[0m\u001b[1;33m:\u001b[0m\u001b[1;33m\u001b[0m\u001b[1;33m\u001b[0m\u001b[0m\n\u001b[0;32m    638\u001b[0m             \u001b[1;31m# Encoding\u001b[0m\u001b[1;33m\u001b[0m\u001b[1;33m\u001b[0m\u001b[1;33m\u001b[0m\u001b[0m\n\u001b[1;32m--> 639\u001b[1;33m             handle = open(\n\u001b[0m\u001b[0;32m    640\u001b[0m                 \u001b[0mhandle\u001b[0m\u001b[1;33m,\u001b[0m\u001b[1;33m\u001b[0m\u001b[1;33m\u001b[0m\u001b[0m\n\u001b[0;32m    641\u001b[0m                 \u001b[0mioargs\u001b[0m\u001b[1;33m.\u001b[0m\u001b[0mmode\u001b[0m\u001b[1;33m,\u001b[0m\u001b[1;33m\u001b[0m\u001b[1;33m\u001b[0m\u001b[0m\n",
      "\u001b[1;31mFileNotFoundError\u001b[0m: [Errno 2] No such file or directory: 'data//stocks//RELIANCE.20210219.csv'"
     ]
    }
   ],
   "source": [
    "#def callIndicators():\n",
    "symbol = \"RELIANCE.NS\"\n",
    "ticker, hist = getHistoricPricing(symbol, \"10y\")\n",
    "\n",
    "rsi = RSI(hist,symbol,14)\n",
    "plotRSI(rsi,symbol)\n",
    "plotRSI(rsi,symbol,True,dt.datetime(2020, 1, 1),dt.datetime(2020,12,1))\n",
    "# print(rsi)\n",
    "\n",
    "bb = BB(hist,symbol)\n",
    "plotBB(bb,symbol)\n",
    "plotBB(bb,symbol,True,dt.datetime(2020, 1, 1),dt.datetime(2020,12,1))\n",
    "# print(bb)\n",
    "    \n",
    "macd = MACD(hist,symbol)\n",
    "plotMACD(macd,symbol)\n",
    "plotMACD(macd,symbol,True,dt.datetime(2020, 1, 1),dt.datetime(2020,12,1))"
   ]
  },
  {
   "cell_type": "code",
   "execution_count": null,
   "metadata": {},
   "outputs": [],
   "source": []
  },
  {
   "cell_type": "code",
   "execution_count": null,
   "metadata": {},
   "outputs": [],
   "source": []
  },
  {
   "cell_type": "code",
   "execution_count": null,
   "metadata": {},
   "outputs": [],
   "source": []
  },
  {
   "cell_type": "code",
   "execution_count": null,
   "metadata": {},
   "outputs": [],
   "source": []
  },
  {
   "cell_type": "code",
   "execution_count": null,
   "metadata": {},
   "outputs": [],
   "source": []
  },
  {
   "cell_type": "code",
   "execution_count": null,
   "metadata": {},
   "outputs": [],
   "source": []
  }
 ],
 "metadata": {
  "kernelspec": {
   "display_name": "Python 3",
   "language": "python",
   "name": "python3"
  },
  "language_info": {
   "codemirror_mode": {
    "name": "ipython",
    "version": 3
   },
   "file_extension": ".py",
   "mimetype": "text/x-python",
   "name": "python",
   "nbconvert_exporter": "python",
   "pygments_lexer": "ipython3",
   "version": "3.8.5"
  }
 },
 "nbformat": 4,
 "nbformat_minor": 4
}
