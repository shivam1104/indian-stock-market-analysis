{
 "cells": [
  {
   "cell_type": "markdown",
   "metadata": {
    "_cell_guid": "79c7e3d0-c299-4dcb-8224-4455121ee9b0",
    "_uuid": "d629ff2d2480ee46fbb7e2d37f6b5fab8052498a",
    "collapsed": true
   },
   "source": [
    "# Import the necessary libraries\n"
   ]
  },
  {
   "cell_type": "code",
   "execution_count": null,
   "metadata": {
    "_cell_guid": "86332eb7-dd74-457c-ae09-e551a1793c56",
    "_uuid": "d74db710f9ae2b34d332e17ab8cb8102d5d1d995",
    "collapsed": true
   },
   "outputs": [],
   "source": [
    "import pandas as pd\n",
    "import seaborn as sns\n",
    "import matplotlib.pyplot as plt\n",
    "from sklearn.model_selection import train_test_split\n",
    "from sklearn.metrics import r2_score, mean_squared_error\n",
    "from sklearn.linear_model import ElasticNet, LassoLars, Ridge, LinearRegression, Lasso\n",
    "from sklearn.preprocessing import LabelEncoder, StandardScaler, PolynomialFeatures\n",
    "%matplotlib inline\n",
    "plt.style.use('ggplot')"
   ]
  },
  {
   "cell_type": "markdown",
   "metadata": {
    "_cell_guid": "0302e2bf-1854-4aa0-9ac6-8a2afc0d63f6",
    "_uuid": "60685e8c0bae47e93e9d23fdcb0222ebe1147803"
   },
   "source": [
    "#### Load the data into a dataframe"
   ]
  },
  {
   "cell_type": "code",
   "execution_count": null,
   "metadata": {
    "_cell_guid": "05deb309-46ee-4780-be43-a68f03712a50",
    "_uuid": "d0eac583db106d1d39f22acb6ae38333f6427634",
    "scrolled": true
   },
   "outputs": [],
   "source": [
    "df = pd.read_csv('../input/diamonds.csv',delimiter=',')\n",
    "df.head()"
   ]
  },
  {
   "cell_type": "code",
   "execution_count": null,
   "metadata": {
    "_cell_guid": "e0fc3ab0-c18c-45dc-b49c-4f58853976ea",
    "_uuid": "bf70b65f59fabe7aed293e8269e2a6c58268d19e"
   },
   "outputs": [],
   "source": [
    "df.info()"
   ]
  },
  {
   "cell_type": "markdown",
   "metadata": {
    "_cell_guid": "4aaf7f03-7033-4c0c-8eb5-296b13d27683",
    "_uuid": "9d26672beaf625d6fc30b2cf5d8cfa8535cfdef1"
   },
   "source": [
    "There are no missing values in the dataset."
   ]
  },
  {
   "cell_type": "markdown",
   "metadata": {
    "_cell_guid": "a01a8ae2-2bfe-49bb-90ba-6ce49aa5b3fa",
    "_uuid": "d2a03cd8323d7f279db58a41cf8071ff231a09e2"
   },
   "source": [
    "Drop the first column and the *x*, *y*,*z* columns as the total depth and the table width will be used for further analysis."
   ]
  },
  {
   "cell_type": "code",
   "execution_count": null,
   "metadata": {
    "_cell_guid": "50bb9bbd-aead-4cf8-816d-8921d3c20421",
    "_uuid": "743954c687e2f156aeb583ebf4341b66f32b1193",
    "collapsed": true
   },
   "outputs": [],
   "source": [
    "df.drop(['Unnamed: 0','x','y','z'],inplace=True, axis=1)\n",
    "df.head()"
   ]
  },
  {
   "cell_type": "markdown",
   "metadata": {
    "_cell_guid": "dc056ed0-580e-4911-8d67-2175c0149283",
    "_uuid": "008c15b5befda856e39eaec693e03a4b1f090284"
   },
   "source": [
    "# Data Visualization"
   ]
  },
  {
   "cell_type": "markdown",
   "metadata": {
    "_cell_guid": "b35cc145-5540-4edd-82ad-f09b9e367195",
    "_uuid": "a6379019de4ffad95c7445fde5102ee34f34c1c7"
   },
   "source": [
    "Various count plots."
   ]
  },
  {
   "cell_type": "code",
   "execution_count": null,
   "metadata": {
    "_cell_guid": "6ccaee63-c8e4-4221-81ec-69f11f38b0a9",
    "_uuid": "338809d4721b379e7ad5958801638a7221a80762"
   },
   "outputs": [],
   "source": [
    "f, ax = plt.subplots(3, figsize=(12,18))\n",
    "sns.countplot('cut', data=df, ax=ax[0])\n",
    "sns.countplot('color', data=df, ax=ax[1])\n",
    "sns.countplot('clarity', data=df, ax=ax[2])\n",
    "ax[0].set_title('Diamond cut')\n",
    "ax[1].set_title('Colour of the diamond')\n",
    "ax[2].set_title('Clarity of the diamond')"
   ]
  },
  {
   "cell_type": "markdown",
   "metadata": {
    "_cell_guid": "24ac8821-dc94-4289-9312-ec5f2f89a8ec",
    "_uuid": "71d3142c6fca663068b6d4a30021453b48dd76d7"
   },
   "source": [
    "From the above plots, the following observations could be made:\n",
    "* Quite a lot of diamonds have an *Ideal* cut following by *Premium* and *Very Good.*\n",
    "* The dataset contains good distribution of various colours, with *I* and *J* having the least number.\n",
    "* Only a small fraction of the diamonds have the best quality while even smaller fracition of the dianonds have poor quality."
   ]
  },
  {
   "cell_type": "markdown",
   "metadata": {
    "_cell_guid": "25c38701-d650-4f27-b07f-8871ede07e23",
    "_uuid": "720b6793560b3e5d8230b54ebfbc7dd723e45a28"
   },
   "source": [
    "#### Describe the characteristics of the columns containing numeric values."
   ]
  },
  {
   "cell_type": "code",
   "execution_count": null,
   "metadata": {
    "_cell_guid": "a0e3a4a7-1c3b-4698-8438-ae2ad4eb35f5",
    "_uuid": "a1f637e045af3ba7ea144b40f6378c5ee0969a10"
   },
   "outputs": [],
   "source": [
    "df.describe()"
   ]
  },
  {
   "cell_type": "code",
   "execution_count": null,
   "metadata": {
    "_cell_guid": "7cf1b9aa-2840-44d6-8379-17daebc3a6d0",
    "_uuid": "098cbe9f00eab2e4c894fb226c2f53b8a42580a6"
   },
   "outputs": [],
   "source": [
    "f, ax = plt.subplots(4, figsize=(12,24))\n",
    "sns.distplot(df.carat,color='c',ax=ax[0])\n",
    "sns.distplot(df.depth,color='c',ax=ax[1])\n",
    "sns.distplot(df.table,color='c',ax=ax[2])\n",
    "sns.distplot(df.price,color='c',ax=ax[3])\n",
    "ax[0].set_title('Diamond carat distribution')\n",
    "ax[1].set_title('Total depth distribution')\n",
    "ax[2].set_title('Table width distribution')\n",
    "ax[3].set_title('Price distribution')"
   ]
  },
  {
   "cell_type": "markdown",
   "metadata": {
    "_cell_guid": "969b5b53-43ad-4462-81cb-ab64dc2039c6",
    "_uuid": "d76d09c78f848e3682ba7214aac548a0673b60b9"
   },
   "source": [
    "* Most of the diamonds in the dataset are below 2 carats.\n",
    "* The depth peaks at around 62.\n",
    "* Table width peaks around 58.\n",
    "* Most of the diamonds in the dataset sold are less than $5000."
   ]
  },
  {
   "cell_type": "markdown",
   "metadata": {
    "_cell_guid": "119c7da9-f958-4e5b-b440-08099c28ca73",
    "_uuid": "f34f9fa2be30785e0107b295809de71ac4af3010"
   },
   "source": [
    "#### More plots to understand the variation of price"
   ]
  },
  {
   "cell_type": "code",
   "execution_count": null,
   "metadata": {
    "_cell_guid": "5b35e4c6-47b4-483a-845c-d8b25defaa23",
    "_uuid": "97690ad5bad011c00b17b70d332359cf92e61533"
   },
   "outputs": [],
   "source": [
    "f, ax = plt.subplots(3,figsize=(12,16))\n",
    "sns.violinplot(x='clarity',y='price',data=df,ax=ax[2])\n",
    "sns.violinplot(x='color',y='price',data=df,ax=ax[1])\n",
    "sns.violinplot(x='cut',y='price',data=df,ax=ax[0])\n",
    "ax[0].set_title('Cut vs Price')\n",
    "ax[1].set_title('Color vs Price')\n",
    "ax[2].set_title('Clarity vs Price')"
   ]
  },
  {
   "cell_type": "code",
   "execution_count": null,
   "metadata": {
    "_cell_guid": "1f693cf4-978b-4d20-9bbb-d33a1be98831",
    "_uuid": "29c0903a54b8a46d39a2b7e65c8459ad4a7358a1"
   },
   "outputs": [],
   "source": [
    "sns.jointplot(x='carat',y='price',data=df,color='c')"
   ]
  },
  {
   "cell_type": "markdown",
   "metadata": {
    "_cell_guid": "c1cf424d-fa28-42fe-961a-890e86b245b4",
    "_uuid": "a6a23db54a70864712b4dc5ce00679ca9fd20564"
   },
   "source": [
    "# Regression"
   ]
  },
  {
   "cell_type": "markdown",
   "metadata": {
    "_cell_guid": "a7de6fff-6484-4216-9d5e-0d9eca66f8c0",
    "_uuid": "a499c2233dc1eb947e36af46d8213d448c20fb5e"
   },
   "source": [
    "Convert the non-numeric data into numbers."
   ]
  },
  {
   "cell_type": "code",
   "execution_count": null,
   "metadata": {
    "_cell_guid": "a23f2fd5-ef52-4f43-b5df-a0bf832f8e6d",
    "_uuid": "3519238fca96a4cf049d8e791fb82850e90a68eb"
   },
   "outputs": [],
   "source": [
    "le = LabelEncoder()\n",
    "df.cut = le.fit_transform(df.cut)\n",
    "df.color = le.fit_transform(df.color)\n",
    "df.clarity = le.fit_transform(df.clarity)\n",
    "df.info()"
   ]
  },
  {
   "cell_type": "code",
   "execution_count": null,
   "metadata": {
    "_cell_guid": "396c58fb-3495-4a2f-af1d-1cb4d1de6eeb",
    "_uuid": "96a06c31888b2d07fc2568fceeb2867c4a00de00",
    "collapsed": true
   },
   "outputs": [],
   "source": [
    "x = df.drop('price',axis=1)\n",
    "y = df.price"
   ]
  },
  {
   "cell_type": "code",
   "execution_count": null,
   "metadata": {
    "_cell_guid": "4a67bfd7-2292-41b3-ba2a-b37e27a82325",
    "_uuid": "d14ff6332194578be16bb073846050058a8bf246",
    "collapsed": true
   },
   "outputs": [],
   "source": [
    "x_train,x_, y_train,y_ = train_test_split(x,y,test_size=0.15,random_state=25)\n",
    "x_dev,x_test,y_dev,y_test = train_test_split(x_,y_,test_size=0.5,random_state=25)"
   ]
  },
  {
   "cell_type": "code",
   "execution_count": null,
   "metadata": {
    "_cell_guid": "338f852d-65dd-4424-ad10-01d3ac46191c",
    "_uuid": "97ed50767db6033bdfd99140ceee04b14b655665"
   },
   "outputs": [],
   "source": [
    "sc = StandardScaler()\n",
    "sc.fit(x_train)\n",
    "sc.transform(x_train)\n",
    "sc.transform(x_dev)"
   ]
  },
  {
   "cell_type": "markdown",
   "metadata": {
    "_cell_guid": "252b2599-3cea-42d2-b242-333e3dc9a8e2",
    "_uuid": "62cc75b250826244a69cf6ab5e98ddafc76b56a0"
   },
   "source": [
    "#### Linear Model"
   ]
  },
  {
   "cell_type": "code",
   "execution_count": null,
   "metadata": {
    "_cell_guid": "f1d81430-4ca0-4999-b8a3-4e5376ffb0a3",
    "_uuid": "c5956e197fbcdb443be2550fb325dcd05e7d3efe"
   },
   "outputs": [],
   "source": [
    "clf = LinearRegression()\n",
    "clf.fit(x_train,y_train)\n",
    "print('Training score: {:0.3f}'.format(r2_score(y_train,clf.predict(x_train))))\n",
    "print('Training MSE: {:0.3f}'.format(mean_squared_error(y_train,clf.predict(x_train))))\n",
    "print('Dev set score: {:0.3f}'.format(r2_score(y_dev,clf.predict(x_dev))))\n",
    "print('Dev set MSE: {:0.3f}'.format(mean_squared_error(y_dev,clf.predict(x_dev))))\n",
    "print('Coefficients: {}\\n Intercept: {}'.format(clf.coef_,clf.intercept_))"
   ]
  },
  {
   "cell_type": "code",
   "execution_count": null,
   "metadata": {
    "_cell_guid": "ff892301-aea0-4888-bcc7-4fae57d370fa",
    "_uuid": "5a88b162ad8c45715d157795f3a34636bd845f58"
   },
   "outputs": [],
   "source": [
    "clf = ElasticNet(alpha=1)\n",
    "clf.fit(x_train,y_train)\n",
    "print('Training score: {:0.3f}'.format(r2_score(y_train,clf.predict(x_train))))\n",
    "print('Training MSE: {:0.3f}'.format(mean_squared_error(y_train,clf.predict(x_train))))\n",
    "print('Dev set score: {:0.3f}'.format(r2_score(y_dev,clf.predict(x_dev))))\n",
    "print('Dev set MSE: {:0.3f}'.format(mean_squared_error(y_dev,clf.predict(x_dev))))\n",
    "print('Coefficients: {}\\n Intercept: {}'.format(clf.coef_,clf.intercept_))"
   ]
  },
  {
   "cell_type": "code",
   "execution_count": null,
   "metadata": {
    "_cell_guid": "03fedcd1-6b4d-485b-840c-ff3416c556a1",
    "_uuid": "eb99e702ea1cbc81889596a00019d783e58fd096"
   },
   "outputs": [],
   "source": [
    "clf = Ridge(alpha=10)\n",
    "clf.fit(x_train,y_train)\n",
    "print('Training score: {:0.3f}'.format(r2_score(y_train,clf.predict(x_train))))\n",
    "print('Training MSE: {:0.3f}'.format(mean_squared_error(y_train,clf.predict(x_train))))\n",
    "print('Dev set score: {:0.3f}'.format(r2_score(y_dev,clf.predict(x_dev))))\n",
    "print('Dev set MSE: {:0.3f}'.format(mean_squared_error(y_dev,clf.predict(x_dev))))\n",
    "print('Coefficients: {}\\n Intercept: {}'.format(clf.coef_,clf.intercept_))"
   ]
  },
  {
   "cell_type": "code",
   "execution_count": null,
   "metadata": {
    "_cell_guid": "39ed5cba-6511-4703-bada-0bf851b362b5",
    "_uuid": "bd60ba9bbeb5363fccf3a64cc693f2f4328fac9b"
   },
   "outputs": [],
   "source": [
    "clf = LassoLars(alpha=1)\n",
    "clf.fit(x_train,y_train)\n",
    "print('Training score: {:0.3f}'.format(r2_score(y_train,clf.predict(x_train))))\n",
    "print('Training MSE: {:0.3f}'.format(mean_squared_error(y_train,clf.predict(x_train))))\n",
    "print('Dev set score: {:0.3f}'.format(r2_score(y_dev,clf.predict(x_dev))))\n",
    "print('Dev set MSE: {:0.3f}'.format(mean_squared_error(y_dev,clf.predict(x_dev))))\n",
    "print('Coefficients: {}\\n Intercept: {}'.format(clf.coef_,clf.intercept_))"
   ]
  },
  {
   "cell_type": "code",
   "execution_count": null,
   "metadata": {
    "_cell_guid": "2411cc31-4414-487f-a268-14cfcd9e56fb",
    "_uuid": "2126466b2dbf306115058e754d0a7d76bfbcfa48"
   },
   "outputs": [],
   "source": [
    "clf = Lasso(alpha=40)\n",
    "clf.fit(x_train,y_train)\n",
    "print('Training score: {:0.3f}'.format(r2_score(y_train,clf.predict(x_train))))\n",
    "print('Training MSE: {:0.3f}'.format(mean_squared_error(y_train,clf.predict(x_train))))\n",
    "print('Dev set score: {:0.3f}'.format(r2_score(y_dev,clf.predict(x_dev))))\n",
    "print('Dev set MSE: {:0.3f}'.format(mean_squared_error(y_dev,clf.predict(x_dev))))\n",
    "print('Coefficients: {}\\n Intercept: {}'.format(clf.coef_,clf.intercept_))"
   ]
  },
  {
   "cell_type": "markdown",
   "metadata": {
    "_cell_guid": "19de87cf-0ed0-4af7-bf30-0771761a8f89",
    "_uuid": "4515d6e126f1ba92b3b180ba6b832a6d11308174"
   },
   "source": [
    "### Polynomial model\n",
    "\n",
    "LassoLars and ElasticNet were not chosen for further analysis due to poor performance."
   ]
  },
  {
   "cell_type": "code",
   "execution_count": null,
   "metadata": {
    "_cell_guid": "116b79f9-4021-4df7-a48b-f81baa6f8741",
    "_uuid": "bed5cd742509b04e5a6234b5b614468ba1747286",
    "collapsed": true
   },
   "outputs": [],
   "source": [
    "poly = PolynomialFeatures(2)\n",
    "x_train = poly.fit_transform(x_train)\n",
    "x_dev = poly.fit_transform(x_dev)"
   ]
  },
  {
   "cell_type": "code",
   "execution_count": null,
   "metadata": {
    "_cell_guid": "f651df09-4071-430f-8699-2db4a1eadd0f",
    "_uuid": "7869b893428880ab9bb610679ef4b9cd0393d294"
   },
   "outputs": [],
   "source": [
    "clf = LinearRegression()\n",
    "clf.fit(x_train,y_train)\n",
    "print('Training score: {:0.3f}'.format(r2_score(y_train,clf.predict(x_train))))\n",
    "print('Training MSE: {:0.3f}'.format(mean_squared_error(y_train,clf.predict(x_train))))\n",
    "print('Dev set score: {:0.3f}'.format(r2_score(y_dev,clf.predict(x_dev))))\n",
    "print('Dev set MSE: {:0.3f}'.format(mean_squared_error(y_dev,clf.predict(x_dev))))\n",
    "print('Coefficients: {}\\n Intercept: {}'.format(clf.coef_,clf.intercept_))"
   ]
  },
  {
   "cell_type": "code",
   "execution_count": null,
   "metadata": {
    "_cell_guid": "33cd805c-9375-4027-a240-cf9dc37180a6",
    "_uuid": "a961913795664389a929fe0d84ce80ce91e2122c"
   },
   "outputs": [],
   "source": [
    "clf = Ridge(alpha=10)\n",
    "clf.fit(x_train,y_train)\n",
    "print('Training score: {:0.3f}'.format(r2_score(y_train,clf.predict(x_train))))\n",
    "print('Training MSE: {:0.3f}'.format(mean_squared_error(y_train,clf.predict(x_train))))\n",
    "print('Dev set score: {:0.3f}'.format(r2_score(y_dev,clf.predict(x_dev))))\n",
    "print('Dev set MSE: {:0.3f}'.format(mean_squared_error(y_dev,clf.predict(x_dev))))\n",
    "print('Coefficients: {}\\n Intercept: {}'.format(clf.coef_,clf.intercept_))"
   ]
  },
  {
   "cell_type": "code",
   "execution_count": null,
   "metadata": {
    "_cell_guid": "0a62035a-30f8-47ef-97a9-061bd1af24ed",
    "_uuid": "c6b4ad78d667d63fe20f38ba01f7f36f0e8b3769"
   },
   "outputs": [],
   "source": [
    "clf = Lasso(alpha=30,max_iter=5000)\n",
    "clf.fit(x_train,y_train)\n",
    "print('Training score: {:0.3f}'.format(r2_score(y_train,clf.predict(x_train))))\n",
    "print('Training MSE: {:0.3f}'.format(mean_squared_error(y_train,clf.predict(x_train))))\n",
    "print('Dev set score: {:0.3f}'.format(r2_score(y_dev,clf.predict(x_dev))))\n",
    "print('Dev set MSE: {:0.3f}'.format(mean_squared_error(y_dev,clf.predict(x_dev))))\n",
    "print('Coefficients: {}\\n Intercept: {}'.format(clf.coef_,clf.intercept_))"
   ]
  },
  {
   "cell_type": "markdown",
   "metadata": {
    "_cell_guid": "e62ab9ca-89ca-40d8-9aca-82c3d11df2f7",
    "_uuid": "c658d98a1f465bb72addcccbab127acdf16abc66"
   },
   "source": [
    "All the three models showed comparable performance but Lasso was chosen as it had a simpler model due to sparsity."
   ]
  },
  {
   "cell_type": "code",
   "execution_count": null,
   "metadata": {
    "_cell_guid": "bd147ef8-98bb-43f3-ab19-3556531d0fed",
    "_uuid": "20d0c46d5f54f428c7e093cfbd98cd879dac6369"
   },
   "outputs": [],
   "source": [
    "sc.transform(x_test)\n",
    "x_test = poly.transform(x_test)\n",
    "print('Test set score: {:0.3f}'.format(r2_score(y_test,clf.predict(x_test))))\n",
    "print('Test set MSE: {:0.3f}'.format(mean_squared_error(y_test,clf.predict(x_test))))"
   ]
  },
  {
   "cell_type": "code",
   "execution_count": null,
   "metadata": {
    "_uuid": "ee173f8efbc101fc19c6ec90f551124a451aad1c",
    "collapsed": true
   },
   "outputs": [],
   "source": []
  }
 ],
 "metadata": {
  "kernelspec": {
   "display_name": "Python 3",
   "language": "python",
   "name": "python3"
  },
  "language_info": {
   "codemirror_mode": {
    "name": "ipython",
    "version": 3
   },
   "file_extension": ".py",
   "mimetype": "text/x-python",
   "name": "python",
   "nbconvert_exporter": "python",
   "pygments_lexer": "ipython3",
   "version": "3.8.5"
  }
 },
 "nbformat": 4,
 "nbformat_minor": 1
}
