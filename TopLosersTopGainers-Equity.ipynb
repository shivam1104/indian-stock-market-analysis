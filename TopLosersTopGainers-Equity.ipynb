{
 "cells": [
  {
   "cell_type": "code",
   "execution_count": 10,
   "metadata": {},
   "outputs": [],
   "source": [
    "from nsetools import Nse\n",
    "from pprint import pprint\n",
    "from csv import writer\n",
    "import pandas as pd\n",
    "from datetime import date\n",
    "\n",
    "today = date.today()"
   ]
  },
  {
   "cell_type": "code",
   "execution_count": 4,
   "metadata": {},
   "outputs": [],
   "source": [
    "\n",
    "nse= Nse()\n",
    "\n",
    "#this list just stores names of the required stocks so that\n",
    "#you can use this directly into your code and use accordingly\n",
    "\n",
    "\n",
    "#top gainers\n",
    "top_gainers = pd.DataFrame(nse.get_top_gainers())\n"
   ]
  },
  {
   "cell_type": "code",
   "execution_count": 5,
   "metadata": {},
   "outputs": [
    {
     "name": "stdout",
     "output_type": "stream",
     "text": [
      "       symbol series  openPrice  highPrice  lowPrice       ltp  previousPrice  \\\n",
      "0  ADANIPORTS     EQ      592.3     621.65    586.10    611.75         591.85   \n",
      "1   ICICIBANK     EQ      629.9     649.90    629.40    647.05         630.65   \n",
      "2        INFY     EQ     1305.0    1323.75   1301.55   1312.00        1292.65   \n",
      "3    AXISBANK     EQ      735.5     754.70    734.55    749.90         740.10   \n",
      "4    HDFCBANK     EQ     1573.9    1592.50   1573.00   1589.55        1572.35   \n",
      "5       WIPRO     EQ      440.0     449.20    439.60    441.70         437.00   \n",
      "6        HDFC     EQ     2746.0    2809.00   2735.60   2789.00        2760.60   \n",
      "7  BAJAJFINSV     EQ    10250.0   10331.15  10168.00  10300.00       10216.65   \n",
      "8        SBIN     EQ      391.0     399.35    385.55    392.95         390.15   \n",
      "9      GRASIM     EQ     1244.0    1254.80   1221.05   1239.75        1235.45   \n",
      "\n",
      "   netPrice  tradedQuantity  turnoverInLakhs lastCorpAnnouncementDate  \\\n",
      "0      3.36      24953701.0        151346.69              17-Jun-2020   \n",
      "1      2.60      19049709.0        122221.03              22-Jul-2019   \n",
      "2      1.50       5797875.0         76085.51              23-Oct-2020   \n",
      "3      1.32      15668442.0        117029.16              04-Jul-2019   \n",
      "4      1.09       4955053.0         78505.38              19-Sep-2019   \n",
      "5      1.08      19280834.0         85720.66              22-Jan-2021   \n",
      "6      1.03       2921180.0         81256.42              09-Jul-2020   \n",
      "7      0.82        380285.0         38929.47              03-Mar-2020   \n",
      "8      0.72      53589755.0        210248.69              15-Jun-2018   \n",
      "9      0.35       3421387.0         42522.37              26-Aug-2020   \n",
      "\n",
      "                                lastCorpAnnouncement  \n",
      "0                             Annual General Meeting  \n",
      "1   Annual General Meeting/Dividend - Re 1 Per Share  \n",
      "2                 Interim Dividend - Rs 12 Per Share  \n",
      "3  Annual General Meeting/ Dividend - Re 1 Per Share  \n",
      "4  Face Value Split (Sub-Division) - From Rs 2 Pe...  \n",
      "5                  Interim Dividend - Re 1 Per Share  \n",
      "6  Annual General Meeting/Dividend - Rs 21 Per Share  \n",
      "7                  Interim Dividend - Rs 5 Per Share  \n",
      "8  Annual General Meeting/ Change In Registrar An...  \n",
      "9                          Dividend - Rs 4 Per Share  \n"
     ]
    }
   ],
   "source": [
    "print(top_gainers)"
   ]
  },
  {
   "cell_type": "code",
   "execution_count": 6,
   "metadata": {},
   "outputs": [
    {
     "name": "stdout",
     "output_type": "stream",
     "text": [
      "       symbol series  openPrice  highPrice  lowPrice      ltp  previousPrice  \\\n",
      "0         ITC     EQ     225.75     225.75    215.80   217.60         226.45   \n",
      "1        GAIL     EQ     136.95     137.25    132.35   132.70         136.45   \n",
      "2        ONGC     EQ      98.90      99.40     96.55    97.00          99.45   \n",
      "3   SUNPHARMA     EQ     654.40     654.40    622.35   628.50         643.65   \n",
      "4   COALINDIA     EQ     136.50     137.00    132.75   133.95         137.15   \n",
      "5   TATASTEEL     EQ     695.00     697.90    678.50   679.80         694.70   \n",
      "6  BHARTIARTL     EQ     597.85     597.85    584.60   585.90         598.10   \n",
      "7       TITAN     EQ    1536.70    1536.70   1491.00  1495.00        1524.70   \n",
      "8   EICHERMOT     EQ    2840.00    2844.95   2765.05  2774.00        2818.15   \n",
      "9    HINDALCO     EQ     297.00     297.25    286.50   291.00         295.40   \n",
      "\n",
      "  netPrice  tradedQuantity  turnoverInLakhs lastCorpAnnouncementDate  \\\n",
      "0    -3.91     110568108.0        241834.57              22-Feb-2021   \n",
      "1    -2.75      13980720.0         18757.93              27-Jan-2021   \n",
      "2    -2.46      18187705.0         17742.11              17-Feb-2021   \n",
      "3    -2.35      15471776.0         98005.97              09-Feb-2021   \n",
      "4    -2.33      16453706.0         22071.00              19-Nov-2020   \n",
      "5    -2.14      14705479.0        101061.93              06-Aug-2020   \n",
      "6    -2.04      15611939.0         92252.51              06-Aug-2020   \n",
      "7    -1.95       3284441.0         49595.39              03-Aug-2020   \n",
      "8    -1.57       1907486.0         53394.73              24-Aug-2020   \n",
      "9    -1.49      15454237.0         45076.92              03-Sep-2020   \n",
      "\n",
      "                                lastCorpAnnouncement  \n",
      "0                  Interim Dividend - Rs 5 Per Share  \n",
      "1               Interim Dividend - Rs 2.50 Per Share  \n",
      "2                                   Interim Dividend  \n",
      "3               Interim Dividend - Rs 5.50 Per Share  \n",
      "4               Interim Dividend - Rs 7.50 Per Share  \n",
      "5                         Dividend - Rs 10 Per Share  \n",
      "6                          Dividend - Rs 2 Per Share  \n",
      "7   Annual General Meeting/Dividend - Rs 4 Per Share  \n",
      "8  Face Value Split (Sub-Division) - From Rs 10/-...  \n",
      "9   Annual General Meeting/Dividend - Re 1 Per Share  \n"
     ]
    }
   ],
   "source": [
    "#top Losers\n",
    "top_losers = pd.DataFrame(nse.get_top_losers())\n",
    "print(top_losers)\n"
   ]
  },
  {
   "cell_type": "code",
   "execution_count": 11,
   "metadata": {},
   "outputs": [],
   "source": [
    "top_gainers.to_csv('TopGainers'+str(today)+'.csv')"
   ]
  },
  {
   "cell_type": "code",
   "execution_count": 12,
   "metadata": {},
   "outputs": [],
   "source": [
    "top_losers.to_csv('TopLosers'+str(today)+'.csv')"
   ]
  },
  {
   "cell_type": "code",
   "execution_count": null,
   "metadata": {},
   "outputs": [],
   "source": []
  }
 ],
 "metadata": {
  "kernelspec": {
   "display_name": "Python 3",
   "language": "python",
   "name": "python3"
  },
  "language_info": {
   "codemirror_mode": {
    "name": "ipython",
    "version": 3
   },
   "file_extension": ".py",
   "mimetype": "text/x-python",
   "name": "python",
   "nbconvert_exporter": "python",
   "pygments_lexer": "ipython3",
   "version": "3.8.5"
  }
 },
 "nbformat": 4,
 "nbformat_minor": 4
}
