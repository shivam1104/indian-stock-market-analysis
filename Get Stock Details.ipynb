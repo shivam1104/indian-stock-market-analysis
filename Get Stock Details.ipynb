{
 "cells": [
  {
   "cell_type": "code",
   "execution_count": 1,
   "metadata": {},
   "outputs": [
    {
     "name": "stderr",
     "output_type": "stream",
     "text": [
      "c:\\users\\dell\\appdata\\local\\programs\\python\\python38\\lib\\site-packages\\fuzzywuzzy\\fuzz.py:11: UserWarning: Using slow pure-python SequenceMatcher. Install python-Levenshtein to remove this warning\n",
      "  warnings.warn('Using slow pure-python SequenceMatcher. Install python-Levenshtein to remove this warning')\n"
     ]
    }
   ],
   "source": [
    "\n",
    "# Import modules\n",
    "from datetime import datetime, timedelta\n",
    "import pandas as pd\n",
    "pd.core.common.is_list_like = pd.api.types.is_list_like #For solving import pandas_datareader issue\n",
    "import numpy as np\n",
    "import datetime\n",
    "import csv\n",
    "import requests\n",
    "import pandas_datareader.data as web\n",
    "import pandas_datareader as pdr\n",
    "from pandas_datareader import data, wb\n",
    "import datetime\n",
    "from nsetools import Nse\n",
    "from pprint import pprint\n",
    "import pandas as pd\n",
    "from datetime import date\n",
    "#import yfinance as yf\n",
    "from NSEDownload import stocks\n",
    "from nsepython import *\n",
    "\n",
    "\n",
    "today = date.today()"
   ]
  },
  {
   "cell_type": "code",
   "execution_count": 2,
   "metadata": {},
   "outputs": [],
   "source": [
    "currentDay = datetime.datetime.now().day\n",
    "currentMonth = datetime.datetime.now().month\n",
    "currentYear = datetime.datetime.now().year\n",
    "\n",
    "# Input Start and End Date\n",
    "start = datetime.datetime(2018,4,20)\n",
    "end = datetime.datetime(currentYear,currentMonth,currentDay-1)"
   ]
  },
  {
   "cell_type": "code",
   "execution_count": 3,
   "metadata": {},
   "outputs": [],
   "source": [
    "nse= Nse()\n",
    "OptionLot = (nse.get_fno_lot_sizes())"
   ]
  },
  {
   "cell_type": "code",
   "execution_count": 4,
   "metadata": {},
   "outputs": [
    {
     "name": "stdout",
     "output_type": "stream",
     "text": [
      "{'FINNIFTY': 40, 'BANKNIFTY': 25, 'NIFTY': 75, 'AARTIIND': 425, 'ADANIENT': 2000, 'ADANIPORTS': 2500, 'AMARAJABAT': 1000, 'APOLLOTYRE': 5000, 'ASHOKLEY': 9000, 'APOLLOHOSP': 500, 'ASIANPAINT': 300, 'AUROPHARMA': 650, 'BAJAJ-AUTO': 250, 'BANKBARODA': 11700, 'BEL': 7600, 'AXISBANK': 1200, 'BERGEPAINT': 1100, 'BHEL': 21000, 'CADILAHC': 2200, 'CANBK': 5400, 'BAJFINANCE': 250, 'BALKRISIND': 400, 'CHOLAFIN': 2500, 'CIPLA': 1300, 'CONCOR': 1563, 'CUMMINSIND': 1200, 'DLF': 3300, 'BATAINDIA': 550, 'DRREDDY': 125, 'BHARTIARTL': 1851, 'FEDERALBNK': 10000, 'BPCL': 1800, 'HDFCAMC': 200, 'BRITANNIA': 200, 'HDFCBANK': 550, 'ACC': 500, 'IGL': 1375, 'ITC': 3200, 'JINDALSTEL': 5000, 'JSWSTEEL': 2700, 'L&TFH': 8924, 'LALPATHLAB': 250, 'COFORGE': 375, 'LICHSGFIN': 2000, 'LT': 575, 'LUPIN': 850, 'M&M': 1400, 'M&MFIN': 4000, 'MANAPPURAM': 6000, 'DIVISLAB': 200, 'ESCORTS': 550, 'MARUTI': 100, 'MFSL': 1300, 'NATIONALUM': 17000, 'NMDC': 6700, 'PAGEIND': 30, 'PEL': 550, 'EXIDEIND': 3600, 'PIDILITIND': 500, 'PVR': 407, 'SAIL': 19000, 'SBIN': 3000, 'SIEMENS': 550, 'GMRINFRA': 22500, 'SRF': 125, 'GODREJPROP': 650, 'SRTRANSFIN': 800, 'HCLTECH': 700, 'SUNPHARMA': 1400, 'TATACONSUM': 1350, 'TATAPOWER': 13500, 'TCS': 300, 'TECHM': 1200, 'HDFCLIFE': 1100, 'HEROMOTOCO': 300, 'HINDALCO': 4300, 'HINDPETRO': 2700, 'HINDUNILVR': 300, 'ICICIBANK': 1375, 'WIPRO': 3200, 'ICICIPRULI': 1500, 'IDFCFIRSTB': 19000, 'INDIGO': 500, 'INFY': 600, 'IOC': 6500, 'KOTAKBANK': 400, 'AMBUJACEM': 3000, 'MARICO': 2000, 'MCDOWELL-N': 1250, 'BHARATFORG': 1500, 'MGL': 600, 'MINDTREE': 800, 'MOTHERSUMI': 7000, 'MRF': 10, 'MUTHOOTFIN': 750, 'COALINDIA': 4200, 'NAUKRI': 250, 'NESTLEIND': 50, 'NTPC': 5700, 'ONGC': 7700, 'PETRONET': 3000, 'PFC': 6200, 'PNB': 16000, 'POWERGRID': 4000, 'DABUR': 1250, 'RAMCOCEM': 850, 'EICHERMOT': 350, 'RBLBANK': 2900, 'SBILIFE': 750, 'SUNTV': 1500, 'TATACHEM': 2000, 'GAIL': 6100, 'TATAMOTORS': 5700, 'GODREJCP': 1000, 'TATASTEEL': 1700, 'TITAN': 750, 'TORNTPOWER': 3000, 'GRASIM': 950, 'TVSMOTOR': 1400, 'ULTRACEMCO': 200, 'VOLTAS': 1000, 'BANDHANBNK': 1800, 'ZEEL': 3000, 'BIOCON': 2300, 'HDFC': 300, 'ICICIGI': 425, 'IDEA': 70000, 'INDUSTOWER': 2800, 'BAJAJFINSV': 125, 'BOSCHLTD': 50, 'COLPAL': 700, 'GLENMARK': 1150, 'HAVELLS': 1000, 'IBULHSGFIN': 3100, 'INDUSINDBK': 900, 'RECLTD': 6000, 'SHREECEM': 50, 'VEDL': 6200, 'TORNTPHARM': 250, 'UBL': 700, 'UPL': 1300, 'JUBLFOOD': 250, 'RELIANCE': 250}\n"
     ]
    }
   ],
   "source": [
    "print(OptionLot)\n",
    "listOptions = OptionLot.keys()"
   ]
  },
  {
   "cell_type": "code",
   "execution_count": 6,
   "metadata": {},
   "outputs": [
    {
     "data": {
      "text/html": [
       "<div>\n",
       "<style scoped>\n",
       "    .dataframe tbody tr th:only-of-type {\n",
       "        vertical-align: middle;\n",
       "    }\n",
       "\n",
       "    .dataframe tbody tr th {\n",
       "        vertical-align: top;\n",
       "    }\n",
       "\n",
       "    .dataframe thead th {\n",
       "        text-align: right;\n",
       "    }\n",
       "</style>\n",
       "<table border=\"1\" class=\"dataframe\">\n",
       "  <thead>\n",
       "    <tr style=\"text-align: right;\">\n",
       "      <th></th>\n",
       "      <th>Symbol</th>\n",
       "      <th>Series</th>\n",
       "      <th>Prev Close</th>\n",
       "      <th>Open Price</th>\n",
       "      <th>High Price</th>\n",
       "      <th>Low Price</th>\n",
       "      <th>Last Price</th>\n",
       "      <th>Close Price</th>\n",
       "      <th>Average Price</th>\n",
       "      <th>Total Traded Quantity</th>\n",
       "      <th>Turnover</th>\n",
       "      <th>No. of Trades</th>\n",
       "      <th>Deliverable Qty</th>\n",
       "      <th>% Dly Qt to Traded Qty</th>\n",
       "      <th></th>\n",
       "    </tr>\n",
       "    <tr>\n",
       "      <th>Date</th>\n",
       "      <th></th>\n",
       "      <th></th>\n",
       "      <th></th>\n",
       "      <th></th>\n",
       "      <th></th>\n",
       "      <th></th>\n",
       "      <th></th>\n",
       "      <th></th>\n",
       "      <th></th>\n",
       "      <th></th>\n",
       "      <th></th>\n",
       "      <th></th>\n",
       "      <th></th>\n",
       "      <th></th>\n",
       "      <th></th>\n",
       "    </tr>\n",
       "  </thead>\n",
       "  <tbody>\n",
       "    <tr>\n",
       "      <th>02-Feb-2021</th>\n",
       "      <td>RELIANCE</td>\n",
       "      <td>EQ</td>\n",
       "      <td>1895.30</td>\n",
       "      <td>1914.25</td>\n",
       "      <td>1940.0</td>\n",
       "      <td>1854.95</td>\n",
       "      <td>1936.00</td>\n",
       "      <td>1925.80</td>\n",
       "      <td>1889.81</td>\n",
       "      <td>19138414</td>\n",
       "      <td>3.616805e+10</td>\n",
       "      <td>561567</td>\n",
       "      <td>7369471</td>\n",
       "      <td>38.51</td>\n",
       "      <td></td>\n",
       "    </tr>\n",
       "    <tr>\n",
       "      <th>01-Feb-2021</th>\n",
       "      <td>RELIANCE</td>\n",
       "      <td>EQ</td>\n",
       "      <td>1841.95</td>\n",
       "      <td>1859.40</td>\n",
       "      <td>1905.0</td>\n",
       "      <td>1848.00</td>\n",
       "      <td>1898.15</td>\n",
       "      <td>1895.30</td>\n",
       "      <td>1874.03</td>\n",
       "      <td>15774504</td>\n",
       "      <td>2.956182e+10</td>\n",
       "      <td>370120</td>\n",
       "      <td>7864911</td>\n",
       "      <td>49.86</td>\n",
       "      <td></td>\n",
       "    </tr>\n",
       "    <tr>\n",
       "      <th>29-Jan-2021</th>\n",
       "      <td>RELIANCE</td>\n",
       "      <td>EQ</td>\n",
       "      <td>1876.55</td>\n",
       "      <td>1894.30</td>\n",
       "      <td>1913.1</td>\n",
       "      <td>1830.00</td>\n",
       "      <td>1844.95</td>\n",
       "      <td>1841.95</td>\n",
       "      <td>1871.72</td>\n",
       "      <td>20173258</td>\n",
       "      <td>3.775861e+10</td>\n",
       "      <td>472678</td>\n",
       "      <td>9106845</td>\n",
       "      <td>45.14</td>\n",
       "      <td></td>\n",
       "    </tr>\n",
       "    <tr>\n",
       "      <th>28-Jan-2021</th>\n",
       "      <td>RELIANCE</td>\n",
       "      <td>EQ</td>\n",
       "      <td>1895.00</td>\n",
       "      <td>1880.15</td>\n",
       "      <td>1923.3</td>\n",
       "      <td>1870.00</td>\n",
       "      <td>1876.35</td>\n",
       "      <td>1876.55</td>\n",
       "      <td>1895.32</td>\n",
       "      <td>15722291</td>\n",
       "      <td>2.979881e+10</td>\n",
       "      <td>446576</td>\n",
       "      <td>4697008</td>\n",
       "      <td>29.87</td>\n",
       "      <td></td>\n",
       "    </tr>\n",
       "    <tr>\n",
       "      <th>27-Jan-2021</th>\n",
       "      <td>RELIANCE</td>\n",
       "      <td>EQ</td>\n",
       "      <td>1941.00</td>\n",
       "      <td>1925.00</td>\n",
       "      <td>1925.0</td>\n",
       "      <td>1888.00</td>\n",
       "      <td>1890.00</td>\n",
       "      <td>1895.00</td>\n",
       "      <td>1904.59</td>\n",
       "      <td>19553809</td>\n",
       "      <td>3.724198e+10</td>\n",
       "      <td>637355</td>\n",
       "      <td>9587173</td>\n",
       "      <td>49.03</td>\n",
       "      <td></td>\n",
       "    </tr>\n",
       "    <tr>\n",
       "      <th>...</th>\n",
       "      <td>...</td>\n",
       "      <td>...</td>\n",
       "      <td>...</td>\n",
       "      <td>...</td>\n",
       "      <td>...</td>\n",
       "      <td>...</td>\n",
       "      <td>...</td>\n",
       "      <td>...</td>\n",
       "      <td>...</td>\n",
       "      <td>...</td>\n",
       "      <td>...</td>\n",
       "      <td>...</td>\n",
       "      <td>...</td>\n",
       "      <td>...</td>\n",
       "      <td>...</td>\n",
       "    </tr>\n",
       "    <tr>\n",
       "      <th>07-Jan-2010</th>\n",
       "      <td>RELIANCE</td>\n",
       "      <td>EQ</td>\n",
       "      <td>1088.00</td>\n",
       "      <td>1088.00</td>\n",
       "      <td>1115.0</td>\n",
       "      <td>1078.00</td>\n",
       "      <td>1101.90</td>\n",
       "      <td>1106.05</td>\n",
       "      <td>1103.49</td>\n",
       "      <td>5988404</td>\n",
       "      <td>6.608116e+09</td>\n",
       "      <td>-</td>\n",
       "      <td>2522438</td>\n",
       "      <td>42.12</td>\n",
       "      <td></td>\n",
       "    </tr>\n",
       "    <tr>\n",
       "      <th>06-Jan-2010</th>\n",
       "      <td>RELIANCE</td>\n",
       "      <td>EQ</td>\n",
       "      <td>1070.70</td>\n",
       "      <td>1079.90</td>\n",
       "      <td>1094.5</td>\n",
       "      <td>1070.65</td>\n",
       "      <td>1087.00</td>\n",
       "      <td>1088.00</td>\n",
       "      <td>1084.64</td>\n",
       "      <td>5415538</td>\n",
       "      <td>5.873928e+09</td>\n",
       "      <td>-</td>\n",
       "      <td>2539975</td>\n",
       "      <td>46.90</td>\n",
       "      <td></td>\n",
       "    </tr>\n",
       "    <tr>\n",
       "      <th>05-Jan-2010</th>\n",
       "      <td>RELIANCE</td>\n",
       "      <td>EQ</td>\n",
       "      <td>1075.50</td>\n",
       "      <td>1149.90</td>\n",
       "      <td>1149.9</td>\n",
       "      <td>1065.40</td>\n",
       "      <td>1068.70</td>\n",
       "      <td>1070.70</td>\n",
       "      <td>1078.03</td>\n",
       "      <td>4890040</td>\n",
       "      <td>5.271634e+09</td>\n",
       "      <td>-</td>\n",
       "      <td>2861065</td>\n",
       "      <td>58.51</td>\n",
       "      <td></td>\n",
       "    </tr>\n",
       "    <tr>\n",
       "      <th>04-Jan-2010</th>\n",
       "      <td>RELIANCE</td>\n",
       "      <td>EQ</td>\n",
       "      <td>1090.55</td>\n",
       "      <td>1091.10</td>\n",
       "      <td>1091.1</td>\n",
       "      <td>1021.85</td>\n",
       "      <td>1077.30</td>\n",
       "      <td>1075.50</td>\n",
       "      <td>1044.44</td>\n",
       "      <td>17520006</td>\n",
       "      <td>1.829863e+10</td>\n",
       "      <td>-</td>\n",
       "      <td>14348117</td>\n",
       "      <td>81.90</td>\n",
       "      <td></td>\n",
       "    </tr>\n",
       "    <tr>\n",
       "      <th>31-Dec-2009</th>\n",
       "      <td>RELIANCE</td>\n",
       "      <td>EQ</td>\n",
       "      <td>1076.05</td>\n",
       "      <td>1084.00</td>\n",
       "      <td>1096.0</td>\n",
       "      <td>1081.35</td>\n",
       "      <td>1093.35</td>\n",
       "      <td>1090.55</td>\n",
       "      <td>1090.28</td>\n",
       "      <td>4009836</td>\n",
       "      <td>4.371858e+09</td>\n",
       "      <td>-</td>\n",
       "      <td>2150984</td>\n",
       "      <td>53.64</td>\n",
       "      <td></td>\n",
       "    </tr>\n",
       "  </tbody>\n",
       "</table>\n",
       "<p>2756 rows × 15 columns</p>\n",
       "</div>"
      ],
      "text/plain": [
       "               Symbol Series  Prev Close  Open Price  High Price  Low Price  \\\n",
       "Date                                                                          \n",
       "02-Feb-2021  RELIANCE     EQ     1895.30     1914.25      1940.0    1854.95   \n",
       "01-Feb-2021  RELIANCE     EQ     1841.95     1859.40      1905.0    1848.00   \n",
       "29-Jan-2021  RELIANCE     EQ     1876.55     1894.30      1913.1    1830.00   \n",
       "28-Jan-2021  RELIANCE     EQ     1895.00     1880.15      1923.3    1870.00   \n",
       "27-Jan-2021  RELIANCE     EQ     1941.00     1925.00      1925.0    1888.00   \n",
       "...               ...    ...         ...         ...         ...        ...   \n",
       "07-Jan-2010  RELIANCE     EQ     1088.00     1088.00      1115.0    1078.00   \n",
       "06-Jan-2010  RELIANCE     EQ     1070.70     1079.90      1094.5    1070.65   \n",
       "05-Jan-2010  RELIANCE     EQ     1075.50     1149.90      1149.9    1065.40   \n",
       "04-Jan-2010  RELIANCE     EQ     1090.55     1091.10      1091.1    1021.85   \n",
       "31-Dec-2009  RELIANCE     EQ     1076.05     1084.00      1096.0    1081.35   \n",
       "\n",
       "             Last Price  Close Price  Average Price  Total Traded Quantity  \\\n",
       "Date                                                                         \n",
       "02-Feb-2021     1936.00      1925.80        1889.81               19138414   \n",
       "01-Feb-2021     1898.15      1895.30        1874.03               15774504   \n",
       "29-Jan-2021     1844.95      1841.95        1871.72               20173258   \n",
       "28-Jan-2021     1876.35      1876.55        1895.32               15722291   \n",
       "27-Jan-2021     1890.00      1895.00        1904.59               19553809   \n",
       "...                 ...          ...            ...                    ...   \n",
       "07-Jan-2010     1101.90      1106.05        1103.49                5988404   \n",
       "06-Jan-2010     1087.00      1088.00        1084.64                5415538   \n",
       "05-Jan-2010     1068.70      1070.70        1078.03                4890040   \n",
       "04-Jan-2010     1077.30      1075.50        1044.44               17520006   \n",
       "31-Dec-2009     1093.35      1090.55        1090.28                4009836   \n",
       "\n",
       "                 Turnover No. of Trades  Deliverable Qty  \\\n",
       "Date                                                       \n",
       "02-Feb-2021  3.616805e+10        561567          7369471   \n",
       "01-Feb-2021  2.956182e+10        370120          7864911   \n",
       "29-Jan-2021  3.775861e+10        472678          9106845   \n",
       "28-Jan-2021  2.979881e+10        446576          4697008   \n",
       "27-Jan-2021  3.724198e+10        637355          9587173   \n",
       "...                   ...           ...              ...   \n",
       "07-Jan-2010  6.608116e+09             -          2522438   \n",
       "06-Jan-2010  5.873928e+09             -          2539975   \n",
       "05-Jan-2010  5.271634e+09             -          2861065   \n",
       "04-Jan-2010  1.829863e+10             -         14348117   \n",
       "31-Dec-2009  4.371858e+09             -          2150984   \n",
       "\n",
       "             % Dly Qt to Traded Qty     \n",
       "Date                                    \n",
       "02-Feb-2021                   38.51     \n",
       "01-Feb-2021                   49.86     \n",
       "29-Jan-2021                   45.14     \n",
       "28-Jan-2021                   29.87     \n",
       "27-Jan-2021                   49.03     \n",
       "...                             ... ..  \n",
       "07-Jan-2010                   42.12     \n",
       "06-Jan-2010                   46.90     \n",
       "05-Jan-2010                   58.51     \n",
       "04-Jan-2010                   81.90     \n",
       "31-Dec-2009                   53.64     \n",
       "\n",
       "[2756 rows x 15 columns]"
      ]
     },
     "execution_count": 6,
     "metadata": {},
     "output_type": "execute_result"
    }
   ],
   "source": [
    "df"
   ]
  },
  {
   "cell_type": "code",
   "execution_count": 7,
   "metadata": {},
   "outputs": [
    {
     "name": "stdout",
     "output_type": "stream",
     "text": [
      "Main-ed\n"
     ]
    }
   ],
   "source": [
    "import PYTopLosersTopGainersEquity as ab"
   ]
  },
  {
   "cell_type": "code",
   "execution_count": 8,
   "metadata": {},
   "outputs": [
    {
     "name": "stdout",
     "output_type": "stream",
     "text": [
      "{'TG': 'Files/TopGainers2021-02-20.csv'}\n"
     ]
    }
   ],
   "source": [
    "TG = ab.getGainValue()\n"
   ]
  },
  {
   "cell_type": "code",
   "execution_count": 9,
   "metadata": {},
   "outputs": [
    {
     "name": "stdout",
     "output_type": "stream",
     "text": [
      "{'TL': 'Files/TopLosers2021-02-20.csv'}\n"
     ]
    }
   ],
   "source": [
    "TL = ab.getLostValue()"
   ]
  },
  {
   "cell_type": "code",
   "execution_count": 10,
   "metadata": {},
   "outputs": [
    {
     "name": "stderr",
     "output_type": "stream",
     "text": [
      "DEBUG:urllib3.connectionpool:Starting new HTTPS connection (1): www.nseindia.com:443\n",
      "DEBUG:urllib3.connectionpool:https://www.nseindia.com:443 \"GET /api/event-calendar HTTP/1.1\" 401 272\n",
      "DEBUG:urllib3.connectionpool:Starting new HTTP connection (1): nseindia.com:80\n",
      "DEBUG:urllib3.connectionpool:http://nseindia.com:80 \"GET / HTTP/1.1\" 301 0\n",
      "DEBUG:urllib3.connectionpool:Starting new HTTP connection (1): www.nseindia.com:80\n",
      "DEBUG:urllib3.connectionpool:http://www.nseindia.com:80 \"GET / HTTP/1.1\" 301 0\n",
      "DEBUG:urllib3.connectionpool:Starting new HTTPS connection (1): www.nseindia.com:443\n",
      "DEBUG:urllib3.connectionpool:https://www.nseindia.com:443 \"GET / HTTP/1.1\" 200 39633\n",
      "DEBUG:urllib3.connectionpool:https://www.nseindia.com:443 \"GET /api/event-calendar HTTP/1.1\" 200 2448\n"
     ]
    }
   ],
   "source": [
    "data =pd.DataFrame(nse_events())"
   ]
  },
  {
   "cell_type": "code",
   "execution_count": 11,
   "metadata": {},
   "outputs": [
    {
     "name": "stdout",
     "output_type": "stream",
     "text": [
      "       symbol series  openPrice  highPrice  lowPrice      ltp  previousPrice  \\\n",
      "0        ONGC     EQ     110.70     112.20    103.85   105.10         110.70   \n",
      "1   TATASTEEL     EQ     696.00     696.00    655.95   669.40         697.75   \n",
      "2  HEROMOTOCO     EQ    3522.85    3522.85   3370.00  3390.75        3522.85   \n",
      "3        SBIN     EQ     415.00     415.00    395.00   400.60         415.20   \n",
      "4  TATAMOTORS     EQ     321.95     321.95    301.40   312.45         323.85   \n",
      "5    AXISBANK     EQ     772.90     777.20    741.35   750.60         777.00   \n",
      "6   ICICIBANK     EQ     635.50     635.50    619.00   625.40         644.65   \n",
      "7  BAJAJ-AUTO     EQ    4106.00    4106.70   3977.20  4002.00        4115.45   \n",
      "8   EICHERMOT     EQ    2646.00    2647.90   2570.00  2582.00        2650.20   \n",
      "9    JSWSTEEL     EQ     408.10     408.40    390.95   398.30         407.65   \n",
      "\n",
      "  netPrice  tradedQuantity  turnoverInLakhs lastCorpAnnouncementDate  \\\n",
      "0    -5.06      48225988.0         52416.83              17-Feb-2021   \n",
      "1    -4.06      22392386.0        151251.61              06-Aug-2020   \n",
      "2    -3.75        995322.0         34123.82              15-Feb-2021   \n",
      "3    -3.52      66155518.0        267969.54              15-Jun-2018   \n",
      "4    -3.52      80274683.0        251508.61              18-Jul-2016   \n",
      "5    -3.40      15634787.0        118994.80              04-Jul-2019   \n",
      "6    -2.99      24055811.0        151056.06              22-Jul-2019   \n",
      "7    -2.76        762200.0         30614.83              03-Mar-2020   \n",
      "8    -2.57       1588781.0         41263.98              24-Aug-2020   \n",
      "9    -2.29       4527644.0         18129.59              06-Jul-2020   \n",
      "\n",
      "                                lastCorpAnnouncement  \n",
      "0               Interim Dividend - Rs 1.75 Per Share  \n",
      "1                         Dividend - Rs 10 Per Share  \n",
      "2  Interim Dividend - Rs 65 Per Share Special Div...  \n",
      "3  Annual General Meeting/ Change In Registrar An...  \n",
      "4                     Dividend - Re 0.20/- Per Share  \n",
      "5  Annual General Meeting/ Dividend - Re 1 Per Share  \n",
      "6   Annual General Meeting/Dividend - Re 1 Per Share  \n",
      "7                Interim Dividend - Rs 120 Per Share  \n",
      "8  Face Value Split (Sub-Division) - From Rs 10/-...  \n",
      "9                          Dividend - Rs 2 Per Share  \n"
     ]
    }
   ],
   "source": [
    "#print(TL)"
   ]
  },
  {
   "cell_type": "code",
   "execution_count": 12,
   "metadata": {},
   "outputs": [],
   "source": [
    "#data['TopLoser'] = -1\n",
    "#data['TopGainer'] = -1\n",
    "data['HasOption'] = -1\n",
    "TL['HasOption'] = -1\n",
    "TG['HasOption'] = -1"
   ]
  },
  {
   "cell_type": "code",
   "execution_count": 13,
   "metadata": {},
   "outputs": [],
   "source": [
    "for i, row in data.iterrows():\n",
    "    if data.at[i,'symbol'] in listOptions:\n",
    "        data.at[i,'HasOption'] = 1\n",
    "    else:\n",
    "        data.at[i,'HasOption'] = 0"
   ]
  },
  {
   "cell_type": "code",
   "execution_count": 14,
   "metadata": {},
   "outputs": [
    {
     "name": "stdout",
     "output_type": "stream",
     "text": [
      "        symbol                                       company  \\\n",
      "0       UNIPLY                     Uniply Industries Limited   \n",
      "1     DBREALTY                            D B Realty Limited   \n",
      "2    INDIAMART                   Indiamart Intermesh Limited   \n",
      "3    HUHTAMAKI                       Huhtamaki India Limited   \n",
      "4       SAFARI             Safari Industries (India) Limited   \n",
      "5       SANOFI                          Sanofi India Limited   \n",
      "6    HUHTAMAKI                       Huhtamaki India Limited   \n",
      "7       UNIPLY                     Uniply Industries Limited   \n",
      "8     VENUSREM                        Venus Remedies Limited   \n",
      "9   STOVEKRAFT                           Stove Kraft Limited   \n",
      "10     BIGBLOC                  Bigbloc Construction Limited   \n",
      "11    SPANDANA           Spandana Sphoorty Financial Limited   \n",
      "12  WEBELSOLAR                  Websol Energy System Limited   \n",
      "13  HINDMOTORS                      Hindustan Motors Limited   \n",
      "14    KRISHANA                     Krishana Phoschem Limited   \n",
      "15         KSB                                   Ksb Limited   \n",
      "16   MAWANASUG                         Mawana Sugars Limited   \n",
      "17        RAIN                       Rain Industries Limited   \n",
      "18   SOUTHBANK                 The South Indian Bank Limited   \n",
      "19   STEELCITY                 Steel City Securities Limited   \n",
      "20    VESUVIUS                        Vesuvius India Limited   \n",
      "21         HAL                 Hindustan Aeronautics Limited   \n",
      "22   JINDALSAW                            Jindal Saw Limited   \n",
      "23         KEI                        KEI Industries Limited   \n",
      "24   MODTHREAD                         Modern Thread Limited   \n",
      "25  POWERINDIA  ABB Power Products and Systems India Limited   \n",
      "26  POWERINDIA  ABB Power Products and Systems India Limited   \n",
      "27     SIMPLEX                      Simplex Projects Limited   \n",
      "28  LINDEINDIA                           Linde India Limited   \n",
      "29      JAGRAN                      Jagran Prakashan Limited   \n",
      "30      MARICO                                Marico Limited   \n",
      "\n",
      "                                     purpose  \\\n",
      "0                          Financial Results   \n",
      "1                               Fund Raising   \n",
      "2                     Other business matters   \n",
      "3                 Financial Results/Dividend   \n",
      "4                               Fund Raising   \n",
      "5                 Financial Results/Dividend   \n",
      "6                 Financial Results/Dividend   \n",
      "7                          Financial Results   \n",
      "8                     Other business matters   \n",
      "9   Financial Results/Other business matters   \n",
      "10                    Other business matters   \n",
      "11                              Fund Raising   \n",
      "12                    Other business matters   \n",
      "13                    Other business matters   \n",
      "14                    Other business matters   \n",
      "15                Financial Results/Dividend   \n",
      "16                    Other business matters   \n",
      "17                         Financial Results   \n",
      "18                              Fund Raising   \n",
      "19                                  Dividend   \n",
      "20                Financial Results/Dividend   \n",
      "21                                  Dividend   \n",
      "22                    Other business matters   \n",
      "23                                  Dividend   \n",
      "24                         Financial Results   \n",
      "25                Financial Results/Dividend   \n",
      "26                Financial Results/Dividend   \n",
      "27                         Financial Results   \n",
      "28                Financial Results/Dividend   \n",
      "29                                   Buyback   \n",
      "30                                  Dividend   \n",
      "\n",
      "                                              bm_desc         date  HasOption  \n",
      "0   Dear Madam/Sir,ￂﾠￂﾠSub: Intimation of Board Me...  21-Feb-2021          0  \n",
      "1                            To consider Fund Raising  22-Feb-2021          0  \n",
      "2   Fund Raise Committee Meeting is scheduled on 2...  22-Feb-2021          0  \n",
      "3   HUHTAMAKI : 24-Feb-2021 :  The Company has inf...  23-Feb-2021          0  \n",
      "4                            To consider Fund Raising  23-Feb-2021          0  \n",
      "5   To consider and approve the financial results ...  23-Feb-2021          0  \n",
      "6   To consider and approve the financial results ...  23-Feb-2021          0  \n",
      "7   To consider and approve the financial results ...  23-Feb-2021          0  \n",
      "8   To consider the allotment of 10,25,000 warrant...  23-Feb-2021          0  \n",
      "9   To consider and approve the financial results ...  23-Feb-2021          0  \n",
      "10  To consider other business mattersￂﾠ to discus...  24-Feb-2021          0  \n",
      "11                           To consider Fund Raising  24-Feb-2021          0  \n",
      "12  To consider o1. Proposal to raise resources by...  24-Feb-2021          0  \n",
      "13                 To consider other business matters  25-Feb-2021          0  \n",
      "14                 To consider other business matters  25-Feb-2021          0  \n",
      "15  To consider and approve the financial results ...  25-Feb-2021          0  \n",
      "16                 To consider other business matters  25-Feb-2021          0  \n",
      "17  To consider and approve the financial results ...  25-Feb-2021          0  \n",
      "18                           To consider Fund Raising  25-Feb-2021          0  \n",
      "19                               To consider dividend  25-Feb-2021          0  \n",
      "20  To consider and approve the financial results ...  25-Feb-2021          0  \n",
      "21                               To consider dividend  26-Feb-2021          0  \n",
      "22  To consider other business matters for conside...  26-Feb-2021          0  \n",
      "23                       To consider interim dividend  26-Feb-2021          0  \n",
      "24  To consider and approve the financial results ...  26-Feb-2021          0  \n",
      "25  To consider and approve the financial results ...  26-Feb-2021          0  \n",
      "26  POWERINDIA : 25-Feb-2021 : The Company has inf...  26-Feb-2021          0  \n",
      "27  To consider and approve the financial results ...  26-Feb-2021          0  \n",
      "28  This is to inform you that a meeting of the Bo...  01-Mar-2021          0  \n",
      "29              To consider buyback for equity shares  02-Mar-2021          0  \n",
      "30  Pursuant to Regulation 29 of the Securities an...  03-Mar-2021          1  \n"
     ]
    }
   ],
   "source": [
    "#print(data)"
   ]
  },
  {
   "cell_type": "code",
   "execution_count": 15,
   "metadata": {},
   "outputs": [],
   "source": [
    "for i, row in TL.iterrows():\n",
    "    if TL.at[i,'symbol'] in listOptions:\n",
    "        TL.at[i,'HasOption'] = 1\n",
    "    else:\n",
    "        TL.at[i,'HasOption'] = 0"
   ]
  },
  {
   "cell_type": "code",
   "execution_count": 16,
   "metadata": {},
   "outputs": [],
   "source": [
    "for i, row in TG.iterrows():\n",
    "    if TG.at[i,'symbol'] in listOptions:\n",
    "        TG.at[i,'HasOption'] = 1\n",
    "    else:\n",
    "        TG.at[i,'HasOption'] = 0"
   ]
  },
  {
   "cell_type": "code",
   "execution_count": 17,
   "metadata": {},
   "outputs": [],
   "source": [
    "symbols = []\n",
    "symbols = TL.symbol.tolist()\n",
    "symbols+= TG.symbol.tolist()\n",
    "symbols+= data.symbol.tolist()\n"
   ]
  },
  {
   "cell_type": "code",
   "execution_count": 25,
   "metadata": {},
   "outputs": [
    {
     "name": "stdout",
     "output_type": "stream",
     "text": [
      "List Of Stocks to Analyse Today :- \n",
      "['ONGC', 'TATASTEEL', 'HEROMOTOCO', 'SBIN', 'TATAMOTORS', 'AXISBANK', 'ICICIBANK', 'BAJAJ-AUTO', 'EICHERMOT', 'JSWSTEEL', 'UPL', 'DRREDDY', 'INDUSINDBK', 'HINDUNILVR', 'GAIL', 'NTPC', 'TCS', 'RELIANCE', 'NESTLEIND', 'BAJAJFINSV', 'UNIPLY', 'DBREALTY', 'INDIAMART', 'HUHTAMAKI', 'SAFARI', 'SANOFI', 'HUHTAMAKI', 'UNIPLY', 'VENUSREM', 'STOVEKRAFT', 'BIGBLOC', 'SPANDANA', 'WEBELSOLAR', 'HINDMOTORS', 'KRISHANA', 'KSB', 'MAWANASUG', 'RAIN', 'SOUTHBANK', 'STEELCITY', 'VESUVIUS', 'HAL', 'JINDALSAW', 'KEI', 'MODTHREAD', 'POWERINDIA', 'POWERINDIA', 'SIMPLEX', 'LINDEINDIA', 'JAGRAN', 'MARICO']\n"
     ]
    }
   ],
   "source": [
    "print(\"List Of Stocks to Analyse Today :- \")\n",
    "print(symbols)"
   ]
  },
  {
   "cell_type": "code",
   "execution_count": null,
   "metadata": {},
   "outputs": [],
   "source": [
    "'''\n",
    "from datetime import date\n",
    "from nsepy import get_history\n",
    "stock_opt = get_history(symbol=\"HDFC\",\n",
    " start=date(2019, 1, 15),\n",
    " end=date(2019, 2, 1),\n",
    " option_type=\"CE\",\n",
    " strike_price=2000,\n",
    " expiry_date=date(2019, 2, 28))\n",
    "stock_opt.head()\n",
    "'''"
   ]
  },
  {
   "cell_type": "code",
   "execution_count": 27,
   "metadata": {},
   "outputs": [
    {
     "name": "stderr",
     "output_type": "stream",
     "text": [
      "DEBUG:urllib3.connectionpool:Starting new HTTPS connection (1): www1.nseindia.com:443\n"
     ]
    },
    {
     "name": "stdout",
     "output_type": "stream",
     "text": [
      "Generating for ONGC\n",
      "ONGC\n"
     ]
    },
    {
     "name": "stderr",
     "output_type": "stream",
     "text": [
      "DEBUG:urllib3.connectionpool:https://www1.nseindia.com:443 \"POST /marketinfo/sym_map/symbolCount.jsp?symbol= HTTP/1.1\" 200 10\n"
     ]
    },
    {
     "name": "stdout",
     "output_type": "stream",
     "text": [
      "Downloading  [            ]"
     ]
    },
    {
     "name": "stderr",
     "output_type": "stream",
     "text": [
      "DEBUG:urllib3.connectionpool:Starting new HTTPS connection (1): www1.nseindia.com:443\n"
     ]
    },
    {
     "name": "stdout",
     "output_type": "stream",
     "text": [
      "\r"
     ]
    },
    {
     "name": "stderr",
     "output_type": "stream",
     "text": [
      "DEBUG:urllib3.connectionpool:https://www1.nseindia.com:443 \"GET /products/dynaContent/common/productsSymbolMapping.jsp?symbol=ONGC&segmentLink=3&symbolCount%0A%20%0A%0A%0A%0A%0A%0A2%0A&series=EQ&dateRange=+&fromDate=22-02-2020&toDate=20-02-2021&dataType=PRICEVOLUMEDELIVERABLE HTTP/1.1\" 200 19711\n"
     ]
    },
    {
     "name": "stdout",
     "output_type": "stream",
     "text": [
      "Downloading  [            ] 0.00 %\r"
     ]
    },
    {
     "name": "stderr",
     "output_type": "stream",
     "text": [
      "DEBUG:urllib3.connectionpool:Starting new HTTPS connection (1): www1.nseindia.com:443\n",
      "DEBUG:urllib3.connectionpool:https://www1.nseindia.com:443 \"GET /products/dynaContent/common/productsSymbolMapping.jsp?symbol=ONGC&segmentLink=3&symbolCount%0A%20%0A%0A%0A%0A%0A%0A2%0A&series=EQ&dateRange=+&fromDate=22-02-2019&toDate=21-02-2020&dataType=PRICEVOLUMEDELIVERABLE HTTP/1.1\" 200 19485\n"
     ]
    },
    {
     "name": "stdout",
     "output_type": "stream",
     "text": [
      "Downloading  [-           ] 8.33 %\r"
     ]
    },
    {
     "name": "stderr",
     "output_type": "stream",
     "text": [
      "DEBUG:urllib3.connectionpool:Starting new HTTPS connection (1): www1.nseindia.com:443\n"
     ]
    },
    {
     "name": "stdout",
     "output_type": "stream",
     "text": [
      "Downloading  [--          ] 16.67 %\r"
     ]
    },
    {
     "name": "stderr",
     "output_type": "stream",
     "text": [
      "DEBUG:urllib3.connectionpool:Starting new HTTPS connection (1): www1.nseindia.com:443\n"
     ]
    },
    {
     "name": "stdout",
     "output_type": "stream",
     "text": [
      "Downloading  [---         ] 25.00 %\r"
     ]
    },
    {
     "name": "stderr",
     "output_type": "stream",
     "text": [
      "DEBUG:urllib3.connectionpool:Starting new HTTPS connection (1): www1.nseindia.com:443\n",
      "DEBUG:urllib3.connectionpool:https://www1.nseindia.com:443 \"GET /products/dynaContent/common/productsSymbolMapping.jsp?symbol=ONGC&segmentLink=3&symbolCount%0A%20%0A%0A%0A%0A%0A%0A2%0A&series=EQ&dateRange=+&fromDate=23-02-2016&toDate=21-02-2017&dataType=PRICEVOLUMEDELIVERABLE HTTP/1.1\" 200 19537\n"
     ]
    },
    {
     "name": "stdout",
     "output_type": "stream",
     "text": [
      "Downloading  [----        ] 33.33 %\r"
     ]
    },
    {
     "name": "stderr",
     "output_type": "stream",
     "text": [
      "DEBUG:urllib3.connectionpool:Starting new HTTPS connection (1): www1.nseindia.com:443\n",
      "DEBUG:urllib3.connectionpool:https://www1.nseindia.com:443 \"GET /products/dynaContent/common/productsSymbolMapping.jsp?symbol=ONGC&segmentLink=3&symbolCount%0A%20%0A%0A%0A%0A%0A%0A2%0A&series=EQ&dateRange=+&fromDate=23-02-2015&toDate=22-02-2016&dataType=PRICEVOLUMEDELIVERABLE HTTP/1.1\" 200 19737\n"
     ]
    },
    {
     "name": "stdout",
     "output_type": "stream",
     "text": [
      "Downloading  [-----       ] 41.67 %\r"
     ]
    },
    {
     "name": "stderr",
     "output_type": "stream",
     "text": [
      "DEBUG:urllib3.connectionpool:Starting new HTTPS connection (1): www1.nseindia.com:443\n",
      "DEBUG:urllib3.connectionpool:https://www1.nseindia.com:443 \"GET /products/dynaContent/common/productsSymbolMapping.jsp?symbol=ONGC&segmentLink=3&symbolCount%0A%20%0A%0A%0A%0A%0A%0A2%0A&series=EQ&dateRange=+&fromDate=23-02-2014&toDate=22-02-2015&dataType=PRICEVOLUMEDELIVERABLE HTTP/1.1\" 200 19837\n"
     ]
    },
    {
     "name": "stdout",
     "output_type": "stream",
     "text": [
      "Downloading  [------      ] 50.00 %\r"
     ]
    },
    {
     "name": "stderr",
     "output_type": "stream",
     "text": [
      "DEBUG:urllib3.connectionpool:Starting new HTTPS connection (1): www1.nseindia.com:443\n",
      "DEBUG:urllib3.connectionpool:https://www1.nseindia.com:443 \"GET /products/dynaContent/common/productsSymbolMapping.jsp?symbol=ONGC&segmentLink=3&symbolCount%0A%20%0A%0A%0A%0A%0A%0A2%0A&series=EQ&dateRange=+&fromDate=23-02-2013&toDate=22-02-2014&dataType=PRICEVOLUMEDELIVERABLE HTTP/1.1\" 200 19738\n"
     ]
    },
    {
     "name": "stdout",
     "output_type": "stream",
     "text": [
      "Downloading  [-------     ] 58.33 %\r"
     ]
    },
    {
     "name": "stderr",
     "output_type": "stream",
     "text": [
      "DEBUG:urllib3.connectionpool:Starting new HTTPS connection (1): www1.nseindia.com:443\n",
      "DEBUG:urllib3.connectionpool:https://www1.nseindia.com:443 \"GET /products/dynaContent/common/productsSymbolMapping.jsp?symbol=ONGC&segmentLink=3&symbolCount%0A%20%0A%0A%0A%0A%0A%0A2%0A&series=EQ&dateRange=+&fromDate=24-02-2012&toDate=22-02-2013&dataType=PRICEVOLUMEDELIVERABLE HTTP/1.1\" 200 19731\n"
     ]
    },
    {
     "name": "stdout",
     "output_type": "stream",
     "text": [
      "Downloading  [--------    ] 66.67 %\r"
     ]
    },
    {
     "name": "stderr",
     "output_type": "stream",
     "text": [
      "DEBUG:urllib3.connectionpool:Starting new HTTPS connection (1): www1.nseindia.com:443\n",
      "DEBUG:urllib3.connectionpool:https://www1.nseindia.com:443 \"GET /products/dynaContent/common/productsSymbolMapping.jsp?symbol=ONGC&segmentLink=3&symbolCount%0A%20%0A%0A%0A%0A%0A%0A2%0A&series=EQ&dateRange=+&fromDate=24-02-2011&toDate=23-02-2012&dataType=PRICEVOLUMEDELIVERABLE HTTP/1.1\" 200 19071\n"
     ]
    },
    {
     "name": "stdout",
     "output_type": "stream",
     "text": [
      "Downloading  [---------   ] 75.00 %\r"
     ]
    },
    {
     "name": "stderr",
     "output_type": "stream",
     "text": [
      "DEBUG:urllib3.connectionpool:Starting new HTTPS connection (1): www1.nseindia.com:443\n",
      "DEBUG:urllib3.connectionpool:https://www1.nseindia.com:443 \"GET /products/dynaContent/common/productsSymbolMapping.jsp?symbol=ONGC&segmentLink=3&symbolCount%0A%20%0A%0A%0A%0A%0A%0A2%0A&series=EQ&dateRange=+&fromDate=24-02-2010&toDate=23-02-2011&dataType=PRICEVOLUMEDELIVERABLE HTTP/1.1\" 200 18792\n"
     ]
    },
    {
     "name": "stdout",
     "output_type": "stream",
     "text": [
      "Downloading  [----------  ] 83.33 %\r"
     ]
    },
    {
     "name": "stderr",
     "output_type": "stream",
     "text": [
      "DEBUG:urllib3.connectionpool:Starting new HTTPS connection (1): www1.nseindia.com:443\n",
      "DEBUG:urllib3.connectionpool:https://www1.nseindia.com:443 \"GET /products/dynaContent/common/productsSymbolMapping.jsp?symbol=ONGC&segmentLink=3&symbolCount%0A%20%0A%0A%0A%0A%0A%0A2%0A&series=EQ&dateRange=+&fromDate=31-12-2009&toDate=23-02-2010&dataType=PRICEVOLUMEDELIVERABLE HTTP/1.1\" 200 4997\n"
     ]
    },
    {
     "name": "stdout",
     "output_type": "stream",
     "text": [
      "Downloading  [----------- ] 91.67 %\r"
     ]
    },
    {
     "name": "stderr",
     "output_type": "stream",
     "text": [
      "DEBUG:urllib3.connectionpool:Starting new HTTPS connection (1): www1.nseindia.com:443\n"
     ]
    },
    {
     "name": "stdout",
     "output_type": "stream",
     "text": [
      "Downloading  [------------] 100.00 % \n",
      "Generating for TATASTEEL\n",
      "TATASTEEL\n"
     ]
    },
    {
     "name": "stderr",
     "output_type": "stream",
     "text": [
      "DEBUG:urllib3.connectionpool:https://www1.nseindia.com:443 \"POST /marketinfo/sym_map/symbolCount.jsp?symbol= HTTP/1.1\" 200 10\n"
     ]
    },
    {
     "name": "stdout",
     "output_type": "stream",
     "text": [
      "Downloading  [            ]"
     ]
    },
    {
     "name": "stderr",
     "output_type": "stream",
     "text": [
      "DEBUG:urllib3.connectionpool:Starting new HTTPS connection (1): www1.nseindia.com:443\n"
     ]
    },
    {
     "name": "stdout",
     "output_type": "stream",
     "text": [
      "\r"
     ]
    },
    {
     "name": "stderr",
     "output_type": "stream",
     "text": [
      "DEBUG:urllib3.connectionpool:https://www1.nseindia.com:443 \"GET /products/dynaContent/common/productsSymbolMapping.jsp?symbol=TATASTEEL&segmentLink=3&symbolCount%0A%20%0A%0A%0A%0A%0A%0A2%0A&series=EQ&dateRange=+&fromDate=22-02-2020&toDate=20-02-2021&dataType=PRICEVOLUMEDELIVERABLE HTTP/1.1\" 200 20682\n"
     ]
    },
    {
     "name": "stdout",
     "output_type": "stream",
     "text": [
      "Downloading  [            ] 0.00 %\r"
     ]
    },
    {
     "name": "stderr",
     "output_type": "stream",
     "text": [
      "DEBUG:urllib3.connectionpool:Starting new HTTPS connection (1): www1.nseindia.com:443\n",
      "DEBUG:urllib3.connectionpool:https://www1.nseindia.com:443 \"GET /products/dynaContent/common/productsSymbolMapping.jsp?symbol=TATASTEEL&segmentLink=3&symbolCount%0A%20%0A%0A%0A%0A%0A%0A2%0A&series=EQ&dateRange=+&fromDate=22-02-2019&toDate=21-02-2020&dataType=PRICEVOLUMEDELIVERABLE HTTP/1.1\" 200 20390\n"
     ]
    },
    {
     "name": "stdout",
     "output_type": "stream",
     "text": [
      "Downloading  [-           ] 8.33 %\r"
     ]
    },
    {
     "name": "stderr",
     "output_type": "stream",
     "text": [
      "DEBUG:urllib3.connectionpool:Starting new HTTPS connection (1): www1.nseindia.com:443\n",
      "DEBUG:urllib3.connectionpool:https://www1.nseindia.com:443 \"GET /products/dynaContent/common/productsSymbolMapping.jsp?symbol=TATASTEEL&segmentLink=3&symbolCount%0A%20%0A%0A%0A%0A%0A%0A2%0A&series=EQ&dateRange=+&fromDate=22-02-2018&toDate=21-02-2019&dataType=PRICEVOLUMEDELIVERABLE HTTP/1.1\" 200 20529\n"
     ]
    },
    {
     "name": "stdout",
     "output_type": "stream",
     "text": [
      "Downloading  [--          ] 16.67 %\r"
     ]
    },
    {
     "name": "stderr",
     "output_type": "stream",
     "text": [
      "DEBUG:urllib3.connectionpool:Starting new HTTPS connection (1): www1.nseindia.com:443\n",
      "DEBUG:urllib3.connectionpool:https://www1.nseindia.com:443 \"GET /products/dynaContent/common/productsSymbolMapping.jsp?symbol=TATASTEEL&segmentLink=3&symbolCount%0A%20%0A%0A%0A%0A%0A%0A2%0A&series=EQ&dateRange=+&fromDate=22-02-2017&toDate=21-02-2018&dataType=PRICEVOLUMEDELIVERABLE HTTP/1.1\" 200 20217\n"
     ]
    },
    {
     "name": "stdout",
     "output_type": "stream",
     "text": [
      "Downloading  [---         ] 25.00 %\r"
     ]
    },
    {
     "name": "stderr",
     "output_type": "stream",
     "text": [
      "DEBUG:urllib3.connectionpool:Starting new HTTPS connection (1): www1.nseindia.com:443\n",
      "DEBUG:urllib3.connectionpool:https://www1.nseindia.com:443 \"GET /products/dynaContent/common/productsSymbolMapping.jsp?symbol=TATASTEEL&segmentLink=3&symbolCount%0A%20%0A%0A%0A%0A%0A%0A2%0A&series=EQ&dateRange=+&fromDate=23-02-2016&toDate=21-02-2017&dataType=PRICEVOLUMEDELIVERABLE HTTP/1.1\" 200 20015\n"
     ]
    },
    {
     "name": "stdout",
     "output_type": "stream",
     "text": [
      "Downloading  [----        ] 33.33 %\r"
     ]
    },
    {
     "name": "stderr",
     "output_type": "stream",
     "text": [
      "DEBUG:urllib3.connectionpool:Starting new HTTPS connection (1): www1.nseindia.com:443\n",
      "DEBUG:urllib3.connectionpool:https://www1.nseindia.com:443 \"GET /products/dynaContent/common/productsSymbolMapping.jsp?symbol=TATASTEEL&segmentLink=3&symbolCount%0A%20%0A%0A%0A%0A%0A%0A2%0A&series=EQ&dateRange=+&fromDate=23-02-2015&toDate=22-02-2016&dataType=PRICEVOLUMEDELIVERABLE HTTP/1.1\" 200 19876\n"
     ]
    },
    {
     "name": "stdout",
     "output_type": "stream",
     "text": [
      "Downloading  [-----       ] 41.67 %\r"
     ]
    },
    {
     "name": "stderr",
     "output_type": "stream",
     "text": [
      "DEBUG:urllib3.connectionpool:Starting new HTTPS connection (1): www1.nseindia.com:443\n",
      "DEBUG:urllib3.connectionpool:https://www1.nseindia.com:443 \"GET /products/dynaContent/common/productsSymbolMapping.jsp?symbol=TATASTEEL&segmentLink=3&symbolCount%0A%20%0A%0A%0A%0A%0A%0A2%0A&series=EQ&dateRange=+&fromDate=23-02-2014&toDate=22-02-2015&dataType=PRICEVOLUMEDELIVERABLE HTTP/1.1\" 200 20044\n"
     ]
    },
    {
     "name": "stdout",
     "output_type": "stream",
     "text": [
      "Downloading  [------      ] 50.00 %\r"
     ]
    },
    {
     "name": "stderr",
     "output_type": "stream",
     "text": [
      "DEBUG:urllib3.connectionpool:Starting new HTTPS connection (1): www1.nseindia.com:443\n",
      "DEBUG:urllib3.connectionpool:https://www1.nseindia.com:443 \"GET /products/dynaContent/common/productsSymbolMapping.jsp?symbol=TATASTEEL&segmentLink=3&symbolCount%0A%20%0A%0A%0A%0A%0A%0A2%0A&series=EQ&dateRange=+&fromDate=23-02-2013&toDate=22-02-2014&dataType=PRICEVOLUMEDELIVERABLE HTTP/1.1\" 200 20245\n"
     ]
    },
    {
     "name": "stdout",
     "output_type": "stream",
     "text": [
      "Downloading  [-------     ] 58.33 %\r"
     ]
    },
    {
     "name": "stderr",
     "output_type": "stream",
     "text": [
      "DEBUG:urllib3.connectionpool:Starting new HTTPS connection (1): www1.nseindia.com:443\n",
      "DEBUG:urllib3.connectionpool:https://www1.nseindia.com:443 \"GET /products/dynaContent/common/productsSymbolMapping.jsp?symbol=TATASTEEL&segmentLink=3&symbolCount%0A%20%0A%0A%0A%0A%0A%0A2%0A&series=EQ&dateRange=+&fromDate=24-02-2012&toDate=22-02-2013&dataType=PRICEVOLUMEDELIVERABLE HTTP/1.1\" 200 20199\n"
     ]
    },
    {
     "name": "stdout",
     "output_type": "stream",
     "text": [
      "Downloading  [--------    ] 66.67 %\r"
     ]
    },
    {
     "name": "stderr",
     "output_type": "stream",
     "text": [
      "DEBUG:urllib3.connectionpool:Starting new HTTPS connection (1): www1.nseindia.com:443\n",
      "DEBUG:urllib3.connectionpool:https://www1.nseindia.com:443 \"GET /products/dynaContent/common/productsSymbolMapping.jsp?symbol=TATASTEEL&segmentLink=3&symbolCount%0A%20%0A%0A%0A%0A%0A%0A2%0A&series=EQ&dateRange=+&fromDate=24-02-2011&toDate=23-02-2012&dataType=PRICEVOLUMEDELIVERABLE HTTP/1.1\" 200 19649\n"
     ]
    },
    {
     "name": "stdout",
     "output_type": "stream",
     "text": [
      "Downloading  [---------   ] 75.00 %\r"
     ]
    },
    {
     "name": "stderr",
     "output_type": "stream",
     "text": [
      "DEBUG:urllib3.connectionpool:Starting new HTTPS connection (1): www1.nseindia.com:443\n",
      "DEBUG:urllib3.connectionpool:https://www1.nseindia.com:443 \"GET /products/dynaContent/common/productsSymbolMapping.jsp?symbol=TATASTEEL&segmentLink=3&symbolCount%0A%20%0A%0A%0A%0A%0A%0A2%0A&series=EQ&dateRange=+&fromDate=24-02-2010&toDate=23-02-2011&dataType=PRICEVOLUMEDELIVERABLE HTTP/1.1\" 200 19241\n"
     ]
    },
    {
     "name": "stdout",
     "output_type": "stream",
     "text": [
      "Downloading  [----------  ] 83.33 %\r"
     ]
    },
    {
     "name": "stderr",
     "output_type": "stream",
     "text": [
      "DEBUG:urllib3.connectionpool:Starting new HTTPS connection (1): www1.nseindia.com:443\n",
      "DEBUG:urllib3.connectionpool:https://www1.nseindia.com:443 \"GET /products/dynaContent/common/productsSymbolMapping.jsp?symbol=TATASTEEL&segmentLink=3&symbolCount%0A%20%0A%0A%0A%0A%0A%0A2%0A&series=EQ&dateRange=+&fromDate=31-12-2009&toDate=23-02-2010&dataType=PRICEVOLUMEDELIVERABLE HTTP/1.1\" 200 5084\n"
     ]
    },
    {
     "name": "stdout",
     "output_type": "stream",
     "text": [
      "Downloading  [----------- ] 91.67 %\r"
     ]
    },
    {
     "name": "stderr",
     "output_type": "stream",
     "text": [
      "DEBUG:urllib3.connectionpool:Starting new HTTPS connection (1): www1.nseindia.com:443\n"
     ]
    },
    {
     "name": "stdout",
     "output_type": "stream",
     "text": [
      "Downloading  [------------] 100.00 % \n",
      "Generating for HEROMOTOCO\n",
      "HEROMOTOCO\n"
     ]
    },
    {
     "name": "stderr",
     "output_type": "stream",
     "text": [
      "DEBUG:urllib3.connectionpool:https://www1.nseindia.com:443 \"POST /marketinfo/sym_map/symbolCount.jsp?symbol= HTTP/1.1\" 200 10\n"
     ]
    },
    {
     "name": "stdout",
     "output_type": "stream",
     "text": [
      "Downloading  [            ]"
     ]
    },
    {
     "name": "stderr",
     "output_type": "stream",
     "text": [
      "DEBUG:urllib3.connectionpool:Starting new HTTPS connection (1): www1.nseindia.com:443\n"
     ]
    },
    {
     "name": "stdout",
     "output_type": "stream",
     "text": [
      "\r"
     ]
    },
    {
     "name": "stderr",
     "output_type": "stream",
     "text": [
      "DEBUG:urllib3.connectionpool:https://www1.nseindia.com:443 \"GET /products/dynaContent/common/productsSymbolMapping.jsp?symbol=HEROMOTOCO&segmentLink=3&symbolCount%0A%20%0A%0A%0A%0A%0A%0A2%0A&series=EQ&dateRange=+&fromDate=22-02-2020&toDate=20-02-2021&dataType=PRICEVOLUMEDELIVERABLE HTTP/1.1\" 200 21056\n"
     ]
    },
    {
     "name": "stdout",
     "output_type": "stream",
     "text": [
      "Downloading  [            ] 0.00 %\r"
     ]
    },
    {
     "name": "stderr",
     "output_type": "stream",
     "text": [
      "DEBUG:urllib3.connectionpool:Starting new HTTPS connection (1): www1.nseindia.com:443\n",
      "DEBUG:urllib3.connectionpool:https://www1.nseindia.com:443 \"GET /products/dynaContent/common/productsSymbolMapping.jsp?symbol=HEROMOTOCO&segmentLink=3&symbolCount%0A%20%0A%0A%0A%0A%0A%0A2%0A&series=EQ&dateRange=+&fromDate=22-02-2019&toDate=21-02-2020&dataType=PRICEVOLUMEDELIVERABLE HTTP/1.1\" 200 20421\n"
     ]
    },
    {
     "name": "stdout",
     "output_type": "stream",
     "text": [
      "Downloading  [-           ] 8.33 %\r"
     ]
    },
    {
     "name": "stderr",
     "output_type": "stream",
     "text": [
      "DEBUG:urllib3.connectionpool:Starting new HTTPS connection (1): www1.nseindia.com:443\n",
      "DEBUG:urllib3.connectionpool:https://www1.nseindia.com:443 \"GET /products/dynaContent/common/productsSymbolMapping.jsp?symbol=HEROMOTOCO&segmentLink=3&symbolCount%0A%20%0A%0A%0A%0A%0A%0A2%0A&series=EQ&dateRange=+&fromDate=22-02-2018&toDate=21-02-2019&dataType=PRICEVOLUMEDELIVERABLE HTTP/1.1\" 200 20471\n"
     ]
    },
    {
     "name": "stdout",
     "output_type": "stream",
     "text": [
      "Downloading  [--          ] 16.67 %\r"
     ]
    },
    {
     "name": "stderr",
     "output_type": "stream",
     "text": [
      "DEBUG:urllib3.connectionpool:Starting new HTTPS connection (1): www1.nseindia.com:443\n",
      "DEBUG:urllib3.connectionpool:https://www1.nseindia.com:443 \"GET /products/dynaContent/common/productsSymbolMapping.jsp?symbol=HEROMOTOCO&segmentLink=3&symbolCount%0A%20%0A%0A%0A%0A%0A%0A2%0A&series=EQ&dateRange=+&fromDate=22-02-2017&toDate=21-02-2018&dataType=PRICEVOLUMEDELIVERABLE HTTP/1.1\" 200 20411\n"
     ]
    },
    {
     "name": "stdout",
     "output_type": "stream",
     "text": [
      "Downloading  [---         ] 25.00 %\r"
     ]
    },
    {
     "name": "stderr",
     "output_type": "stream",
     "text": [
      "DEBUG:urllib3.connectionpool:Starting new HTTPS connection (1): www1.nseindia.com:443\n",
      "DEBUG:urllib3.connectionpool:https://www1.nseindia.com:443 \"GET /products/dynaContent/common/productsSymbolMapping.jsp?symbol=HEROMOTOCO&segmentLink=3&symbolCount%0A%20%0A%0A%0A%0A%0A%0A2%0A&series=EQ&dateRange=+&fromDate=23-02-2016&toDate=21-02-2017&dataType=PRICEVOLUMEDELIVERABLE HTTP/1.1\" 200 20539\n"
     ]
    },
    {
     "name": "stdout",
     "output_type": "stream",
     "text": [
      "Downloading  [----        ] 33.33 %\r"
     ]
    },
    {
     "name": "stderr",
     "output_type": "stream",
     "text": [
      "DEBUG:urllib3.connectionpool:Starting new HTTPS connection (1): www1.nseindia.com:443\n",
      "DEBUG:urllib3.connectionpool:https://www1.nseindia.com:443 \"GET /products/dynaContent/common/productsSymbolMapping.jsp?symbol=HEROMOTOCO&segmentLink=3&symbolCount%0A%20%0A%0A%0A%0A%0A%0A2%0A&series=EQ&dateRange=+&fromDate=23-02-2015&toDate=22-02-2016&dataType=PRICEVOLUMEDELIVERABLE HTTP/1.1\" 200 20263\n"
     ]
    },
    {
     "name": "stdout",
     "output_type": "stream",
     "text": [
      "Downloading  [-----       ] 41.67 %\r"
     ]
    },
    {
     "name": "stderr",
     "output_type": "stream",
     "text": [
      "DEBUG:urllib3.connectionpool:Starting new HTTPS connection (1): www1.nseindia.com:443\n",
      "DEBUG:urllib3.connectionpool:https://www1.nseindia.com:443 \"GET /products/dynaContent/common/productsSymbolMapping.jsp?symbol=HEROMOTOCO&segmentLink=3&symbolCount%0A%20%0A%0A%0A%0A%0A%0A2%0A&series=EQ&dateRange=+&fromDate=23-02-2014&toDate=22-02-2015&dataType=PRICEVOLUMEDELIVERABLE HTTP/1.1\" 200 20090\n"
     ]
    },
    {
     "name": "stdout",
     "output_type": "stream",
     "text": [
      "Downloading  [------      ] 50.00 %\r"
     ]
    },
    {
     "name": "stderr",
     "output_type": "stream",
     "text": [
      "DEBUG:urllib3.connectionpool:Starting new HTTPS connection (1): www1.nseindia.com:443\n",
      "DEBUG:urllib3.connectionpool:https://www1.nseindia.com:443 \"GET /products/dynaContent/common/productsSymbolMapping.jsp?symbol=HEROMOTOCO&segmentLink=3&symbolCount%0A%20%0A%0A%0A%0A%0A%0A2%0A&series=EQ&dateRange=+&fromDate=23-02-2013&toDate=22-02-2014&dataType=PRICEVOLUMEDELIVERABLE HTTP/1.1\" 200 19972\n"
     ]
    },
    {
     "name": "stdout",
     "output_type": "stream",
     "text": [
      "Downloading  [-------     ] 58.33 %\r"
     ]
    },
    {
     "name": "stderr",
     "output_type": "stream",
     "text": [
      "DEBUG:urllib3.connectionpool:Starting new HTTPS connection (1): www1.nseindia.com:443\n",
      "DEBUG:urllib3.connectionpool:https://www1.nseindia.com:443 \"GET /products/dynaContent/common/productsSymbolMapping.jsp?symbol=HEROMOTOCO&segmentLink=3&symbolCount%0A%20%0A%0A%0A%0A%0A%0A2%0A&series=EQ&dateRange=+&fromDate=24-02-2012&toDate=22-02-2013&dataType=PRICEVOLUMEDELIVERABLE HTTP/1.1\" 200 20226\n"
     ]
    },
    {
     "name": "stdout",
     "output_type": "stream",
     "text": [
      "Downloading  [--------    ] 66.67 %\r"
     ]
    },
    {
     "name": "stderr",
     "output_type": "stream",
     "text": [
      "DEBUG:urllib3.connectionpool:Starting new HTTPS connection (1): www1.nseindia.com:443\n",
      "DEBUG:urllib3.connectionpool:https://www1.nseindia.com:443 \"GET /products/dynaContent/common/productsSymbolMapping.jsp?symbol=HEROMOTOCO&segmentLink=3&symbolCount%0A%20%0A%0A%0A%0A%0A%0A2%0A&series=EQ&dateRange=+&fromDate=24-02-2011&toDate=23-02-2012&dataType=PRICEVOLUMEDELIVERABLE HTTP/1.1\" 200 19848\n"
     ]
    },
    {
     "name": "stdout",
     "output_type": "stream",
     "text": [
      "Downloading  [---------   ] 75.00 %\r"
     ]
    },
    {
     "name": "stderr",
     "output_type": "stream",
     "text": [
      "DEBUG:urllib3.connectionpool:Starting new HTTPS connection (1): www1.nseindia.com:443\n",
      "DEBUG:urllib3.connectionpool:https://www1.nseindia.com:443 \"GET /products/dynaContent/common/productsSymbolMapping.jsp?symbol=HEROMOTOCO&segmentLink=3&symbolCount%0A%20%0A%0A%0A%0A%0A%0A2%0A&series=EQ&dateRange=+&fromDate=24-02-2010&toDate=23-02-2011&dataType=PRICEVOLUMEDELIVERABLE HTTP/1.1\" 200 18965\n"
     ]
    },
    {
     "name": "stdout",
     "output_type": "stream",
     "text": [
      "Downloading  [----------  ] 83.33 %\r"
     ]
    },
    {
     "name": "stderr",
     "output_type": "stream",
     "text": [
      "DEBUG:urllib3.connectionpool:Starting new HTTPS connection (1): www1.nseindia.com:443\n",
      "DEBUG:urllib3.connectionpool:https://www1.nseindia.com:443 \"GET /products/dynaContent/common/productsSymbolMapping.jsp?symbol=HEROMOTOCO&segmentLink=3&symbolCount%0A%20%0A%0A%0A%0A%0A%0A2%0A&series=EQ&dateRange=+&fromDate=31-12-2009&toDate=23-02-2010&dataType=PRICEVOLUMEDELIVERABLE HTTP/1.1\" 200 5017\n"
     ]
    },
    {
     "name": "stdout",
     "output_type": "stream",
     "text": [
      "Downloading  [----------- ] 91.67 %\r"
     ]
    },
    {
     "name": "stderr",
     "output_type": "stream",
     "text": [
      "DEBUG:urllib3.connectionpool:Starting new HTTPS connection (1): www1.nseindia.com:443\n",
      "DEBUG:urllib3.connectionpool:https://www1.nseindia.com:443 \"POST /marketinfo/sym_map/symbolCount.jsp?symbol= HTTP/1.1\" 200 10\n"
     ]
    },
    {
     "name": "stdout",
     "output_type": "stream",
     "text": [
      "Downloading  [------------] 100.00 % \n",
      "Generating for SBIN\n",
      "SBIN\n",
      "Downloading  [            ]"
     ]
    },
    {
     "name": "stderr",
     "output_type": "stream",
     "text": [
      "DEBUG:urllib3.connectionpool:Starting new HTTPS connection (1): www1.nseindia.com:443\n"
     ]
    },
    {
     "name": "stdout",
     "output_type": "stream",
     "text": [
      "\r"
     ]
    },
    {
     "name": "stderr",
     "output_type": "stream",
     "text": [
      "DEBUG:urllib3.connectionpool:https://www1.nseindia.com:443 \"GET /products/dynaContent/common/productsSymbolMapping.jsp?symbol=SBIN&segmentLink=3&symbolCount%0A%20%0A%0A%0A%0A%0A%0A2%0A&series=EQ&dateRange=+&fromDate=22-02-2020&toDate=20-02-2021&dataType=PRICEVOLUMEDELIVERABLE HTTP/1.1\" 200 20739\n"
     ]
    },
    {
     "name": "stdout",
     "output_type": "stream",
     "text": [
      "Downloading  [            ] 0.00 %\r"
     ]
    },
    {
     "name": "stderr",
     "output_type": "stream",
     "text": [
      "DEBUG:urllib3.connectionpool:Starting new HTTPS connection (1): www1.nseindia.com:443\n",
      "DEBUG:urllib3.connectionpool:https://www1.nseindia.com:443 \"GET /products/dynaContent/common/productsSymbolMapping.jsp?symbol=SBIN&segmentLink=3&symbolCount%0A%20%0A%0A%0A%0A%0A%0A2%0A&series=EQ&dateRange=+&fromDate=22-02-2019&toDate=21-02-2020&dataType=PRICEVOLUMEDELIVERABLE HTTP/1.1\" 200 20283\n"
     ]
    },
    {
     "name": "stdout",
     "output_type": "stream",
     "text": [
      "Downloading  [-           ] 8.33 %\r"
     ]
    },
    {
     "name": "stderr",
     "output_type": "stream",
     "text": [
      "DEBUG:urllib3.connectionpool:Starting new HTTPS connection (1): www1.nseindia.com:443\n",
      "DEBUG:urllib3.connectionpool:https://www1.nseindia.com:443 \"GET /products/dynaContent/common/productsSymbolMapping.jsp?symbol=SBIN&segmentLink=3&symbolCount%0A%20%0A%0A%0A%0A%0A%0A2%0A&series=EQ&dateRange=+&fromDate=22-02-2018&toDate=21-02-2019&dataType=PRICEVOLUMEDELIVERABLE HTTP/1.1\" 200 20203\n"
     ]
    },
    {
     "name": "stdout",
     "output_type": "stream",
     "text": [
      "Downloading  [--          ] 16.67 %\r"
     ]
    },
    {
     "name": "stderr",
     "output_type": "stream",
     "text": [
      "DEBUG:urllib3.connectionpool:Starting new HTTPS connection (1): www1.nseindia.com:443\n",
      "DEBUG:urllib3.connectionpool:https://www1.nseindia.com:443 \"GET /products/dynaContent/common/productsSymbolMapping.jsp?symbol=SBIN&segmentLink=3&symbolCount%0A%20%0A%0A%0A%0A%0A%0A2%0A&series=EQ&dateRange=+&fromDate=22-02-2017&toDate=21-02-2018&dataType=PRICEVOLUMEDELIVERABLE HTTP/1.1\" 200 20086\n"
     ]
    },
    {
     "name": "stdout",
     "output_type": "stream",
     "text": [
      "Downloading  [---         ] 25.00 %\r"
     ]
    },
    {
     "name": "stderr",
     "output_type": "stream",
     "text": [
      "DEBUG:urllib3.connectionpool:Starting new HTTPS connection (1): www1.nseindia.com:443\n",
      "DEBUG:urllib3.connectionpool:https://www1.nseindia.com:443 \"GET /products/dynaContent/common/productsSymbolMapping.jsp?symbol=SBIN&segmentLink=3&symbolCount%0A%20%0A%0A%0A%0A%0A%0A2%0A&series=EQ&dateRange=+&fromDate=23-02-2016&toDate=21-02-2017&dataType=PRICEVOLUMEDELIVERABLE HTTP/1.1\" 200 20114\n"
     ]
    },
    {
     "name": "stdout",
     "output_type": "stream",
     "text": [
      "Downloading  [----        ] 33.33 %\r"
     ]
    },
    {
     "name": "stderr",
     "output_type": "stream",
     "text": [
      "DEBUG:urllib3.connectionpool:Starting new HTTPS connection (1): www1.nseindia.com:443\n",
      "DEBUG:urllib3.connectionpool:https://www1.nseindia.com:443 \"GET /products/dynaContent/common/productsSymbolMapping.jsp?symbol=SBIN&segmentLink=3&symbolCount%0A%20%0A%0A%0A%0A%0A%0A2%0A&series=EQ&dateRange=+&fromDate=23-02-2015&toDate=22-02-2016&dataType=PRICEVOLUMEDELIVERABLE HTTP/1.1\" 200 20230\n"
     ]
    },
    {
     "name": "stdout",
     "output_type": "stream",
     "text": [
      "Downloading  [-----       ] 41.67 %\r"
     ]
    },
    {
     "name": "stderr",
     "output_type": "stream",
     "text": [
      "DEBUG:urllib3.connectionpool:Starting new HTTPS connection (1): www1.nseindia.com:443\n",
      "DEBUG:urllib3.connectionpool:https://www1.nseindia.com:443 \"GET /products/dynaContent/common/productsSymbolMapping.jsp?symbol=SBIN&segmentLink=3&symbolCount%0A%20%0A%0A%0A%0A%0A%0A2%0A&series=EQ&dateRange=+&fromDate=23-02-2014&toDate=22-02-2015&dataType=PRICEVOLUMEDELIVERABLE HTTP/1.1\" 200 20736\n"
     ]
    },
    {
     "name": "stdout",
     "output_type": "stream",
     "text": [
      "Downloading  [------      ] 50.00 %\r"
     ]
    },
    {
     "name": "stderr",
     "output_type": "stream",
     "text": [
      "DEBUG:urllib3.connectionpool:Starting new HTTPS connection (1): www1.nseindia.com:443\n",
      "DEBUG:urllib3.connectionpool:https://www1.nseindia.com:443 \"GET /products/dynaContent/common/productsSymbolMapping.jsp?symbol=SBIN&segmentLink=3&symbolCount%0A%20%0A%0A%0A%0A%0A%0A2%0A&series=EQ&dateRange=+&fromDate=23-02-2013&toDate=22-02-2014&dataType=PRICEVOLUMEDELIVERABLE HTTP/1.1\" 200 20965\n"
     ]
    },
    {
     "name": "stdout",
     "output_type": "stream",
     "text": [
      "Downloading  [-------     ] 58.33 %\r"
     ]
    },
    {
     "name": "stderr",
     "output_type": "stream",
     "text": [
      "DEBUG:urllib3.connectionpool:Starting new HTTPS connection (1): www1.nseindia.com:443\n",
      "DEBUG:urllib3.connectionpool:https://www1.nseindia.com:443 \"GET /products/dynaContent/common/productsSymbolMapping.jsp?symbol=SBIN&segmentLink=3&symbolCount%0A%20%0A%0A%0A%0A%0A%0A2%0A&series=EQ&dateRange=+&fromDate=24-02-2012&toDate=22-02-2013&dataType=PRICEVOLUMEDELIVERABLE HTTP/1.1\" 200 21266\n"
     ]
    },
    {
     "name": "stdout",
     "output_type": "stream",
     "text": [
      "Downloading  [--------    ] 66.67 %\r"
     ]
    },
    {
     "name": "stderr",
     "output_type": "stream",
     "text": [
      "DEBUG:urllib3.connectionpool:Starting new HTTPS connection (1): www1.nseindia.com:443\n",
      "DEBUG:urllib3.connectionpool:https://www1.nseindia.com:443 \"GET /products/dynaContent/common/productsSymbolMapping.jsp?symbol=SBIN&segmentLink=3&symbolCount%0A%20%0A%0A%0A%0A%0A%0A2%0A&series=EQ&dateRange=+&fromDate=24-02-2011&toDate=23-02-2012&dataType=PRICEVOLUMEDELIVERABLE HTTP/1.1\" 200 20560\n"
     ]
    },
    {
     "name": "stdout",
     "output_type": "stream",
     "text": [
      "Downloading  [---------   ] 75.00 %\r"
     ]
    },
    {
     "name": "stderr",
     "output_type": "stream",
     "text": [
      "DEBUG:urllib3.connectionpool:Starting new HTTPS connection (1): www1.nseindia.com:443\n",
      "DEBUG:urllib3.connectionpool:https://www1.nseindia.com:443 \"GET /products/dynaContent/common/productsSymbolMapping.jsp?symbol=SBIN&segmentLink=3&symbolCount%0A%20%0A%0A%0A%0A%0A%0A2%0A&series=EQ&dateRange=+&fromDate=24-02-2010&toDate=23-02-2011&dataType=PRICEVOLUMEDELIVERABLE HTTP/1.1\" 200 19541\n"
     ]
    },
    {
     "name": "stdout",
     "output_type": "stream",
     "text": [
      "Downloading  [----------  ] 83.33 %\r"
     ]
    },
    {
     "name": "stderr",
     "output_type": "stream",
     "text": [
      "DEBUG:urllib3.connectionpool:Starting new HTTPS connection (1): www1.nseindia.com:443\n",
      "DEBUG:urllib3.connectionpool:https://www1.nseindia.com:443 \"GET /products/dynaContent/common/productsSymbolMapping.jsp?symbol=SBIN&segmentLink=3&symbolCount%0A%20%0A%0A%0A%0A%0A%0A2%0A&series=EQ&dateRange=+&fromDate=31-12-2009&toDate=23-02-2010&dataType=PRICEVOLUMEDELIVERABLE HTTP/1.1\" 200 5222\n"
     ]
    },
    {
     "name": "stdout",
     "output_type": "stream",
     "text": [
      "Downloading  [----------- ] 91.67 %\r"
     ]
    },
    {
     "name": "stderr",
     "output_type": "stream",
     "text": [
      "DEBUG:urllib3.connectionpool:Starting new HTTPS connection (1): www1.nseindia.com:443\n"
     ]
    },
    {
     "name": "stdout",
     "output_type": "stream",
     "text": [
      "Downloading  [------------] 100.00 % \n",
      "Generating for TATAMOTORS\n",
      "TATAMOTORS\n"
     ]
    },
    {
     "name": "stderr",
     "output_type": "stream",
     "text": [
      "DEBUG:urllib3.connectionpool:https://www1.nseindia.com:443 \"POST /marketinfo/sym_map/symbolCount.jsp?symbol= HTTP/1.1\" 200 10\n"
     ]
    },
    {
     "name": "stdout",
     "output_type": "stream",
     "text": [
      "Downloading  [            ]"
     ]
    },
    {
     "name": "stderr",
     "output_type": "stream",
     "text": [
      "DEBUG:urllib3.connectionpool:Starting new HTTPS connection (1): www1.nseindia.com:443\n"
     ]
    },
    {
     "name": "stdout",
     "output_type": "stream",
     "text": [
      "\r"
     ]
    },
    {
     "name": "stderr",
     "output_type": "stream",
     "text": [
      "DEBUG:urllib3.connectionpool:https://www1.nseindia.com:443 \"GET /products/dynaContent/common/productsSymbolMapping.jsp?symbol=TATAMOTORS&segmentLink=3&symbolCount%0A%20%0A%0A%0A%0A%0A%0A2%0A&series=EQ&dateRange=+&fromDate=22-02-2020&toDate=20-02-2021&dataType=PRICEVOLUMEDELIVERABLE HTTP/1.1\" 200 20567\n"
     ]
    },
    {
     "name": "stdout",
     "output_type": "stream",
     "text": [
      "Downloading  [            ] 0.00 %\r"
     ]
    },
    {
     "name": "stderr",
     "output_type": "stream",
     "text": [
      "DEBUG:urllib3.connectionpool:Starting new HTTPS connection (1): www1.nseindia.com:443\n",
      "DEBUG:urllib3.connectionpool:https://www1.nseindia.com:443 \"GET /products/dynaContent/common/productsSymbolMapping.jsp?symbol=TATAMOTORS&segmentLink=3&symbolCount%0A%20%0A%0A%0A%0A%0A%0A2%0A&series=EQ&dateRange=+&fromDate=22-02-2019&toDate=21-02-2020&dataType=PRICEVOLUMEDELIVERABLE HTTP/1.1\" 200 20113\n"
     ]
    },
    {
     "name": "stdout",
     "output_type": "stream",
     "text": [
      "Downloading  [-           ] 8.33 %\r"
     ]
    },
    {
     "name": "stderr",
     "output_type": "stream",
     "text": [
      "DEBUG:urllib3.connectionpool:Starting new HTTPS connection (1): www1.nseindia.com:443\n",
      "DEBUG:urllib3.connectionpool:https://www1.nseindia.com:443 \"GET /products/dynaContent/common/productsSymbolMapping.jsp?symbol=TATAMOTORS&segmentLink=3&symbolCount%0A%20%0A%0A%0A%0A%0A%0A2%0A&series=EQ&dateRange=+&fromDate=22-02-2018&toDate=21-02-2019&dataType=PRICEVOLUMEDELIVERABLE HTTP/1.1\" 200 20248\n"
     ]
    },
    {
     "name": "stdout",
     "output_type": "stream",
     "text": [
      "Downloading  [--          ] 16.67 %\r"
     ]
    },
    {
     "name": "stderr",
     "output_type": "stream",
     "text": [
      "DEBUG:urllib3.connectionpool:Starting new HTTPS connection (1): www1.nseindia.com:443\n",
      "DEBUG:urllib3.connectionpool:https://www1.nseindia.com:443 \"GET /products/dynaContent/common/productsSymbolMapping.jsp?symbol=TATAMOTORS&segmentLink=3&symbolCount%0A%20%0A%0A%0A%0A%0A%0A2%0A&series=EQ&dateRange=+&fromDate=22-02-2017&toDate=21-02-2018&dataType=PRICEVOLUMEDELIVERABLE HTTP/1.1\" 200 20071\n"
     ]
    },
    {
     "name": "stdout",
     "output_type": "stream",
     "text": [
      "Downloading  [---         ] 25.00 %\r"
     ]
    },
    {
     "name": "stderr",
     "output_type": "stream",
     "text": [
      "DEBUG:urllib3.connectionpool:Starting new HTTPS connection (1): www1.nseindia.com:443\n",
      "DEBUG:urllib3.connectionpool:https://www1.nseindia.com:443 \"GET /products/dynaContent/common/productsSymbolMapping.jsp?symbol=TATAMOTORS&segmentLink=3&symbolCount%0A%20%0A%0A%0A%0A%0A%0A2%0A&series=EQ&dateRange=+&fromDate=23-02-2016&toDate=21-02-2017&dataType=PRICEVOLUMEDELIVERABLE HTTP/1.1\" 200 20420\n"
     ]
    },
    {
     "name": "stdout",
     "output_type": "stream",
     "text": [
      "Downloading  [----        ] 33.33 %\r"
     ]
    },
    {
     "name": "stderr",
     "output_type": "stream",
     "text": [
      "DEBUG:urllib3.connectionpool:Starting new HTTPS connection (1): www1.nseindia.com:443\n",
      "DEBUG:urllib3.connectionpool:https://www1.nseindia.com:443 \"GET /products/dynaContent/common/productsSymbolMapping.jsp?symbol=TATAMOTORS&segmentLink=3&symbolCount%0A%20%0A%0A%0A%0A%0A%0A2%0A&series=EQ&dateRange=+&fromDate=23-02-2015&toDate=22-02-2016&dataType=PRICEVOLUMEDELIVERABLE HTTP/1.1\" 200 20500\n"
     ]
    },
    {
     "name": "stdout",
     "output_type": "stream",
     "text": [
      "Downloading  [-----       ] 41.67 %\r"
     ]
    },
    {
     "name": "stderr",
     "output_type": "stream",
     "text": [
      "DEBUG:urllib3.connectionpool:Starting new HTTPS connection (1): www1.nseindia.com:443\n",
      "DEBUG:urllib3.connectionpool:https://www1.nseindia.com:443 \"GET /products/dynaContent/common/productsSymbolMapping.jsp?symbol=TATAMOTORS&segmentLink=3&symbolCount%0A%20%0A%0A%0A%0A%0A%0A2%0A&series=EQ&dateRange=+&fromDate=23-02-2014&toDate=22-02-2015&dataType=PRICEVOLUMEDELIVERABLE HTTP/1.1\" 200 19931\n"
     ]
    },
    {
     "name": "stdout",
     "output_type": "stream",
     "text": [
      "Downloading  [------      ] 50.00 %\r"
     ]
    },
    {
     "name": "stderr",
     "output_type": "stream",
     "text": [
      "DEBUG:urllib3.connectionpool:Starting new HTTPS connection (1): www1.nseindia.com:443\n",
      "DEBUG:urllib3.connectionpool:https://www1.nseindia.com:443 \"GET /products/dynaContent/common/productsSymbolMapping.jsp?symbol=TATAMOTORS&segmentLink=3&symbolCount%0A%20%0A%0A%0A%0A%0A%0A2%0A&series=EQ&dateRange=+&fromDate=23-02-2013&toDate=22-02-2014&dataType=PRICEVOLUMEDELIVERABLE HTTP/1.1\" 200 20144\n"
     ]
    },
    {
     "name": "stdout",
     "output_type": "stream",
     "text": [
      "Downloading  [-------     ] 58.33 %\r"
     ]
    },
    {
     "name": "stderr",
     "output_type": "stream",
     "text": [
      "DEBUG:urllib3.connectionpool:Starting new HTTPS connection (1): www1.nseindia.com:443\n",
      "DEBUG:urllib3.connectionpool:https://www1.nseindia.com:443 \"GET /products/dynaContent/common/productsSymbolMapping.jsp?symbol=TATAMOTORS&segmentLink=3&symbolCount%0A%20%0A%0A%0A%0A%0A%0A2%0A&series=EQ&dateRange=+&fromDate=24-02-2012&toDate=22-02-2013&dataType=PRICEVOLUMEDELIVERABLE HTTP/1.1\" 200 20448\n"
     ]
    },
    {
     "name": "stdout",
     "output_type": "stream",
     "text": [
      "Downloading  [--------    ] 66.67 %\r"
     ]
    },
    {
     "name": "stderr",
     "output_type": "stream",
     "text": [
      "DEBUG:urllib3.connectionpool:Starting new HTTPS connection (1): www1.nseindia.com:443\n",
      "DEBUG:urllib3.connectionpool:https://www1.nseindia.com:443 \"GET /products/dynaContent/common/productsSymbolMapping.jsp?symbol=TATAMOTORS&segmentLink=3&symbolCount%0A%20%0A%0A%0A%0A%0A%0A2%0A&series=EQ&dateRange=+&fromDate=24-02-2011&toDate=23-02-2012&dataType=PRICEVOLUMEDELIVERABLE HTTP/1.1\" 200 20077\n"
     ]
    },
    {
     "name": "stdout",
     "output_type": "stream",
     "text": [
      "Downloading  [---------   ] 75.00 %\r"
     ]
    },
    {
     "name": "stderr",
     "output_type": "stream",
     "text": [
      "DEBUG:urllib3.connectionpool:Starting new HTTPS connection (1): www1.nseindia.com:443\n",
      "DEBUG:urllib3.connectionpool:https://www1.nseindia.com:443 \"GET /products/dynaContent/common/productsSymbolMapping.jsp?symbol=TATAMOTORS&segmentLink=3&symbolCount%0A%20%0A%0A%0A%0A%0A%0A2%0A&series=EQ&dateRange=+&fromDate=24-02-2010&toDate=23-02-2011&dataType=PRICEVOLUMEDELIVERABLE HTTP/1.1\" 200 19377\n"
     ]
    },
    {
     "name": "stdout",
     "output_type": "stream",
     "text": [
      "Downloading  [----------  ] 83.33 %\r"
     ]
    },
    {
     "name": "stderr",
     "output_type": "stream",
     "text": [
      "DEBUG:urllib3.connectionpool:Starting new HTTPS connection (1): www1.nseindia.com:443\n",
      "DEBUG:urllib3.connectionpool:https://www1.nseindia.com:443 \"GET /products/dynaContent/common/productsSymbolMapping.jsp?symbol=TATAMOTORS&segmentLink=3&symbolCount%0A%20%0A%0A%0A%0A%0A%0A2%0A&series=EQ&dateRange=+&fromDate=31-12-2009&toDate=23-02-2010&dataType=PRICEVOLUMEDELIVERABLE HTTP/1.1\" 200 5086\n"
     ]
    },
    {
     "name": "stdout",
     "output_type": "stream",
     "text": [
      "Downloading  [----------- ] 91.67 %\r"
     ]
    },
    {
     "name": "stderr",
     "output_type": "stream",
     "text": [
      "DEBUG:urllib3.connectionpool:Starting new HTTPS connection (1): www1.nseindia.com:443\n"
     ]
    },
    {
     "name": "stdout",
     "output_type": "stream",
     "text": [
      "Downloading  [------------] 100.00 % \n",
      "Generating for AXISBANK\n",
      "AXISBANK\n"
     ]
    },
    {
     "name": "stderr",
     "output_type": "stream",
     "text": [
      "DEBUG:urllib3.connectionpool:https://www1.nseindia.com:443 \"POST /marketinfo/sym_map/symbolCount.jsp?symbol= HTTP/1.1\" 200 10\n"
     ]
    },
    {
     "name": "stdout",
     "output_type": "stream",
     "text": [
      "Downloading  [            ]"
     ]
    },
    {
     "name": "stderr",
     "output_type": "stream",
     "text": [
      "DEBUG:urllib3.connectionpool:Starting new HTTPS connection (1): www1.nseindia.com:443\n"
     ]
    },
    {
     "name": "stdout",
     "output_type": "stream",
     "text": [
      "\r"
     ]
    },
    {
     "name": "stderr",
     "output_type": "stream",
     "text": [
      "DEBUG:urllib3.connectionpool:https://www1.nseindia.com:443 \"GET /products/dynaContent/common/productsSymbolMapping.jsp?symbol=AXISBANK&segmentLink=3&symbolCount%0A%20%0A%0A%0A%0A%0A%0A2%0A&series=EQ&dateRange=+&fromDate=22-02-2020&toDate=20-02-2021&dataType=PRICEVOLUMEDELIVERABLE HTTP/1.1\" 200 21226\n"
     ]
    },
    {
     "name": "stdout",
     "output_type": "stream",
     "text": [
      "Downloading  [            ] 0.00 %\r"
     ]
    },
    {
     "name": "stderr",
     "output_type": "stream",
     "text": [
      "DEBUG:urllib3.connectionpool:Starting new HTTPS connection (1): www1.nseindia.com:443\n",
      "DEBUG:urllib3.connectionpool:https://www1.nseindia.com:443 \"GET /products/dynaContent/common/productsSymbolMapping.jsp?symbol=AXISBANK&segmentLink=3&symbolCount%0A%20%0A%0A%0A%0A%0A%0A2%0A&series=EQ&dateRange=+&fromDate=22-02-2019&toDate=21-02-2020&dataType=PRICEVOLUMEDELIVERABLE HTTP/1.1\" 200 20509\n"
     ]
    },
    {
     "name": "stdout",
     "output_type": "stream",
     "text": [
      "Downloading  [-           ] 8.33 %\r"
     ]
    },
    {
     "name": "stderr",
     "output_type": "stream",
     "text": [
      "DEBUG:urllib3.connectionpool:Starting new HTTPS connection (1): www1.nseindia.com:443\n",
      "DEBUG:urllib3.connectionpool:https://www1.nseindia.com:443 \"GET /products/dynaContent/common/productsSymbolMapping.jsp?symbol=AXISBANK&segmentLink=3&symbolCount%0A%20%0A%0A%0A%0A%0A%0A2%0A&series=EQ&dateRange=+&fromDate=22-02-2018&toDate=21-02-2019&dataType=PRICEVOLUMEDELIVERABLE HTTP/1.1\" 200 20530\n"
     ]
    },
    {
     "name": "stdout",
     "output_type": "stream",
     "text": [
      "Downloading  [--          ] 16.67 %\r"
     ]
    },
    {
     "name": "stderr",
     "output_type": "stream",
     "text": [
      "DEBUG:urllib3.connectionpool:Starting new HTTPS connection (1): www1.nseindia.com:443\n",
      "DEBUG:urllib3.connectionpool:https://www1.nseindia.com:443 \"GET /products/dynaContent/common/productsSymbolMapping.jsp?symbol=AXISBANK&segmentLink=3&symbolCount%0A%20%0A%0A%0A%0A%0A%0A2%0A&series=EQ&dateRange=+&fromDate=22-02-2017&toDate=21-02-2018&dataType=PRICEVOLUMEDELIVERABLE HTTP/1.1\" 200 20232\n"
     ]
    },
    {
     "name": "stdout",
     "output_type": "stream",
     "text": [
      "Downloading  [---         ] 25.00 %\r"
     ]
    },
    {
     "name": "stderr",
     "output_type": "stream",
     "text": [
      "DEBUG:urllib3.connectionpool:Starting new HTTPS connection (1): www1.nseindia.com:443\n",
      "DEBUG:urllib3.connectionpool:https://www1.nseindia.com:443 \"GET /products/dynaContent/common/productsSymbolMapping.jsp?symbol=AXISBANK&segmentLink=3&symbolCount%0A%20%0A%0A%0A%0A%0A%0A2%0A&series=EQ&dateRange=+&fromDate=23-02-2016&toDate=21-02-2017&dataType=PRICEVOLUMEDELIVERABLE HTTP/1.1\" 200 20561\n"
     ]
    },
    {
     "name": "stdout",
     "output_type": "stream",
     "text": [
      "Downloading  [----        ] 33.33 %\r"
     ]
    },
    {
     "name": "stderr",
     "output_type": "stream",
     "text": [
      "DEBUG:urllib3.connectionpool:Starting new HTTPS connection (1): www1.nseindia.com:443\n",
      "DEBUG:urllib3.connectionpool:https://www1.nseindia.com:443 \"GET /products/dynaContent/common/productsSymbolMapping.jsp?symbol=AXISBANK&segmentLink=3&symbolCount%0A%20%0A%0A%0A%0A%0A%0A2%0A&series=EQ&dateRange=+&fromDate=23-02-2015&toDate=22-02-2016&dataType=PRICEVOLUMEDELIVERABLE HTTP/1.1\" 200 20497\n"
     ]
    },
    {
     "name": "stdout",
     "output_type": "stream",
     "text": [
      "Downloading  [-----       ] 41.67 %\r"
     ]
    },
    {
     "name": "stderr",
     "output_type": "stream",
     "text": [
      "DEBUG:urllib3.connectionpool:Starting new HTTPS connection (1): www1.nseindia.com:443\n",
      "DEBUG:urllib3.connectionpool:https://www1.nseindia.com:443 \"GET /products/dynaContent/common/productsSymbolMapping.jsp?symbol=AXISBANK&segmentLink=3&symbolCount%0A%20%0A%0A%0A%0A%0A%0A2%0A&series=EQ&dateRange=+&fromDate=23-02-2014&toDate=22-02-2015&dataType=PRICEVOLUMEDELIVERABLE HTTP/1.1\" 200 20189\n"
     ]
    },
    {
     "name": "stdout",
     "output_type": "stream",
     "text": [
      "Downloading  [------      ] 50.00 %\r"
     ]
    },
    {
     "name": "stderr",
     "output_type": "stream",
     "text": [
      "DEBUG:urllib3.connectionpool:Starting new HTTPS connection (1): www1.nseindia.com:443\n",
      "DEBUG:urllib3.connectionpool:https://www1.nseindia.com:443 \"GET /products/dynaContent/common/productsSymbolMapping.jsp?symbol=AXISBANK&segmentLink=3&symbolCount%0A%20%0A%0A%0A%0A%0A%0A2%0A&series=EQ&dateRange=+&fromDate=23-02-2013&toDate=22-02-2014&dataType=PRICEVOLUMEDELIVERABLE HTTP/1.1\" 200 20990\n"
     ]
    },
    {
     "name": "stdout",
     "output_type": "stream",
     "text": [
      "Downloading  [-------     ] 58.33 %\r"
     ]
    },
    {
     "name": "stderr",
     "output_type": "stream",
     "text": [
      "DEBUG:urllib3.connectionpool:Starting new HTTPS connection (1): www1.nseindia.com:443\n",
      "DEBUG:urllib3.connectionpool:https://www1.nseindia.com:443 \"GET /products/dynaContent/common/productsSymbolMapping.jsp?symbol=AXISBANK&segmentLink=3&symbolCount%0A%20%0A%0A%0A%0A%0A%0A2%0A&series=EQ&dateRange=+&fromDate=24-02-2012&toDate=22-02-2013&dataType=PRICEVOLUMEDELIVERABLE HTTP/1.1\" 200 20889\n"
     ]
    },
    {
     "name": "stdout",
     "output_type": "stream",
     "text": [
      "Downloading  [--------    ] 66.67 %\r"
     ]
    },
    {
     "name": "stderr",
     "output_type": "stream",
     "text": [
      "DEBUG:urllib3.connectionpool:Starting new HTTPS connection (1): www1.nseindia.com:443\n",
      "DEBUG:urllib3.connectionpool:https://www1.nseindia.com:443 \"GET /products/dynaContent/common/productsSymbolMapping.jsp?symbol=AXISBANK&segmentLink=3&symbolCount%0A%20%0A%0A%0A%0A%0A%0A2%0A&series=EQ&dateRange=+&fromDate=24-02-2011&toDate=23-02-2012&dataType=PRICEVOLUMEDELIVERABLE HTTP/1.1\" 200 20045\n"
     ]
    },
    {
     "name": "stdout",
     "output_type": "stream",
     "text": [
      "Downloading  [---------   ] 75.00 %\r"
     ]
    },
    {
     "name": "stderr",
     "output_type": "stream",
     "text": [
      "DEBUG:urllib3.connectionpool:Starting new HTTPS connection (1): www1.nseindia.com:443\n",
      "DEBUG:urllib3.connectionpool:https://www1.nseindia.com:443 \"GET /products/dynaContent/common/productsSymbolMapping.jsp?symbol=AXISBANK&segmentLink=3&symbolCount%0A%20%0A%0A%0A%0A%0A%0A2%0A&series=EQ&dateRange=+&fromDate=24-02-2010&toDate=23-02-2011&dataType=PRICEVOLUMEDELIVERABLE HTTP/1.1\" 200 19200\n"
     ]
    },
    {
     "name": "stdout",
     "output_type": "stream",
     "text": [
      "Downloading  [----------  ] 83.33 %\r"
     ]
    },
    {
     "name": "stderr",
     "output_type": "stream",
     "text": [
      "DEBUG:urllib3.connectionpool:Starting new HTTPS connection (1): www1.nseindia.com:443\n",
      "DEBUG:urllib3.connectionpool:https://www1.nseindia.com:443 \"GET /products/dynaContent/common/productsSymbolMapping.jsp?symbol=AXISBANK&segmentLink=3&symbolCount%0A%20%0A%0A%0A%0A%0A%0A2%0A&series=EQ&dateRange=+&fromDate=31-12-2009&toDate=23-02-2010&dataType=PRICEVOLUMEDELIVERABLE HTTP/1.1\" 200 5133\n"
     ]
    },
    {
     "name": "stdout",
     "output_type": "stream",
     "text": [
      "Downloading  [----------- ] 91.67 %\r"
     ]
    },
    {
     "name": "stderr",
     "output_type": "stream",
     "text": [
      "DEBUG:urllib3.connectionpool:Starting new HTTPS connection (1): www1.nseindia.com:443\n"
     ]
    },
    {
     "name": "stdout",
     "output_type": "stream",
     "text": [
      "Downloading  [------------] 100.00 % \n",
      "Generating for ICICIBANK\n",
      "ICICIBANK\n"
     ]
    },
    {
     "name": "stderr",
     "output_type": "stream",
     "text": [
      "DEBUG:urllib3.connectionpool:https://www1.nseindia.com:443 \"POST /marketinfo/sym_map/symbolCount.jsp?symbol= HTTP/1.1\" 200 10\n"
     ]
    },
    {
     "name": "stdout",
     "output_type": "stream",
     "text": [
      "Downloading  [            ]"
     ]
    },
    {
     "name": "stderr",
     "output_type": "stream",
     "text": [
      "DEBUG:urllib3.connectionpool:Starting new HTTPS connection (1): www1.nseindia.com:443\n"
     ]
    },
    {
     "name": "stdout",
     "output_type": "stream",
     "text": [
      "\r"
     ]
    },
    {
     "name": "stderr",
     "output_type": "stream",
     "text": [
      "DEBUG:urllib3.connectionpool:https://www1.nseindia.com:443 \"GET /products/dynaContent/common/productsSymbolMapping.jsp?symbol=ICICIBANK&segmentLink=3&symbolCount%0A%20%0A%0A%0A%0A%0A%0A2%0A&series=EQ&dateRange=+&fromDate=22-02-2020&toDate=20-02-2021&dataType=PRICEVOLUMEDELIVERABLE HTTP/1.1\" 200 21183\n"
     ]
    },
    {
     "name": "stdout",
     "output_type": "stream",
     "text": [
      "Downloading  [            ] 0.00 %\r"
     ]
    },
    {
     "name": "stderr",
     "output_type": "stream",
     "text": [
      "DEBUG:urllib3.connectionpool:Starting new HTTPS connection (1): www1.nseindia.com:443\n",
      "DEBUG:urllib3.connectionpool:https://www1.nseindia.com:443 \"GET /products/dynaContent/common/productsSymbolMapping.jsp?symbol=ICICIBANK&segmentLink=3&symbolCount%0A%20%0A%0A%0A%0A%0A%0A2%0A&series=EQ&dateRange=+&fromDate=22-02-2019&toDate=21-02-2020&dataType=PRICEVOLUMEDELIVERABLE HTTP/1.1\" 200 20417\n"
     ]
    },
    {
     "name": "stdout",
     "output_type": "stream",
     "text": [
      "Downloading  [-           ] 8.33 %\r"
     ]
    },
    {
     "name": "stderr",
     "output_type": "stream",
     "text": [
      "DEBUG:urllib3.connectionpool:Starting new HTTPS connection (1): www1.nseindia.com:443\n",
      "DEBUG:urllib3.connectionpool:https://www1.nseindia.com:443 \"GET /products/dynaContent/common/productsSymbolMapping.jsp?symbol=ICICIBANK&segmentLink=3&symbolCount%0A%20%0A%0A%0A%0A%0A%0A2%0A&series=EQ&dateRange=+&fromDate=22-02-2018&toDate=21-02-2019&dataType=PRICEVOLUMEDELIVERABLE HTTP/1.1\" 200 20471\n"
     ]
    },
    {
     "name": "stdout",
     "output_type": "stream",
     "text": [
      "Downloading  [--          ] 16.67 %\r"
     ]
    },
    {
     "name": "stderr",
     "output_type": "stream",
     "text": [
      "DEBUG:urllib3.connectionpool:Starting new HTTPS connection (1): www1.nseindia.com:443\n",
      "DEBUG:urllib3.connectionpool:https://www1.nseindia.com:443 \"GET /products/dynaContent/common/productsSymbolMapping.jsp?symbol=ICICIBANK&segmentLink=3&symbolCount%0A%20%0A%0A%0A%0A%0A%0A2%0A&series=EQ&dateRange=+&fromDate=22-02-2017&toDate=21-02-2018&dataType=PRICEVOLUMEDELIVERABLE HTTP/1.1\" 200 20341\n"
     ]
    },
    {
     "name": "stdout",
     "output_type": "stream",
     "text": [
      "Downloading  [---         ] 25.00 %\r"
     ]
    },
    {
     "name": "stderr",
     "output_type": "stream",
     "text": [
      "DEBUG:urllib3.connectionpool:Starting new HTTPS connection (1): www1.nseindia.com:443\n",
      "DEBUG:urllib3.connectionpool:https://www1.nseindia.com:443 \"GET /products/dynaContent/common/productsSymbolMapping.jsp?symbol=ICICIBANK&segmentLink=3&symbolCount%0A%20%0A%0A%0A%0A%0A%0A2%0A&series=EQ&dateRange=+&fromDate=23-02-2016&toDate=21-02-2017&dataType=PRICEVOLUMEDELIVERABLE HTTP/1.1\" 200 20261\n"
     ]
    },
    {
     "name": "stdout",
     "output_type": "stream",
     "text": [
      "Downloading  [----        ] 33.33 %\r"
     ]
    },
    {
     "name": "stderr",
     "output_type": "stream",
     "text": [
      "DEBUG:urllib3.connectionpool:Starting new HTTPS connection (1): www1.nseindia.com:443\n",
      "DEBUG:urllib3.connectionpool:https://www1.nseindia.com:443 \"GET /products/dynaContent/common/productsSymbolMapping.jsp?symbol=ICICIBANK&segmentLink=3&symbolCount%0A%20%0A%0A%0A%0A%0A%0A2%0A&series=EQ&dateRange=+&fromDate=23-02-2015&toDate=22-02-2016&dataType=PRICEVOLUMEDELIVERABLE HTTP/1.1\" 200 20372\n"
     ]
    },
    {
     "name": "stdout",
     "output_type": "stream",
     "text": [
      "Downloading  [-----       ] 41.67 %\r"
     ]
    },
    {
     "name": "stderr",
     "output_type": "stream",
     "text": [
      "DEBUG:urllib3.connectionpool:Starting new HTTPS connection (1): www1.nseindia.com:443\n",
      "DEBUG:urllib3.connectionpool:https://www1.nseindia.com:443 \"GET /products/dynaContent/common/productsSymbolMapping.jsp?symbol=ICICIBANK&segmentLink=3&symbolCount%0A%20%0A%0A%0A%0A%0A%0A2%0A&series=EQ&dateRange=+&fromDate=23-02-2014&toDate=22-02-2015&dataType=PRICEVOLUMEDELIVERABLE HTTP/1.1\" 200 20416\n"
     ]
    },
    {
     "name": "stdout",
     "output_type": "stream",
     "text": [
      "Downloading  [------      ] 50.00 %\r"
     ]
    },
    {
     "name": "stderr",
     "output_type": "stream",
     "text": [
      "DEBUG:urllib3.connectionpool:Starting new HTTPS connection (1): www1.nseindia.com:443\n",
      "DEBUG:urllib3.connectionpool:https://www1.nseindia.com:443 \"GET /products/dynaContent/common/productsSymbolMapping.jsp?symbol=ICICIBANK&segmentLink=3&symbolCount%0A%20%0A%0A%0A%0A%0A%0A2%0A&series=EQ&dateRange=+&fromDate=23-02-2013&toDate=22-02-2014&dataType=PRICEVOLUMEDELIVERABLE HTTP/1.1\" 200 20927\n"
     ]
    },
    {
     "name": "stdout",
     "output_type": "stream",
     "text": [
      "Downloading  [-------     ] 58.33 %\r"
     ]
    },
    {
     "name": "stderr",
     "output_type": "stream",
     "text": [
      "DEBUG:urllib3.connectionpool:Starting new HTTPS connection (1): www1.nseindia.com:443\n",
      "DEBUG:urllib3.connectionpool:https://www1.nseindia.com:443 \"GET /products/dynaContent/common/productsSymbolMapping.jsp?symbol=ICICIBANK&segmentLink=3&symbolCount%0A%20%0A%0A%0A%0A%0A%0A2%0A&series=EQ&dateRange=+&fromDate=24-02-2012&toDate=22-02-2013&dataType=PRICEVOLUMEDELIVERABLE HTTP/1.1\" 200 20805\n"
     ]
    },
    {
     "name": "stdout",
     "output_type": "stream",
     "text": [
      "Downloading  [--------    ] 66.67 %\r"
     ]
    },
    {
     "name": "stderr",
     "output_type": "stream",
     "text": [
      "DEBUG:urllib3.connectionpool:Starting new HTTPS connection (1): www1.nseindia.com:443\n",
      "DEBUG:urllib3.connectionpool:https://www1.nseindia.com:443 \"GET /products/dynaContent/common/productsSymbolMapping.jsp?symbol=ICICIBANK&segmentLink=3&symbolCount%0A%20%0A%0A%0A%0A%0A%0A2%0A&series=EQ&dateRange=+&fromDate=24-02-2011&toDate=23-02-2012&dataType=PRICEVOLUMEDELIVERABLE HTTP/1.1\" 200 20216\n"
     ]
    },
    {
     "name": "stdout",
     "output_type": "stream",
     "text": [
      "Downloading  [---------   ] 75.00 %\r"
     ]
    },
    {
     "name": "stderr",
     "output_type": "stream",
     "text": [
      "DEBUG:urllib3.connectionpool:Starting new HTTPS connection (1): www1.nseindia.com:443\n",
      "DEBUG:urllib3.connectionpool:https://www1.nseindia.com:443 \"GET /products/dynaContent/common/productsSymbolMapping.jsp?symbol=ICICIBANK&segmentLink=3&symbolCount%0A%20%0A%0A%0A%0A%0A%0A2%0A&series=EQ&dateRange=+&fromDate=24-02-2010&toDate=23-02-2011&dataType=PRICEVOLUMEDELIVERABLE HTTP/1.1\" 200 19299\n"
     ]
    },
    {
     "name": "stdout",
     "output_type": "stream",
     "text": [
      "Downloading  [----------  ] 83.33 %\r"
     ]
    },
    {
     "name": "stderr",
     "output_type": "stream",
     "text": [
      "DEBUG:urllib3.connectionpool:Starting new HTTPS connection (1): www1.nseindia.com:443\n",
      "DEBUG:urllib3.connectionpool:https://www1.nseindia.com:443 \"GET /products/dynaContent/common/productsSymbolMapping.jsp?symbol=ICICIBANK&segmentLink=3&symbolCount%0A%20%0A%0A%0A%0A%0A%0A2%0A&series=EQ&dateRange=+&fromDate=31-12-2009&toDate=23-02-2010&dataType=PRICEVOLUMEDELIVERABLE HTTP/1.1\" 200 5064\n"
     ]
    },
    {
     "name": "stdout",
     "output_type": "stream",
     "text": [
      "Downloading  [----------- ] 91.67 %\r"
     ]
    },
    {
     "name": "stderr",
     "output_type": "stream",
     "text": [
      "DEBUG:urllib3.connectionpool:Starting new HTTPS connection (1): www1.nseindia.com:443\n"
     ]
    },
    {
     "name": "stdout",
     "output_type": "stream",
     "text": [
      "Downloading  [------------] 100.00 % \n",
      "Generating for BAJAJ-AUTO\n",
      "BAJAJ-AUTO\n"
     ]
    },
    {
     "name": "stderr",
     "output_type": "stream",
     "text": [
      "DEBUG:urllib3.connectionpool:https://www1.nseindia.com:443 \"POST /marketinfo/sym_map/symbolCount.jsp?symbol= HTTP/1.1\" 200 10\n"
     ]
    },
    {
     "name": "stdout",
     "output_type": "stream",
     "text": [
      "Downloading  [            ]"
     ]
    },
    {
     "name": "stderr",
     "output_type": "stream",
     "text": [
      "DEBUG:urllib3.connectionpool:Starting new HTTPS connection (1): www1.nseindia.com:443\n"
     ]
    },
    {
     "name": "stdout",
     "output_type": "stream",
     "text": [
      "\r"
     ]
    },
    {
     "name": "stderr",
     "output_type": "stream",
     "text": [
      "DEBUG:urllib3.connectionpool:https://www1.nseindia.com:443 \"GET /products/dynaContent/common/productsSymbolMapping.jsp?symbol=BAJAJ-AUTO&segmentLink=3&symbolCount%0A%20%0A%0A%0A%0A%0A%0A2%0A&series=EQ&dateRange=+&fromDate=22-02-2020&toDate=20-02-2021&dataType=PRICEVOLUMEDELIVERABLE HTTP/1.1\" 200 20799\n"
     ]
    },
    {
     "name": "stdout",
     "output_type": "stream",
     "text": [
      "Downloading  [            ] 0.00 %\r"
     ]
    },
    {
     "name": "stderr",
     "output_type": "stream",
     "text": [
      "DEBUG:urllib3.connectionpool:Starting new HTTPS connection (1): www1.nseindia.com:443\n",
      "DEBUG:urllib3.connectionpool:https://www1.nseindia.com:443 \"GET /products/dynaContent/common/productsSymbolMapping.jsp?symbol=BAJAJ-AUTO&segmentLink=3&symbolCount%0A%20%0A%0A%0A%0A%0A%0A2%0A&series=EQ&dateRange=+&fromDate=22-02-2019&toDate=21-02-2020&dataType=PRICEVOLUMEDELIVERABLE HTTP/1.1\" 200 20254\n"
     ]
    },
    {
     "name": "stdout",
     "output_type": "stream",
     "text": [
      "Downloading  [-           ] 8.33 %\r"
     ]
    },
    {
     "name": "stderr",
     "output_type": "stream",
     "text": [
      "DEBUG:urllib3.connectionpool:Starting new HTTPS connection (1): www1.nseindia.com:443\n",
      "DEBUG:urllib3.connectionpool:https://www1.nseindia.com:443 \"GET /products/dynaContent/common/productsSymbolMapping.jsp?symbol=BAJAJ-AUTO&segmentLink=3&symbolCount%0A%20%0A%0A%0A%0A%0A%0A2%0A&series=EQ&dateRange=+&fromDate=22-02-2018&toDate=21-02-2019&dataType=PRICEVOLUMEDELIVERABLE HTTP/1.1\" 200 20439\n"
     ]
    },
    {
     "name": "stdout",
     "output_type": "stream",
     "text": [
      "Downloading  [--          ] 16.67 %\r"
     ]
    },
    {
     "name": "stderr",
     "output_type": "stream",
     "text": [
      "DEBUG:urllib3.connectionpool:Starting new HTTPS connection (1): www1.nseindia.com:443\n",
      "DEBUG:urllib3.connectionpool:https://www1.nseindia.com:443 \"GET /products/dynaContent/common/productsSymbolMapping.jsp?symbol=BAJAJ-AUTO&segmentLink=3&symbolCount%0A%20%0A%0A%0A%0A%0A%0A2%0A&series=EQ&dateRange=+&fromDate=22-02-2017&toDate=21-02-2018&dataType=PRICEVOLUMEDELIVERABLE HTTP/1.1\" 200 20110\n"
     ]
    },
    {
     "name": "stdout",
     "output_type": "stream",
     "text": [
      "Downloading  [---         ] 25.00 %\r"
     ]
    },
    {
     "name": "stderr",
     "output_type": "stream",
     "text": [
      "DEBUG:urllib3.connectionpool:Starting new HTTPS connection (1): www1.nseindia.com:443\n",
      "DEBUG:urllib3.connectionpool:https://www1.nseindia.com:443 \"GET /products/dynaContent/common/productsSymbolMapping.jsp?symbol=BAJAJ-AUTO&segmentLink=3&symbolCount%0A%20%0A%0A%0A%0A%0A%0A2%0A&series=EQ&dateRange=+&fromDate=23-02-2016&toDate=21-02-2017&dataType=PRICEVOLUMEDELIVERABLE HTTP/1.1\" 200 20166\n"
     ]
    },
    {
     "name": "stdout",
     "output_type": "stream",
     "text": [
      "Downloading  [----        ] 33.33 %\r"
     ]
    },
    {
     "name": "stderr",
     "output_type": "stream",
     "text": [
      "DEBUG:urllib3.connectionpool:Starting new HTTPS connection (1): www1.nseindia.com:443\n",
      "DEBUG:urllib3.connectionpool:https://www1.nseindia.com:443 \"GET /products/dynaContent/common/productsSymbolMapping.jsp?symbol=BAJAJ-AUTO&segmentLink=3&symbolCount%0A%20%0A%0A%0A%0A%0A%0A2%0A&series=EQ&dateRange=+&fromDate=23-02-2015&toDate=22-02-2016&dataType=PRICEVOLUMEDELIVERABLE HTTP/1.1\" 200 20281\n"
     ]
    },
    {
     "name": "stdout",
     "output_type": "stream",
     "text": [
      "Downloading  [-----       ] 41.67 %\r"
     ]
    },
    {
     "name": "stderr",
     "output_type": "stream",
     "text": [
      "DEBUG:urllib3.connectionpool:Starting new HTTPS connection (1): www1.nseindia.com:443\n",
      "DEBUG:urllib3.connectionpool:https://www1.nseindia.com:443 \"GET /products/dynaContent/common/productsSymbolMapping.jsp?symbol=BAJAJ-AUTO&segmentLink=3&symbolCount%0A%20%0A%0A%0A%0A%0A%0A2%0A&series=EQ&dateRange=+&fromDate=23-02-2014&toDate=22-02-2015&dataType=PRICEVOLUMEDELIVERABLE HTTP/1.1\" 200 19924\n"
     ]
    },
    {
     "name": "stdout",
     "output_type": "stream",
     "text": [
      "Downloading  [------      ] 50.00 %\r"
     ]
    },
    {
     "name": "stderr",
     "output_type": "stream",
     "text": [
      "DEBUG:urllib3.connectionpool:Starting new HTTPS connection (1): www1.nseindia.com:443\n",
      "DEBUG:urllib3.connectionpool:https://www1.nseindia.com:443 \"GET /products/dynaContent/common/productsSymbolMapping.jsp?symbol=BAJAJ-AUTO&segmentLink=3&symbolCount%0A%20%0A%0A%0A%0A%0A%0A2%0A&series=EQ&dateRange=+&fromDate=23-02-2013&toDate=22-02-2014&dataType=PRICEVOLUMEDELIVERABLE HTTP/1.1\" 200 20190\n"
     ]
    },
    {
     "name": "stdout",
     "output_type": "stream",
     "text": [
      "Downloading  [-------     ] 58.33 %\r"
     ]
    },
    {
     "name": "stderr",
     "output_type": "stream",
     "text": [
      "DEBUG:urllib3.connectionpool:Starting new HTTPS connection (1): www1.nseindia.com:443\n",
      "DEBUG:urllib3.connectionpool:https://www1.nseindia.com:443 \"GET /products/dynaContent/common/productsSymbolMapping.jsp?symbol=BAJAJ-AUTO&segmentLink=3&symbolCount%0A%20%0A%0A%0A%0A%0A%0A2%0A&series=EQ&dateRange=+&fromDate=24-02-2012&toDate=22-02-2013&dataType=PRICEVOLUMEDELIVERABLE HTTP/1.1\" 200 20327\n"
     ]
    },
    {
     "name": "stdout",
     "output_type": "stream",
     "text": [
      "Downloading  [--------    ] 66.67 %\r"
     ]
    },
    {
     "name": "stderr",
     "output_type": "stream",
     "text": [
      "DEBUG:urllib3.connectionpool:Starting new HTTPS connection (1): www1.nseindia.com:443\n",
      "DEBUG:urllib3.connectionpool:https://www1.nseindia.com:443 \"GET /products/dynaContent/common/productsSymbolMapping.jsp?symbol=BAJAJ-AUTO&segmentLink=3&symbolCount%0A%20%0A%0A%0A%0A%0A%0A2%0A&series=EQ&dateRange=+&fromDate=24-02-2011&toDate=23-02-2012&dataType=PRICEVOLUMEDELIVERABLE HTTP/1.1\" 200 19556\n"
     ]
    },
    {
     "name": "stdout",
     "output_type": "stream",
     "text": [
      "Downloading  [---------   ] 75.00 %\r"
     ]
    },
    {
     "name": "stderr",
     "output_type": "stream",
     "text": [
      "DEBUG:urllib3.connectionpool:Starting new HTTPS connection (1): www1.nseindia.com:443\n",
      "DEBUG:urllib3.connectionpool:https://www1.nseindia.com:443 \"GET /products/dynaContent/common/productsSymbolMapping.jsp?symbol=BAJAJ-AUTO&segmentLink=3&symbolCount%0A%20%0A%0A%0A%0A%0A%0A2%0A&series=EQ&dateRange=+&fromDate=24-02-2010&toDate=23-02-2011&dataType=PRICEVOLUMEDELIVERABLE HTTP/1.1\" 200 19022\n"
     ]
    },
    {
     "name": "stdout",
     "output_type": "stream",
     "text": [
      "Downloading  [----------  ] 83.33 %\r"
     ]
    },
    {
     "name": "stderr",
     "output_type": "stream",
     "text": [
      "DEBUG:urllib3.connectionpool:Starting new HTTPS connection (1): www1.nseindia.com:443\n",
      "DEBUG:urllib3.connectionpool:https://www1.nseindia.com:443 \"GET /products/dynaContent/common/productsSymbolMapping.jsp?symbol=BAJAJ-AUTO&segmentLink=3&symbolCount%0A%20%0A%0A%0A%0A%0A%0A2%0A&series=EQ&dateRange=+&fromDate=31-12-2009&toDate=23-02-2010&dataType=PRICEVOLUMEDELIVERABLE HTTP/1.1\" 200 5009\n"
     ]
    },
    {
     "name": "stdout",
     "output_type": "stream",
     "text": [
      "Downloading  [----------- ] 91.67 %\r"
     ]
    },
    {
     "name": "stderr",
     "output_type": "stream",
     "text": [
      "DEBUG:urllib3.connectionpool:Starting new HTTPS connection (1): www1.nseindia.com:443\n"
     ]
    },
    {
     "name": "stdout",
     "output_type": "stream",
     "text": [
      "Downloading  [------------] 100.00 % \n",
      "Generating for EICHERMOT\n",
      "EICHERMOT\n"
     ]
    },
    {
     "name": "stderr",
     "output_type": "stream",
     "text": [
      "DEBUG:urllib3.connectionpool:https://www1.nseindia.com:443 \"POST /marketinfo/sym_map/symbolCount.jsp?symbol= HTTP/1.1\" 200 10\n"
     ]
    },
    {
     "name": "stdout",
     "output_type": "stream",
     "text": [
      "Downloading  [            ]"
     ]
    },
    {
     "name": "stderr",
     "output_type": "stream",
     "text": [
      "DEBUG:urllib3.connectionpool:Starting new HTTPS connection (1): www1.nseindia.com:443\n"
     ]
    },
    {
     "name": "stdout",
     "output_type": "stream",
     "text": [
      "\r"
     ]
    },
    {
     "name": "stderr",
     "output_type": "stream",
     "text": [
      "DEBUG:urllib3.connectionpool:https://www1.nseindia.com:443 \"GET /products/dynaContent/common/productsSymbolMapping.jsp?symbol=EICHERMOT&segmentLink=3&symbolCount%0A%20%0A%0A%0A%0A%0A%0A2%0A&series=EQ&dateRange=+&fromDate=22-02-2020&toDate=20-02-2021&dataType=PRICEVOLUMEDELIVERABLE HTTP/1.1\" 200 21372\n"
     ]
    },
    {
     "name": "stdout",
     "output_type": "stream",
     "text": [
      "Downloading  [            ] 0.00 %\r"
     ]
    },
    {
     "name": "stderr",
     "output_type": "stream",
     "text": [
      "DEBUG:urllib3.connectionpool:Starting new HTTPS connection (1): www1.nseindia.com:443\n",
      "DEBUG:urllib3.connectionpool:https://www1.nseindia.com:443 \"GET /products/dynaContent/common/productsSymbolMapping.jsp?symbol=EICHERMOT&segmentLink=3&symbolCount%0A%20%0A%0A%0A%0A%0A%0A2%0A&series=EQ&dateRange=+&fromDate=22-02-2019&toDate=21-02-2020&dataType=PRICEVOLUMEDELIVERABLE HTTP/1.1\" 200 20783\n"
     ]
    },
    {
     "name": "stdout",
     "output_type": "stream",
     "text": [
      "Downloading  [-           ] 8.33 %\r"
     ]
    },
    {
     "name": "stderr",
     "output_type": "stream",
     "text": [
      "DEBUG:urllib3.connectionpool:Starting new HTTPS connection (1): www1.nseindia.com:443\n",
      "DEBUG:urllib3.connectionpool:https://www1.nseindia.com:443 \"GET /products/dynaContent/common/productsSymbolMapping.jsp?symbol=EICHERMOT&segmentLink=3&symbolCount%0A%20%0A%0A%0A%0A%0A%0A2%0A&series=EQ&dateRange=+&fromDate=22-02-2018&toDate=21-02-2019&dataType=PRICEVOLUMEDELIVERABLE HTTP/1.1\" 200 20734\n"
     ]
    },
    {
     "name": "stdout",
     "output_type": "stream",
     "text": [
      "Downloading  [--          ] 16.67 %\r"
     ]
    },
    {
     "name": "stderr",
     "output_type": "stream",
     "text": [
      "DEBUG:urllib3.connectionpool:Starting new HTTPS connection (1): www1.nseindia.com:443\n",
      "DEBUG:urllib3.connectionpool:https://www1.nseindia.com:443 \"GET /products/dynaContent/common/productsSymbolMapping.jsp?symbol=EICHERMOT&segmentLink=3&symbolCount%0A%20%0A%0A%0A%0A%0A%0A2%0A&series=EQ&dateRange=+&fromDate=22-02-2017&toDate=21-02-2018&dataType=PRICEVOLUMEDELIVERABLE HTTP/1.1\" 200 20778\n"
     ]
    },
    {
     "name": "stdout",
     "output_type": "stream",
     "text": [
      "Downloading  [---         ] 25.00 %\r"
     ]
    },
    {
     "name": "stderr",
     "output_type": "stream",
     "text": [
      "DEBUG:urllib3.connectionpool:Starting new HTTPS connection (1): www1.nseindia.com:443\n",
      "DEBUG:urllib3.connectionpool:https://www1.nseindia.com:443 \"GET /products/dynaContent/common/productsSymbolMapping.jsp?symbol=EICHERMOT&segmentLink=3&symbolCount%0A%20%0A%0A%0A%0A%0A%0A2%0A&series=EQ&dateRange=+&fromDate=23-02-2016&toDate=21-02-2017&dataType=PRICEVOLUMEDELIVERABLE HTTP/1.1\" 200 20600\n"
     ]
    },
    {
     "name": "stdout",
     "output_type": "stream",
     "text": [
      "Downloading  [----        ] 33.33 %\r"
     ]
    },
    {
     "name": "stderr",
     "output_type": "stream",
     "text": [
      "DEBUG:urllib3.connectionpool:Starting new HTTPS connection (1): www1.nseindia.com:443\n",
      "DEBUG:urllib3.connectionpool:https://www1.nseindia.com:443 \"GET /products/dynaContent/common/productsSymbolMapping.jsp?symbol=EICHERMOT&segmentLink=3&symbolCount%0A%20%0A%0A%0A%0A%0A%0A2%0A&series=EQ&dateRange=+&fromDate=23-02-2015&toDate=22-02-2016&dataType=PRICEVOLUMEDELIVERABLE HTTP/1.1\" 200 21024\n"
     ]
    },
    {
     "name": "stdout",
     "output_type": "stream",
     "text": [
      "Downloading  [-----       ] 41.67 %\r"
     ]
    },
    {
     "name": "stderr",
     "output_type": "stream",
     "text": [
      "DEBUG:urllib3.connectionpool:Starting new HTTPS connection (1): www1.nseindia.com:443\n",
      "DEBUG:urllib3.connectionpool:https://www1.nseindia.com:443 \"GET /products/dynaContent/common/productsSymbolMapping.jsp?symbol=EICHERMOT&segmentLink=3&symbolCount%0A%20%0A%0A%0A%0A%0A%0A2%0A&series=EQ&dateRange=+&fromDate=23-02-2014&toDate=22-02-2015&dataType=PRICEVOLUMEDELIVERABLE HTTP/1.1\" 200 19837\n"
     ]
    },
    {
     "name": "stdout",
     "output_type": "stream",
     "text": [
      "Downloading  [------      ] 50.00 %\r"
     ]
    },
    {
     "name": "stderr",
     "output_type": "stream",
     "text": [
      "DEBUG:urllib3.connectionpool:Starting new HTTPS connection (1): www1.nseindia.com:443\n",
      "DEBUG:urllib3.connectionpool:https://www1.nseindia.com:443 \"GET /products/dynaContent/common/productsSymbolMapping.jsp?symbol=EICHERMOT&segmentLink=3&symbolCount%0A%20%0A%0A%0A%0A%0A%0A2%0A&series=EQ&dateRange=+&fromDate=23-02-2013&toDate=22-02-2014&dataType=PRICEVOLUMEDELIVERABLE HTTP/1.1\" 200 19283\n"
     ]
    },
    {
     "name": "stdout",
     "output_type": "stream",
     "text": [
      "Downloading  [-------     ] 58.33 %\r"
     ]
    },
    {
     "name": "stderr",
     "output_type": "stream",
     "text": [
      "DEBUG:urllib3.connectionpool:Starting new HTTPS connection (1): www1.nseindia.com:443\n",
      "DEBUG:urllib3.connectionpool:https://www1.nseindia.com:443 \"GET /products/dynaContent/common/productsSymbolMapping.jsp?symbol=EICHERMOT&segmentLink=3&symbolCount%0A%20%0A%0A%0A%0A%0A%0A2%0A&series=EQ&dateRange=+&fromDate=24-02-2012&toDate=22-02-2013&dataType=PRICEVOLUMEDELIVERABLE HTTP/1.1\" 200 18996\n"
     ]
    },
    {
     "name": "stdout",
     "output_type": "stream",
     "text": [
      "Downloading  [--------    ] 66.67 %\r"
     ]
    },
    {
     "name": "stderr",
     "output_type": "stream",
     "text": [
      "DEBUG:urllib3.connectionpool:Starting new HTTPS connection (1): www1.nseindia.com:443\n",
      "DEBUG:urllib3.connectionpool:https://www1.nseindia.com:443 \"GET /products/dynaContent/common/productsSymbolMapping.jsp?symbol=EICHERMOT&segmentLink=3&symbolCount%0A%20%0A%0A%0A%0A%0A%0A2%0A&series=EQ&dateRange=+&fromDate=24-02-2011&toDate=23-02-2012&dataType=PRICEVOLUMEDELIVERABLE HTTP/1.1\" 200 18067\n"
     ]
    },
    {
     "name": "stdout",
     "output_type": "stream",
     "text": [
      "Downloading  [---------   ] 75.00 %\r"
     ]
    },
    {
     "name": "stderr",
     "output_type": "stream",
     "text": [
      "DEBUG:urllib3.connectionpool:Starting new HTTPS connection (1): www1.nseindia.com:443\n",
      "DEBUG:urllib3.connectionpool:https://www1.nseindia.com:443 \"GET /products/dynaContent/common/productsSymbolMapping.jsp?symbol=EICHERMOT&segmentLink=3&symbolCount%0A%20%0A%0A%0A%0A%0A%0A2%0A&series=EQ&dateRange=+&fromDate=24-02-2010&toDate=23-02-2011&dataType=PRICEVOLUMEDELIVERABLE HTTP/1.1\" 200 17647\n"
     ]
    },
    {
     "name": "stdout",
     "output_type": "stream",
     "text": [
      "Downloading  [----------  ] 83.33 %\r"
     ]
    },
    {
     "name": "stderr",
     "output_type": "stream",
     "text": [
      "DEBUG:urllib3.connectionpool:Starting new HTTPS connection (1): www1.nseindia.com:443\n",
      "DEBUG:urllib3.connectionpool:https://www1.nseindia.com:443 \"GET /products/dynaContent/common/productsSymbolMapping.jsp?symbol=EICHERMOT&segmentLink=3&symbolCount%0A%20%0A%0A%0A%0A%0A%0A2%0A&series=EQ&dateRange=+&fromDate=31-12-2009&toDate=23-02-2010&dataType=PRICEVOLUMEDELIVERABLE HTTP/1.1\" 200 4650\n"
     ]
    },
    {
     "name": "stdout",
     "output_type": "stream",
     "text": [
      "Downloading  [----------- ] 91.67 %\r"
     ]
    },
    {
     "name": "stderr",
     "output_type": "stream",
     "text": [
      "DEBUG:urllib3.connectionpool:Starting new HTTPS connection (1): www1.nseindia.com:443\n"
     ]
    },
    {
     "name": "stdout",
     "output_type": "stream",
     "text": [
      "Downloading  [------------] 100.00 % \n",
      "Generating for JSWSTEEL\n",
      "JSWSTEEL\n"
     ]
    },
    {
     "name": "stderr",
     "output_type": "stream",
     "text": [
      "DEBUG:urllib3.connectionpool:https://www1.nseindia.com:443 \"POST /marketinfo/sym_map/symbolCount.jsp?symbol= HTTP/1.1\" 200 10\n"
     ]
    },
    {
     "name": "stdout",
     "output_type": "stream",
     "text": [
      "Downloading  [            ]"
     ]
    },
    {
     "name": "stderr",
     "output_type": "stream",
     "text": [
      "DEBUG:urllib3.connectionpool:Starting new HTTPS connection (1): www1.nseindia.com:443\n"
     ]
    },
    {
     "name": "stdout",
     "output_type": "stream",
     "text": [
      "\r"
     ]
    },
    {
     "name": "stderr",
     "output_type": "stream",
     "text": [
      "DEBUG:urllib3.connectionpool:https://www1.nseindia.com:443 \"GET /products/dynaContent/common/productsSymbolMapping.jsp?symbol=JSWSTEEL&segmentLink=3&symbolCount%0A%20%0A%0A%0A%0A%0A%0A2%0A&series=EQ&dateRange=+&fromDate=22-02-2020&toDate=20-02-2021&dataType=PRICEVOLUMEDELIVERABLE HTTP/1.1\" 200 20248\n"
     ]
    },
    {
     "name": "stdout",
     "output_type": "stream",
     "text": [
      "Downloading  [            ] 0.00 %\r"
     ]
    },
    {
     "name": "stderr",
     "output_type": "stream",
     "text": [
      "DEBUG:urllib3.connectionpool:Starting new HTTPS connection (1): www1.nseindia.com:443\n",
      "DEBUG:urllib3.connectionpool:https://www1.nseindia.com:443 \"GET /products/dynaContent/common/productsSymbolMapping.jsp?symbol=JSWSTEEL&segmentLink=3&symbolCount%0A%20%0A%0A%0A%0A%0A%0A2%0A&series=EQ&dateRange=+&fromDate=22-02-2019&toDate=21-02-2020&dataType=PRICEVOLUMEDELIVERABLE HTTP/1.1\" 200 19620\n"
     ]
    },
    {
     "name": "stdout",
     "output_type": "stream",
     "text": [
      "Downloading  [-           ] 8.33 %\r"
     ]
    },
    {
     "name": "stderr",
     "output_type": "stream",
     "text": [
      "DEBUG:urllib3.connectionpool:Starting new HTTPS connection (1): www1.nseindia.com:443\n",
      "DEBUG:urllib3.connectionpool:https://www1.nseindia.com:443 \"GET /products/dynaContent/common/productsSymbolMapping.jsp?symbol=JSWSTEEL&segmentLink=3&symbolCount%0A%20%0A%0A%0A%0A%0A%0A2%0A&series=EQ&dateRange=+&fromDate=22-02-2018&toDate=21-02-2019&dataType=PRICEVOLUMEDELIVERABLE HTTP/1.1\" 200 19951\n"
     ]
    },
    {
     "name": "stdout",
     "output_type": "stream",
     "text": [
      "Downloading  [--          ] 16.67 %\r"
     ]
    },
    {
     "name": "stderr",
     "output_type": "stream",
     "text": [
      "DEBUG:urllib3.connectionpool:Starting new HTTPS connection (1): www1.nseindia.com:443\n",
      "DEBUG:urllib3.connectionpool:https://www1.nseindia.com:443 \"GET /products/dynaContent/common/productsSymbolMapping.jsp?symbol=JSWSTEEL&segmentLink=3&symbolCount%0A%20%0A%0A%0A%0A%0A%0A2%0A&series=EQ&dateRange=+&fromDate=22-02-2017&toDate=21-02-2018&dataType=PRICEVOLUMEDELIVERABLE HTTP/1.1\" 200 19632\n"
     ]
    },
    {
     "name": "stdout",
     "output_type": "stream",
     "text": [
      "Downloading  [---         ] 25.00 %\r"
     ]
    },
    {
     "name": "stderr",
     "output_type": "stream",
     "text": [
      "DEBUG:urllib3.connectionpool:Starting new HTTPS connection (1): www1.nseindia.com:443\n",
      "DEBUG:urllib3.connectionpool:https://www1.nseindia.com:443 \"GET /products/dynaContent/common/productsSymbolMapping.jsp?symbol=JSWSTEEL&segmentLink=3&symbolCount%0A%20%0A%0A%0A%0A%0A%0A2%0A&series=EQ&dateRange=+&fromDate=23-02-2016&toDate=21-02-2017&dataType=PRICEVOLUMEDELIVERABLE HTTP/1.1\" 200 20089\n"
     ]
    },
    {
     "name": "stdout",
     "output_type": "stream",
     "text": [
      "Downloading  [----        ] 33.33 %\r"
     ]
    },
    {
     "name": "stderr",
     "output_type": "stream",
     "text": [
      "DEBUG:urllib3.connectionpool:Starting new HTTPS connection (1): www1.nseindia.com:443\n",
      "DEBUG:urllib3.connectionpool:https://www1.nseindia.com:443 \"GET /products/dynaContent/common/productsSymbolMapping.jsp?symbol=JSWSTEEL&segmentLink=3&symbolCount%0A%20%0A%0A%0A%0A%0A%0A2%0A&series=EQ&dateRange=+&fromDate=23-02-2015&toDate=22-02-2016&dataType=PRICEVOLUMEDELIVERABLE HTTP/1.1\" 200 19961\n"
     ]
    },
    {
     "name": "stdout",
     "output_type": "stream",
     "text": [
      "Downloading  [-----       ] 41.67 %\r"
     ]
    },
    {
     "name": "stderr",
     "output_type": "stream",
     "text": [
      "DEBUG:urllib3.connectionpool:Starting new HTTPS connection (1): www1.nseindia.com:443\n",
      "DEBUG:urllib3.connectionpool:https://www1.nseindia.com:443 \"GET /products/dynaContent/common/productsSymbolMapping.jsp?symbol=JSWSTEEL&segmentLink=3&symbolCount%0A%20%0A%0A%0A%0A%0A%0A2%0A&series=EQ&dateRange=+&fromDate=23-02-2014&toDate=22-02-2015&dataType=PRICEVOLUMEDELIVERABLE HTTP/1.1\" 200 19839\n"
     ]
    },
    {
     "name": "stdout",
     "output_type": "stream",
     "text": [
      "Downloading  [------      ] 50.00 %\r"
     ]
    },
    {
     "name": "stderr",
     "output_type": "stream",
     "text": [
      "DEBUG:urllib3.connectionpool:Starting new HTTPS connection (1): www1.nseindia.com:443\n",
      "DEBUG:urllib3.connectionpool:https://www1.nseindia.com:443 \"GET /products/dynaContent/common/productsSymbolMapping.jsp?symbol=JSWSTEEL&segmentLink=3&symbolCount%0A%20%0A%0A%0A%0A%0A%0A2%0A&series=EQ&dateRange=+&fromDate=23-02-2013&toDate=22-02-2014&dataType=PRICEVOLUMEDELIVERABLE HTTP/1.1\" 200 20036\n"
     ]
    },
    {
     "name": "stdout",
     "output_type": "stream",
     "text": [
      "Downloading  [-------     ] 58.33 %\r"
     ]
    },
    {
     "name": "stderr",
     "output_type": "stream",
     "text": [
      "DEBUG:urllib3.connectionpool:Starting new HTTPS connection (1): www1.nseindia.com:443\n",
      "DEBUG:urllib3.connectionpool:https://www1.nseindia.com:443 \"GET /products/dynaContent/common/productsSymbolMapping.jsp?symbol=JSWSTEEL&segmentLink=3&symbolCount%0A%20%0A%0A%0A%0A%0A%0A2%0A&series=EQ&dateRange=+&fromDate=24-02-2012&toDate=22-02-2013&dataType=PRICEVOLUMEDELIVERABLE HTTP/1.1\" 200 20146\n"
     ]
    },
    {
     "name": "stdout",
     "output_type": "stream",
     "text": [
      "Downloading  [--------    ] 66.67 %\r"
     ]
    },
    {
     "name": "stderr",
     "output_type": "stream",
     "text": [
      "DEBUG:urllib3.connectionpool:Starting new HTTPS connection (1): www1.nseindia.com:443\n",
      "DEBUG:urllib3.connectionpool:https://www1.nseindia.com:443 \"GET /products/dynaContent/common/productsSymbolMapping.jsp?symbol=JSWSTEEL&segmentLink=3&symbolCount%0A%20%0A%0A%0A%0A%0A%0A2%0A&series=EQ&dateRange=+&fromDate=24-02-2011&toDate=23-02-2012&dataType=PRICEVOLUMEDELIVERABLE HTTP/1.1\" 200 19619\n"
     ]
    },
    {
     "name": "stdout",
     "output_type": "stream",
     "text": [
      "Downloading  [---------   ] 75.00 %\r"
     ]
    },
    {
     "name": "stderr",
     "output_type": "stream",
     "text": [
      "DEBUG:urllib3.connectionpool:Starting new HTTPS connection (1): www1.nseindia.com:443\n",
      "DEBUG:urllib3.connectionpool:https://www1.nseindia.com:443 \"GET /products/dynaContent/common/productsSymbolMapping.jsp?symbol=JSWSTEEL&segmentLink=3&symbolCount%0A%20%0A%0A%0A%0A%0A%0A2%0A&series=EQ&dateRange=+&fromDate=24-02-2010&toDate=23-02-2011&dataType=PRICEVOLUMEDELIVERABLE HTTP/1.1\" 200 19146\n"
     ]
    },
    {
     "name": "stdout",
     "output_type": "stream",
     "text": [
      "Downloading  [----------  ] 83.33 %\r"
     ]
    },
    {
     "name": "stderr",
     "output_type": "stream",
     "text": [
      "DEBUG:urllib3.connectionpool:Starting new HTTPS connection (1): www1.nseindia.com:443\n",
      "DEBUG:urllib3.connectionpool:https://www1.nseindia.com:443 \"GET /products/dynaContent/common/productsSymbolMapping.jsp?symbol=JSWSTEEL&segmentLink=3&symbolCount%0A%20%0A%0A%0A%0A%0A%0A2%0A&series=EQ&dateRange=+&fromDate=31-12-2009&toDate=23-02-2010&dataType=PRICEVOLUMEDELIVERABLE HTTP/1.1\" 200 5052\n"
     ]
    },
    {
     "name": "stdout",
     "output_type": "stream",
     "text": [
      "Downloading  [----------- ] 91.67 %\r"
     ]
    },
    {
     "name": "stderr",
     "output_type": "stream",
     "text": [
      "DEBUG:urllib3.connectionpool:Starting new HTTPS connection (1): www1.nseindia.com:443\n"
     ]
    },
    {
     "name": "stdout",
     "output_type": "stream",
     "text": [
      "Downloading  [------------] 100.00 % \n",
      "Generating for UPL\n",
      "UPL\n"
     ]
    },
    {
     "name": "stderr",
     "output_type": "stream",
     "text": [
      "DEBUG:urllib3.connectionpool:https://www1.nseindia.com:443 \"POST /marketinfo/sym_map/symbolCount.jsp?symbol= HTTP/1.1\" 200 10\n"
     ]
    },
    {
     "name": "stdout",
     "output_type": "stream",
     "text": [
      "Downloading  [            ]"
     ]
    },
    {
     "name": "stderr",
     "output_type": "stream",
     "text": [
      "DEBUG:urllib3.connectionpool:Starting new HTTPS connection (1): www1.nseindia.com:443\n"
     ]
    },
    {
     "name": "stdout",
     "output_type": "stream",
     "text": [
      "\r"
     ]
    },
    {
     "name": "stderr",
     "output_type": "stream",
     "text": [
      "DEBUG:urllib3.connectionpool:https://www1.nseindia.com:443 \"GET /products/dynaContent/common/productsSymbolMapping.jsp?symbol=UPL&segmentLink=3&symbolCount%0A%20%0A%0A%0A%0A%0A%0A2%0A&series=EQ&dateRange=+&fromDate=22-02-2020&toDate=20-02-2021&dataType=PRICEVOLUMEDELIVERABLE HTTP/1.1\" 200 20400\n"
     ]
    },
    {
     "name": "stdout",
     "output_type": "stream",
     "text": [
      "Downloading  [            ] 0.00 %\r"
     ]
    },
    {
     "name": "stderr",
     "output_type": "stream",
     "text": [
      "DEBUG:urllib3.connectionpool:Starting new HTTPS connection (1): www1.nseindia.com:443\n",
      "DEBUG:urllib3.connectionpool:https://www1.nseindia.com:443 \"GET /products/dynaContent/common/productsSymbolMapping.jsp?symbol=UPL&segmentLink=3&symbolCount%0A%20%0A%0A%0A%0A%0A%0A2%0A&series=EQ&dateRange=+&fromDate=22-02-2019&toDate=21-02-2020&dataType=PRICEVOLUMEDELIVERABLE HTTP/1.1\" 200 20105\n"
     ]
    },
    {
     "name": "stdout",
     "output_type": "stream",
     "text": [
      "Downloading  [-           ] 8.33 %\r"
     ]
    },
    {
     "name": "stderr",
     "output_type": "stream",
     "text": [
      "DEBUG:urllib3.connectionpool:Starting new HTTPS connection (1): www1.nseindia.com:443\n",
      "DEBUG:urllib3.connectionpool:https://www1.nseindia.com:443 \"GET /products/dynaContent/common/productsSymbolMapping.jsp?symbol=UPL&segmentLink=3&symbolCount%0A%20%0A%0A%0A%0A%0A%0A2%0A&series=EQ&dateRange=+&fromDate=22-02-2018&toDate=21-02-2019&dataType=PRICEVOLUMEDELIVERABLE HTTP/1.1\" 200 19861\n"
     ]
    },
    {
     "name": "stdout",
     "output_type": "stream",
     "text": [
      "Downloading  [--          ] 16.67 %\r"
     ]
    },
    {
     "name": "stderr",
     "output_type": "stream",
     "text": [
      "DEBUG:urllib3.connectionpool:Starting new HTTPS connection (1): www1.nseindia.com:443\n",
      "DEBUG:urllib3.connectionpool:https://www1.nseindia.com:443 \"GET /products/dynaContent/common/productsSymbolMapping.jsp?symbol=UPL&segmentLink=3&symbolCount%0A%20%0A%0A%0A%0A%0A%0A2%0A&series=EQ&dateRange=+&fromDate=22-02-2017&toDate=21-02-2018&dataType=PRICEVOLUMEDELIVERABLE HTTP/1.1\" 200 19929\n"
     ]
    },
    {
     "name": "stdout",
     "output_type": "stream",
     "text": [
      "Downloading  [---         ] 25.00 %\r"
     ]
    },
    {
     "name": "stderr",
     "output_type": "stream",
     "text": [
      "DEBUG:urllib3.connectionpool:Starting new HTTPS connection (1): www1.nseindia.com:443\n",
      "DEBUG:urllib3.connectionpool:https://www1.nseindia.com:443 \"GET /products/dynaContent/common/productsSymbolMapping.jsp?symbol=UPL&segmentLink=3&symbolCount%0A%20%0A%0A%0A%0A%0A%0A2%0A&series=EQ&dateRange=+&fromDate=23-02-2016&toDate=21-02-2017&dataType=PRICEVOLUMEDELIVERABLE HTTP/1.1\" 200 19875\n"
     ]
    },
    {
     "name": "stdout",
     "output_type": "stream",
     "text": [
      "Downloading  [----        ] 33.33 %\r"
     ]
    },
    {
     "name": "stderr",
     "output_type": "stream",
     "text": [
      "DEBUG:urllib3.connectionpool:Starting new HTTPS connection (1): www1.nseindia.com:443\n",
      "DEBUG:urllib3.connectionpool:https://www1.nseindia.com:443 \"GET /products/dynaContent/common/productsSymbolMapping.jsp?symbol=UPL&segmentLink=3&symbolCount%0A%20%0A%0A%0A%0A%0A%0A2%0A&series=EQ&dateRange=+&fromDate=23-02-2015&toDate=22-02-2016&dataType=PRICEVOLUMEDELIVERABLE HTTP/1.1\" 200 19971\n"
     ]
    },
    {
     "name": "stdout",
     "output_type": "stream",
     "text": [
      "Downloading  [-----       ] 41.67 %\r"
     ]
    },
    {
     "name": "stderr",
     "output_type": "stream",
     "text": [
      "DEBUG:urllib3.connectionpool:Starting new HTTPS connection (1): www1.nseindia.com:443\n",
      "DEBUG:urllib3.connectionpool:https://www1.nseindia.com:443 \"GET /products/dynaContent/common/productsSymbolMapping.jsp?symbol=UPL&segmentLink=3&symbolCount%0A%20%0A%0A%0A%0A%0A%0A2%0A&series=EQ&dateRange=+&fromDate=23-02-2014&toDate=22-02-2015&dataType=PRICEVOLUMEDELIVERABLE HTTP/1.1\" 200 19252\n"
     ]
    },
    {
     "name": "stdout",
     "output_type": "stream",
     "text": [
      "Downloading  [------      ] 50.00 %\r"
     ]
    },
    {
     "name": "stderr",
     "output_type": "stream",
     "text": [
      "DEBUG:urllib3.connectionpool:Starting new HTTPS connection (1): www1.nseindia.com:443\n",
      "DEBUG:urllib3.connectionpool:https://www1.nseindia.com:443 \"GET /products/dynaContent/common/productsSymbolMapping.jsp?symbol=UPL&segmentLink=3&symbolCount%0A%20%0A%0A%0A%0A%0A%0A2%0A&series=EQ&dateRange=+&fromDate=23-02-2013&toDate=22-02-2014&dataType=PRICEVOLUMEDELIVERABLE HTTP/1.1\" 200 19302\n"
     ]
    },
    {
     "name": "stdout",
     "output_type": "stream",
     "text": [
      "Downloading  [-------     ] 58.33 %\r"
     ]
    },
    {
     "name": "stderr",
     "output_type": "stream",
     "text": [
      "DEBUG:urllib3.connectionpool:Starting new HTTPS connection (1): www1.nseindia.com:443\n",
      "DEBUG:urllib3.connectionpool:https://www1.nseindia.com:443 \"GET /products/dynaContent/common/productsSymbolMapping.jsp?symbol=UPL&segmentLink=3&symbolCount%0A%20%0A%0A%0A%0A%0A%0A2%0A&series=EQ&dateRange=+&fromDate=24-02-2012&toDate=22-02-2013&dataType=PRICEVOLUMEDELIVERABLE HTTP/1.1\" 200 19073\n"
     ]
    },
    {
     "name": "stdout",
     "output_type": "stream",
     "text": [
      "Downloading  [--------    ] 66.67 %\r"
     ]
    },
    {
     "name": "stderr",
     "output_type": "stream",
     "text": [
      "DEBUG:urllib3.connectionpool:Starting new HTTPS connection (1): www1.nseindia.com:443\n",
      "DEBUG:urllib3.connectionpool:https://www1.nseindia.com:443 \"GET /products/dynaContent/common/productsSymbolMapping.jsp?symbol=UPL&segmentLink=3&symbolCount%0A%20%0A%0A%0A%0A%0A%0A2%0A&series=EQ&dateRange=+&fromDate=24-02-2011&toDate=23-02-2012&dataType=PRICEVOLUMEDELIVERABLE HTTP/1.1\" 200 18491\n"
     ]
    },
    {
     "name": "stdout",
     "output_type": "stream",
     "text": [
      "Downloading  [---------   ] 75.00 %\r"
     ]
    },
    {
     "name": "stderr",
     "output_type": "stream",
     "text": [
      "DEBUG:urllib3.connectionpool:Starting new HTTPS connection (1): www1.nseindia.com:443\n",
      "DEBUG:urllib3.connectionpool:https://www1.nseindia.com:443 \"GET /products/dynaContent/common/productsSymbolMapping.jsp?symbol=UPL&segmentLink=3&symbolCount%0A%20%0A%0A%0A%0A%0A%0A2%0A&series=EQ&dateRange=+&fromDate=24-02-2010&toDate=23-02-2011&dataType=PRICEVOLUMEDELIVERABLE HTTP/1.1\" 200 17903\n"
     ]
    },
    {
     "name": "stdout",
     "output_type": "stream",
     "text": [
      "Downloading  [----------  ] 83.33 %\r"
     ]
    },
    {
     "name": "stderr",
     "output_type": "stream",
     "text": [
      "DEBUG:urllib3.connectionpool:Starting new HTTPS connection (1): www1.nseindia.com:443\n",
      "DEBUG:urllib3.connectionpool:https://www1.nseindia.com:443 \"GET /products/dynaContent/common/productsSymbolMapping.jsp?symbol=UPL&segmentLink=3&symbolCount%0A%20%0A%0A%0A%0A%0A%0A2%0A&series=EQ&dateRange=+&fromDate=31-12-2009&toDate=23-02-2010&dataType=PRICEVOLUMEDELIVERABLE HTTP/1.1\" 200 4772\n"
     ]
    },
    {
     "name": "stdout",
     "output_type": "stream",
     "text": [
      "Downloading  [----------- ] 91.67 %\r"
     ]
    },
    {
     "name": "stderr",
     "output_type": "stream",
     "text": [
      "DEBUG:urllib3.connectionpool:Starting new HTTPS connection (1): www1.nseindia.com:443\n"
     ]
    },
    {
     "name": "stdout",
     "output_type": "stream",
     "text": [
      "Downloading  [------------] 100.00 % \n",
      "Generating for DRREDDY\n",
      "DRREDDY\n"
     ]
    },
    {
     "name": "stderr",
     "output_type": "stream",
     "text": [
      "DEBUG:urllib3.connectionpool:https://www1.nseindia.com:443 \"POST /marketinfo/sym_map/symbolCount.jsp?symbol= HTTP/1.1\" 200 10\n"
     ]
    },
    {
     "name": "stdout",
     "output_type": "stream",
     "text": [
      "Downloading  [            ]"
     ]
    },
    {
     "name": "stderr",
     "output_type": "stream",
     "text": [
      "DEBUG:urllib3.connectionpool:Starting new HTTPS connection (1): www1.nseindia.com:443\n"
     ]
    },
    {
     "name": "stdout",
     "output_type": "stream",
     "text": [
      "\r"
     ]
    },
    {
     "name": "stderr",
     "output_type": "stream",
     "text": [
      "DEBUG:urllib3.connectionpool:https://www1.nseindia.com:443 \"GET /products/dynaContent/common/productsSymbolMapping.jsp?symbol=DRREDDY&segmentLink=3&symbolCount%0A%20%0A%0A%0A%0A%0A%0A2%0A&series=EQ&dateRange=+&fromDate=22-02-2020&toDate=20-02-2021&dataType=PRICEVOLUMEDELIVERABLE HTTP/1.1\" 200 21184\n"
     ]
    },
    {
     "name": "stdout",
     "output_type": "stream",
     "text": [
      "Downloading  [            ] 0.00 %\r"
     ]
    },
    {
     "name": "stderr",
     "output_type": "stream",
     "text": [
      "DEBUG:urllib3.connectionpool:Starting new HTTPS connection (1): www1.nseindia.com:443\n",
      "DEBUG:urllib3.connectionpool:https://www1.nseindia.com:443 \"GET /products/dynaContent/common/productsSymbolMapping.jsp?symbol=DRREDDY&segmentLink=3&symbolCount%0A%20%0A%0A%0A%0A%0A%0A2%0A&series=EQ&dateRange=+&fromDate=22-02-2019&toDate=21-02-2020&dataType=PRICEVOLUMEDELIVERABLE HTTP/1.1\" 200 20292\n"
     ]
    },
    {
     "name": "stdout",
     "output_type": "stream",
     "text": [
      "Downloading  [-           ] 8.33 %\r"
     ]
    },
    {
     "name": "stderr",
     "output_type": "stream",
     "text": [
      "DEBUG:urllib3.connectionpool:Starting new HTTPS connection (1): www1.nseindia.com:443\n",
      "DEBUG:urllib3.connectionpool:https://www1.nseindia.com:443 \"GET /products/dynaContent/common/productsSymbolMapping.jsp?symbol=DRREDDY&segmentLink=3&symbolCount%0A%20%0A%0A%0A%0A%0A%0A2%0A&series=EQ&dateRange=+&fromDate=22-02-2018&toDate=21-02-2019&dataType=PRICEVOLUMEDELIVERABLE HTTP/1.1\" 200 20460\n"
     ]
    },
    {
     "name": "stdout",
     "output_type": "stream",
     "text": [
      "Downloading  [--          ] 16.67 %\r"
     ]
    },
    {
     "name": "stderr",
     "output_type": "stream",
     "text": [
      "DEBUG:urllib3.connectionpool:Starting new HTTPS connection (1): www1.nseindia.com:443\n",
      "DEBUG:urllib3.connectionpool:https://www1.nseindia.com:443 \"GET /products/dynaContent/common/productsSymbolMapping.jsp?symbol=DRREDDY&segmentLink=3&symbolCount%0A%20%0A%0A%0A%0A%0A%0A2%0A&series=EQ&dateRange=+&fromDate=22-02-2017&toDate=21-02-2018&dataType=PRICEVOLUMEDELIVERABLE HTTP/1.1\" 200 20265\n"
     ]
    },
    {
     "name": "stdout",
     "output_type": "stream",
     "text": [
      "Downloading  [---         ] 25.00 %\r"
     ]
    },
    {
     "name": "stderr",
     "output_type": "stream",
     "text": [
      "DEBUG:urllib3.connectionpool:Starting new HTTPS connection (1): www1.nseindia.com:443\n",
      "DEBUG:urllib3.connectionpool:https://www1.nseindia.com:443 \"GET /products/dynaContent/common/productsSymbolMapping.jsp?symbol=DRREDDY&segmentLink=3&symbolCount%0A%20%0A%0A%0A%0A%0A%0A2%0A&series=EQ&dateRange=+&fromDate=23-02-2016&toDate=21-02-2017&dataType=PRICEVOLUMEDELIVERABLE HTTP/1.1\" 200 20171\n"
     ]
    },
    {
     "name": "stdout",
     "output_type": "stream",
     "text": [
      "Downloading  [----        ] 33.33 %\r"
     ]
    },
    {
     "name": "stderr",
     "output_type": "stream",
     "text": [
      "DEBUG:urllib3.connectionpool:Starting new HTTPS connection (1): www1.nseindia.com:443\n",
      "DEBUG:urllib3.connectionpool:https://www1.nseindia.com:443 \"GET /products/dynaContent/common/productsSymbolMapping.jsp?symbol=DRREDDY&segmentLink=3&symbolCount%0A%20%0A%0A%0A%0A%0A%0A2%0A&series=EQ&dateRange=+&fromDate=23-02-2015&toDate=22-02-2016&dataType=PRICEVOLUMEDELIVERABLE HTTP/1.1\" 200 20558\n"
     ]
    },
    {
     "name": "stdout",
     "output_type": "stream",
     "text": [
      "Downloading  [-----       ] 41.67 %\r"
     ]
    },
    {
     "name": "stderr",
     "output_type": "stream",
     "text": [
      "DEBUG:urllib3.connectionpool:Starting new HTTPS connection (1): www1.nseindia.com:443\n",
      "DEBUG:urllib3.connectionpool:https://www1.nseindia.com:443 \"GET /products/dynaContent/common/productsSymbolMapping.jsp?symbol=DRREDDY&segmentLink=3&symbolCount%0A%20%0A%0A%0A%0A%0A%0A2%0A&series=EQ&dateRange=+&fromDate=23-02-2014&toDate=22-02-2015&dataType=PRICEVOLUMEDELIVERABLE HTTP/1.1\" 200 20067\n"
     ]
    },
    {
     "name": "stdout",
     "output_type": "stream",
     "text": [
      "Downloading  [------      ] 50.00 %\r"
     ]
    },
    {
     "name": "stderr",
     "output_type": "stream",
     "text": [
      "DEBUG:urllib3.connectionpool:Starting new HTTPS connection (1): www1.nseindia.com:443\n",
      "DEBUG:urllib3.connectionpool:https://www1.nseindia.com:443 \"GET /products/dynaContent/common/productsSymbolMapping.jsp?symbol=DRREDDY&segmentLink=3&symbolCount%0A%20%0A%0A%0A%0A%0A%0A2%0A&series=EQ&dateRange=+&fromDate=23-02-2013&toDate=22-02-2014&dataType=PRICEVOLUMEDELIVERABLE HTTP/1.1\" 200 20134\n"
     ]
    },
    {
     "name": "stdout",
     "output_type": "stream",
     "text": [
      "Downloading  [-------     ] 58.33 %\r"
     ]
    },
    {
     "name": "stderr",
     "output_type": "stream",
     "text": [
      "DEBUG:urllib3.connectionpool:Starting new HTTPS connection (1): www1.nseindia.com:443\n",
      "DEBUG:urllib3.connectionpool:https://www1.nseindia.com:443 \"GET /products/dynaContent/common/productsSymbolMapping.jsp?symbol=DRREDDY&segmentLink=3&symbolCount%0A%20%0A%0A%0A%0A%0A%0A2%0A&series=EQ&dateRange=+&fromDate=24-02-2012&toDate=22-02-2013&dataType=PRICEVOLUMEDELIVERABLE HTTP/1.1\" 200 19885\n"
     ]
    },
    {
     "name": "stdout",
     "output_type": "stream",
     "text": [
      "Downloading  [--------    ] 66.67 %\r"
     ]
    },
    {
     "name": "stderr",
     "output_type": "stream",
     "text": [
      "DEBUG:urllib3.connectionpool:Starting new HTTPS connection (1): www1.nseindia.com:443\n",
      "DEBUG:urllib3.connectionpool:https://www1.nseindia.com:443 \"GET /products/dynaContent/common/productsSymbolMapping.jsp?symbol=DRREDDY&segmentLink=3&symbolCount%0A%20%0A%0A%0A%0A%0A%0A2%0A&series=EQ&dateRange=+&fromDate=24-02-2011&toDate=23-02-2012&dataType=PRICEVOLUMEDELIVERABLE HTTP/1.1\" 200 19304\n"
     ]
    },
    {
     "name": "stdout",
     "output_type": "stream",
     "text": [
      "Downloading  [---------   ] 75.00 %\r"
     ]
    },
    {
     "name": "stderr",
     "output_type": "stream",
     "text": [
      "DEBUG:urllib3.connectionpool:Starting new HTTPS connection (1): www1.nseindia.com:443\n",
      "DEBUG:urllib3.connectionpool:https://www1.nseindia.com:443 \"GET /products/dynaContent/common/productsSymbolMapping.jsp?symbol=DRREDDY&segmentLink=3&symbolCount%0A%20%0A%0A%0A%0A%0A%0A2%0A&series=EQ&dateRange=+&fromDate=24-02-2010&toDate=23-02-2011&dataType=PRICEVOLUMEDELIVERABLE HTTP/1.1\" 200 18864\n"
     ]
    },
    {
     "name": "stdout",
     "output_type": "stream",
     "text": [
      "Downloading  [----------  ] 83.33 %\r"
     ]
    },
    {
     "name": "stderr",
     "output_type": "stream",
     "text": [
      "DEBUG:urllib3.connectionpool:Starting new HTTPS connection (1): www1.nseindia.com:443\n",
      "DEBUG:urllib3.connectionpool:https://www1.nseindia.com:443 \"GET /products/dynaContent/common/productsSymbolMapping.jsp?symbol=DRREDDY&segmentLink=3&symbolCount%0A%20%0A%0A%0A%0A%0A%0A2%0A&series=EQ&dateRange=+&fromDate=31-12-2009&toDate=23-02-2010&dataType=PRICEVOLUMEDELIVERABLE HTTP/1.1\" 200 4959\n"
     ]
    },
    {
     "name": "stdout",
     "output_type": "stream",
     "text": [
      "Downloading  [----------- ] 91.67 %\r"
     ]
    },
    {
     "name": "stderr",
     "output_type": "stream",
     "text": [
      "DEBUG:urllib3.connectionpool:Starting new HTTPS connection (1): www1.nseindia.com:443\n"
     ]
    },
    {
     "name": "stdout",
     "output_type": "stream",
     "text": [
      "Downloading  [------------] 100.00 % \n",
      "Generating for INDUSINDBK\n",
      "INDUSINDBK\n"
     ]
    },
    {
     "name": "stderr",
     "output_type": "stream",
     "text": [
      "DEBUG:urllib3.connectionpool:https://www1.nseindia.com:443 \"POST /marketinfo/sym_map/symbolCount.jsp?symbol= HTTP/1.1\" 200 10\n"
     ]
    },
    {
     "name": "stdout",
     "output_type": "stream",
     "text": [
      "Downloading  [            ]"
     ]
    },
    {
     "name": "stderr",
     "output_type": "stream",
     "text": [
      "DEBUG:urllib3.connectionpool:Starting new HTTPS connection (1): www1.nseindia.com:443\n"
     ]
    },
    {
     "name": "stdout",
     "output_type": "stream",
     "text": [
      "\r"
     ]
    },
    {
     "name": "stderr",
     "output_type": "stream",
     "text": [
      "DEBUG:urllib3.connectionpool:https://www1.nseindia.com:443 \"GET /products/dynaContent/common/productsSymbolMapping.jsp?symbol=INDUSINDBK&segmentLink=3&symbolCount%0A%20%0A%0A%0A%0A%0A%0A2%0A&series=EQ&dateRange=+&fromDate=22-02-2020&toDate=20-02-2021&dataType=PRICEVOLUMEDELIVERABLE HTTP/1.1\" 200 21319\n"
     ]
    },
    {
     "name": "stdout",
     "output_type": "stream",
     "text": [
      "Downloading  [            ] 0.00 %\r"
     ]
    },
    {
     "name": "stderr",
     "output_type": "stream",
     "text": [
      "DEBUG:urllib3.connectionpool:Starting new HTTPS connection (1): www1.nseindia.com:443\n",
      "DEBUG:urllib3.connectionpool:https://www1.nseindia.com:443 \"GET /products/dynaContent/common/productsSymbolMapping.jsp?symbol=INDUSINDBK&segmentLink=3&symbolCount%0A%20%0A%0A%0A%0A%0A%0A2%0A&series=EQ&dateRange=+&fromDate=22-02-2019&toDate=21-02-2020&dataType=PRICEVOLUMEDELIVERABLE HTTP/1.1\" 200 20838\n"
     ]
    },
    {
     "name": "stdout",
     "output_type": "stream",
     "text": [
      "Downloading  [-           ] 8.33 %\r"
     ]
    },
    {
     "name": "stderr",
     "output_type": "stream",
     "text": [
      "DEBUG:urllib3.connectionpool:Starting new HTTPS connection (1): www1.nseindia.com:443\n",
      "DEBUG:urllib3.connectionpool:https://www1.nseindia.com:443 \"GET /products/dynaContent/common/productsSymbolMapping.jsp?symbol=INDUSINDBK&segmentLink=3&symbolCount%0A%20%0A%0A%0A%0A%0A%0A2%0A&series=EQ&dateRange=+&fromDate=22-02-2018&toDate=21-02-2019&dataType=PRICEVOLUMEDELIVERABLE HTTP/1.1\" 200 20480\n"
     ]
    },
    {
     "name": "stdout",
     "output_type": "stream",
     "text": [
      "Downloading  [--          ] 16.67 %\r"
     ]
    },
    {
     "name": "stderr",
     "output_type": "stream",
     "text": [
      "DEBUG:urllib3.connectionpool:Starting new HTTPS connection (1): www1.nseindia.com:443\n",
      "DEBUG:urllib3.connectionpool:https://www1.nseindia.com:443 \"GET /products/dynaContent/common/productsSymbolMapping.jsp?symbol=INDUSINDBK&segmentLink=3&symbolCount%0A%20%0A%0A%0A%0A%0A%0A2%0A&series=EQ&dateRange=+&fromDate=22-02-2017&toDate=21-02-2018&dataType=PRICEVOLUMEDELIVERABLE HTTP/1.1\" 200 20314\n"
     ]
    },
    {
     "name": "stdout",
     "output_type": "stream",
     "text": [
      "Downloading  [---         ] 25.00 %\r"
     ]
    },
    {
     "name": "stderr",
     "output_type": "stream",
     "text": [
      "DEBUG:urllib3.connectionpool:Starting new HTTPS connection (1): www1.nseindia.com:443\n",
      "DEBUG:urllib3.connectionpool:https://www1.nseindia.com:443 \"GET /products/dynaContent/common/productsSymbolMapping.jsp?symbol=INDUSINDBK&segmentLink=3&symbolCount%0A%20%0A%0A%0A%0A%0A%0A2%0A&series=EQ&dateRange=+&fromDate=23-02-2016&toDate=21-02-2017&dataType=PRICEVOLUMEDELIVERABLE HTTP/1.1\" 200 20268\n"
     ]
    },
    {
     "name": "stdout",
     "output_type": "stream",
     "text": [
      "Downloading  [----        ] 33.33 %\r"
     ]
    },
    {
     "name": "stderr",
     "output_type": "stream",
     "text": [
      "DEBUG:urllib3.connectionpool:Starting new HTTPS connection (1): www1.nseindia.com:443\n",
      "DEBUG:urllib3.connectionpool:https://www1.nseindia.com:443 \"GET /products/dynaContent/common/productsSymbolMapping.jsp?symbol=INDUSINDBK&segmentLink=3&symbolCount%0A%20%0A%0A%0A%0A%0A%0A2%0A&series=EQ&dateRange=+&fromDate=23-02-2015&toDate=22-02-2016&dataType=PRICEVOLUMEDELIVERABLE HTTP/1.1\" 200 19973\n"
     ]
    },
    {
     "name": "stdout",
     "output_type": "stream",
     "text": [
      "Downloading  [-----       ] 41.67 %\r"
     ]
    },
    {
     "name": "stderr",
     "output_type": "stream",
     "text": [
      "DEBUG:urllib3.connectionpool:Starting new HTTPS connection (1): www1.nseindia.com:443\n",
      "DEBUG:urllib3.connectionpool:https://www1.nseindia.com:443 \"GET /products/dynaContent/common/productsSymbolMapping.jsp?symbol=INDUSINDBK&segmentLink=3&symbolCount%0A%20%0A%0A%0A%0A%0A%0A2%0A&series=EQ&dateRange=+&fromDate=23-02-2014&toDate=22-02-2015&dataType=PRICEVOLUMEDELIVERABLE HTTP/1.1\" 200 19620\n"
     ]
    },
    {
     "name": "stdout",
     "output_type": "stream",
     "text": [
      "Downloading  [------      ] 50.00 %\r"
     ]
    },
    {
     "name": "stderr",
     "output_type": "stream",
     "text": [
      "DEBUG:urllib3.connectionpool:Starting new HTTPS connection (1): www1.nseindia.com:443\n",
      "DEBUG:urllib3.connectionpool:https://www1.nseindia.com:443 \"GET /products/dynaContent/common/productsSymbolMapping.jsp?symbol=INDUSINDBK&segmentLink=3&symbolCount%0A%20%0A%0A%0A%0A%0A%0A2%0A&series=EQ&dateRange=+&fromDate=23-02-2013&toDate=22-02-2014&dataType=PRICEVOLUMEDELIVERABLE HTTP/1.1\" 200 20174\n"
     ]
    },
    {
     "name": "stdout",
     "output_type": "stream",
     "text": [
      "Downloading  [-------     ] 58.33 %\r"
     ]
    },
    {
     "name": "stderr",
     "output_type": "stream",
     "text": [
      "DEBUG:urllib3.connectionpool:Starting new HTTPS connection (1): www1.nseindia.com:443\n",
      "DEBUG:urllib3.connectionpool:https://www1.nseindia.com:443 \"GET /products/dynaContent/common/productsSymbolMapping.jsp?symbol=INDUSINDBK&segmentLink=3&symbolCount%0A%20%0A%0A%0A%0A%0A%0A2%0A&series=EQ&dateRange=+&fromDate=24-02-2012&toDate=22-02-2013&dataType=PRICEVOLUMEDELIVERABLE HTTP/1.1\" 200 19432\n"
     ]
    },
    {
     "name": "stdout",
     "output_type": "stream",
     "text": [
      "Downloading  [--------    ] 66.67 %\r"
     ]
    },
    {
     "name": "stderr",
     "output_type": "stream",
     "text": [
      "DEBUG:urllib3.connectionpool:Starting new HTTPS connection (1): www1.nseindia.com:443\n",
      "DEBUG:urllib3.connectionpool:https://www1.nseindia.com:443 \"GET /products/dynaContent/common/productsSymbolMapping.jsp?symbol=INDUSINDBK&segmentLink=3&symbolCount%0A%20%0A%0A%0A%0A%0A%0A2%0A&series=EQ&dateRange=+&fromDate=24-02-2011&toDate=23-02-2012&dataType=PRICEVOLUMEDELIVERABLE HTTP/1.1\" 200 18618\n"
     ]
    },
    {
     "name": "stdout",
     "output_type": "stream",
     "text": [
      "Downloading  [---------   ] 75.00 %\r"
     ]
    },
    {
     "name": "stderr",
     "output_type": "stream",
     "text": [
      "DEBUG:urllib3.connectionpool:Starting new HTTPS connection (1): www1.nseindia.com:443\n",
      "DEBUG:urllib3.connectionpool:https://www1.nseindia.com:443 \"GET /products/dynaContent/common/productsSymbolMapping.jsp?symbol=INDUSINDBK&segmentLink=3&symbolCount%0A%20%0A%0A%0A%0A%0A%0A2%0A&series=EQ&dateRange=+&fromDate=24-02-2010&toDate=23-02-2011&dataType=PRICEVOLUMEDELIVERABLE HTTP/1.1\" 200 18228\n"
     ]
    },
    {
     "name": "stdout",
     "output_type": "stream",
     "text": [
      "Downloading  [----------  ] 83.33 %\r"
     ]
    },
    {
     "name": "stderr",
     "output_type": "stream",
     "text": [
      "DEBUG:urllib3.connectionpool:Starting new HTTPS connection (1): www1.nseindia.com:443\n",
      "DEBUG:urllib3.connectionpool:https://www1.nseindia.com:443 \"GET /products/dynaContent/common/productsSymbolMapping.jsp?symbol=INDUSINDBK&segmentLink=3&symbolCount%0A%20%0A%0A%0A%0A%0A%0A2%0A&series=EQ&dateRange=+&fromDate=31-12-2009&toDate=23-02-2010&dataType=PRICEVOLUMEDELIVERABLE HTTP/1.1\" 200 4726\n"
     ]
    },
    {
     "name": "stdout",
     "output_type": "stream",
     "text": [
      "Downloading  [----------- ] 91.67 %\r"
     ]
    },
    {
     "name": "stderr",
     "output_type": "stream",
     "text": [
      "DEBUG:urllib3.connectionpool:Starting new HTTPS connection (1): www1.nseindia.com:443\n"
     ]
    },
    {
     "name": "stdout",
     "output_type": "stream",
     "text": [
      "Downloading  [------------] 100.00 % \n",
      "Generating for HINDUNILVR\n",
      "HINDUNILVR\n"
     ]
    },
    {
     "name": "stderr",
     "output_type": "stream",
     "text": [
      "DEBUG:urllib3.connectionpool:https://www1.nseindia.com:443 \"POST /marketinfo/sym_map/symbolCount.jsp?symbol= HTTP/1.1\" 200 10\n"
     ]
    },
    {
     "name": "stdout",
     "output_type": "stream",
     "text": [
      "Downloading  [            ]"
     ]
    },
    {
     "name": "stderr",
     "output_type": "stream",
     "text": [
      "DEBUG:urllib3.connectionpool:Starting new HTTPS connection (1): www1.nseindia.com:443\n"
     ]
    },
    {
     "name": "stdout",
     "output_type": "stream",
     "text": [
      "\r"
     ]
    },
    {
     "name": "stderr",
     "output_type": "stream",
     "text": [
      "DEBUG:urllib3.connectionpool:https://www1.nseindia.com:443 \"GET /products/dynaContent/common/productsSymbolMapping.jsp?symbol=HINDUNILVR&segmentLink=3&symbolCount%0A%20%0A%0A%0A%0A%0A%0A2%0A&series=EQ&dateRange=+&fromDate=22-02-2020&toDate=20-02-2021&dataType=PRICEVOLUMEDELIVERABLE HTTP/1.1\" 200 21190\n"
     ]
    },
    {
     "name": "stdout",
     "output_type": "stream",
     "text": [
      "Downloading  [            ] 0.00 %\r"
     ]
    },
    {
     "name": "stderr",
     "output_type": "stream",
     "text": [
      "DEBUG:urllib3.connectionpool:Starting new HTTPS connection (1): www1.nseindia.com:443\n",
      "DEBUG:urllib3.connectionpool:https://www1.nseindia.com:443 \"GET /products/dynaContent/common/productsSymbolMapping.jsp?symbol=HINDUNILVR&segmentLink=3&symbolCount%0A%20%0A%0A%0A%0A%0A%0A2%0A&series=EQ&dateRange=+&fromDate=22-02-2019&toDate=21-02-2020&dataType=PRICEVOLUMEDELIVERABLE HTTP/1.1\" 200 20371\n"
     ]
    },
    {
     "name": "stdout",
     "output_type": "stream",
     "text": [
      "Downloading  [-           ] 8.33 %\r"
     ]
    },
    {
     "name": "stderr",
     "output_type": "stream",
     "text": [
      "DEBUG:urllib3.connectionpool:Starting new HTTPS connection (1): www1.nseindia.com:443\n",
      "DEBUG:urllib3.connectionpool:https://www1.nseindia.com:443 \"GET /products/dynaContent/common/productsSymbolMapping.jsp?symbol=HINDUNILVR&segmentLink=3&symbolCount%0A%20%0A%0A%0A%0A%0A%0A2%0A&series=EQ&dateRange=+&fromDate=22-02-2018&toDate=21-02-2019&dataType=PRICEVOLUMEDELIVERABLE HTTP/1.1\" 200 20556\n"
     ]
    },
    {
     "name": "stdout",
     "output_type": "stream",
     "text": [
      "Downloading  [--          ] 16.67 %\r"
     ]
    },
    {
     "name": "stderr",
     "output_type": "stream",
     "text": [
      "DEBUG:urllib3.connectionpool:Starting new HTTPS connection (1): www1.nseindia.com:443\n",
      "DEBUG:urllib3.connectionpool:https://www1.nseindia.com:443 \"GET /products/dynaContent/common/productsSymbolMapping.jsp?symbol=HINDUNILVR&segmentLink=3&symbolCount%0A%20%0A%0A%0A%0A%0A%0A2%0A&series=EQ&dateRange=+&fromDate=22-02-2017&toDate=21-02-2018&dataType=PRICEVOLUMEDELIVERABLE HTTP/1.1\" 200 20162\n"
     ]
    },
    {
     "name": "stdout",
     "output_type": "stream",
     "text": [
      "Downloading  [---         ] 25.00 %\r"
     ]
    },
    {
     "name": "stderr",
     "output_type": "stream",
     "text": [
      "DEBUG:urllib3.connectionpool:Starting new HTTPS connection (1): www1.nseindia.com:443\n",
      "DEBUG:urllib3.connectionpool:https://www1.nseindia.com:443 \"GET /products/dynaContent/common/productsSymbolMapping.jsp?symbol=HINDUNILVR&segmentLink=3&symbolCount%0A%20%0A%0A%0A%0A%0A%0A2%0A&series=EQ&dateRange=+&fromDate=23-02-2016&toDate=21-02-2017&dataType=PRICEVOLUMEDELIVERABLE HTTP/1.1\" 200 19883\n"
     ]
    },
    {
     "name": "stdout",
     "output_type": "stream",
     "text": [
      "Downloading  [----        ] 33.33 %\r"
     ]
    },
    {
     "name": "stderr",
     "output_type": "stream",
     "text": [
      "DEBUG:urllib3.connectionpool:Starting new HTTPS connection (1): www1.nseindia.com:443\n",
      "DEBUG:urllib3.connectionpool:https://www1.nseindia.com:443 \"GET /products/dynaContent/common/productsSymbolMapping.jsp?symbol=HINDUNILVR&segmentLink=3&symbolCount%0A%20%0A%0A%0A%0A%0A%0A2%0A&series=EQ&dateRange=+&fromDate=23-02-2015&toDate=22-02-2016&dataType=PRICEVOLUMEDELIVERABLE HTTP/1.1\" 200 20154\n"
     ]
    },
    {
     "name": "stdout",
     "output_type": "stream",
     "text": [
      "Downloading  [-----       ] 41.67 %\r"
     ]
    },
    {
     "name": "stderr",
     "output_type": "stream",
     "text": [
      "DEBUG:urllib3.connectionpool:Starting new HTTPS connection (1): www1.nseindia.com:443\n",
      "DEBUG:urllib3.connectionpool:https://www1.nseindia.com:443 \"GET /products/dynaContent/common/productsSymbolMapping.jsp?symbol=HINDUNILVR&segmentLink=3&symbolCount%0A%20%0A%0A%0A%0A%0A%0A2%0A&series=EQ&dateRange=+&fromDate=23-02-2014&toDate=22-02-2015&dataType=PRICEVOLUMEDELIVERABLE HTTP/1.1\" 200 19481\n"
     ]
    },
    {
     "name": "stdout",
     "output_type": "stream",
     "text": [
      "Downloading  [------      ] 50.00 %\r"
     ]
    },
    {
     "name": "stderr",
     "output_type": "stream",
     "text": [
      "DEBUG:urllib3.connectionpool:Starting new HTTPS connection (1): www1.nseindia.com:443\n",
      "DEBUG:urllib3.connectionpool:https://www1.nseindia.com:443 \"GET /products/dynaContent/common/productsSymbolMapping.jsp?symbol=HINDUNILVR&segmentLink=3&symbolCount%0A%20%0A%0A%0A%0A%0A%0A2%0A&series=EQ&dateRange=+&fromDate=23-02-2013&toDate=22-02-2014&dataType=PRICEVOLUMEDELIVERABLE HTTP/1.1\" 200 19851\n"
     ]
    },
    {
     "name": "stdout",
     "output_type": "stream",
     "text": [
      "Downloading  [-------     ] 58.33 %\r"
     ]
    },
    {
     "name": "stderr",
     "output_type": "stream",
     "text": [
      "DEBUG:urllib3.connectionpool:Starting new HTTPS connection (1): www1.nseindia.com:443\n",
      "DEBUG:urllib3.connectionpool:https://www1.nseindia.com:443 \"GET /products/dynaContent/common/productsSymbolMapping.jsp?symbol=HINDUNILVR&segmentLink=3&symbolCount%0A%20%0A%0A%0A%0A%0A%0A2%0A&series=EQ&dateRange=+&fromDate=24-02-2012&toDate=22-02-2013&dataType=PRICEVOLUMEDELIVERABLE HTTP/1.1\" 200 19913\n"
     ]
    },
    {
     "name": "stdout",
     "output_type": "stream",
     "text": [
      "Downloading  [--------    ] 66.67 %\r"
     ]
    },
    {
     "name": "stderr",
     "output_type": "stream",
     "text": [
      "DEBUG:urllib3.connectionpool:Starting new HTTPS connection (1): www1.nseindia.com:443\n",
      "DEBUG:urllib3.connectionpool:https://www1.nseindia.com:443 \"GET /products/dynaContent/common/productsSymbolMapping.jsp?symbol=HINDUNILVR&segmentLink=3&symbolCount%0A%20%0A%0A%0A%0A%0A%0A2%0A&series=EQ&dateRange=+&fromDate=24-02-2011&toDate=23-02-2012&dataType=PRICEVOLUMEDELIVERABLE HTTP/1.1\" 200 19137\n"
     ]
    },
    {
     "name": "stdout",
     "output_type": "stream",
     "text": [
      "Downloading  [---------   ] 75.00 %\r"
     ]
    },
    {
     "name": "stderr",
     "output_type": "stream",
     "text": [
      "DEBUG:urllib3.connectionpool:Starting new HTTPS connection (1): www1.nseindia.com:443\n",
      "DEBUG:urllib3.connectionpool:https://www1.nseindia.com:443 \"GET /products/dynaContent/common/productsSymbolMapping.jsp?symbol=HINDUNILVR&segmentLink=3&symbolCount%0A%20%0A%0A%0A%0A%0A%0A2%0A&series=EQ&dateRange=+&fromDate=24-02-2010&toDate=23-02-2011&dataType=PRICEVOLUMEDELIVERABLE HTTP/1.1\" 200 18269\n"
     ]
    },
    {
     "name": "stdout",
     "output_type": "stream",
     "text": [
      "Downloading  [----------  ] 83.33 %\r"
     ]
    },
    {
     "name": "stderr",
     "output_type": "stream",
     "text": [
      "DEBUG:urllib3.connectionpool:Starting new HTTPS connection (1): www1.nseindia.com:443\n",
      "DEBUG:urllib3.connectionpool:https://www1.nseindia.com:443 \"GET /products/dynaContent/common/productsSymbolMapping.jsp?symbol=HINDUNILVR&segmentLink=3&symbolCount%0A%20%0A%0A%0A%0A%0A%0A2%0A&series=EQ&dateRange=+&fromDate=31-12-2009&toDate=23-02-2010&dataType=PRICEVOLUMEDELIVERABLE HTTP/1.1\" 200 4835\n"
     ]
    },
    {
     "name": "stdout",
     "output_type": "stream",
     "text": [
      "Downloading  [----------- ] 91.67 %\r"
     ]
    },
    {
     "name": "stderr",
     "output_type": "stream",
     "text": [
      "DEBUG:urllib3.connectionpool:Starting new HTTPS connection (1): www1.nseindia.com:443\n"
     ]
    },
    {
     "name": "stdout",
     "output_type": "stream",
     "text": [
      "Downloading  [------------] 100.00 % \n",
      "Generating for GAIL\n",
      "GAIL\n"
     ]
    },
    {
     "name": "stderr",
     "output_type": "stream",
     "text": [
      "DEBUG:urllib3.connectionpool:https://www1.nseindia.com:443 \"POST /marketinfo/sym_map/symbolCount.jsp?symbol= HTTP/1.1\" 200 10\n"
     ]
    },
    {
     "name": "stdout",
     "output_type": "stream",
     "text": [
      "Downloading  [            ]"
     ]
    },
    {
     "name": "stderr",
     "output_type": "stream",
     "text": [
      "DEBUG:urllib3.connectionpool:Starting new HTTPS connection (1): www1.nseindia.com:443\n"
     ]
    },
    {
     "name": "stdout",
     "output_type": "stream",
     "text": [
      "\r"
     ]
    },
    {
     "name": "stderr",
     "output_type": "stream",
     "text": [
      "DEBUG:urllib3.connectionpool:https://www1.nseindia.com:443 \"GET /products/dynaContent/common/productsSymbolMapping.jsp?symbol=GAIL&segmentLink=3&symbolCount%0A%20%0A%0A%0A%0A%0A%0A2%0A&series=EQ&dateRange=+&fromDate=22-02-2020&toDate=20-02-2021&dataType=PRICEVOLUMEDELIVERABLE HTTP/1.1\" 200 19551\n"
     ]
    },
    {
     "name": "stdout",
     "output_type": "stream",
     "text": [
      "Downloading  [            ] 0.00 %\r"
     ]
    },
    {
     "name": "stderr",
     "output_type": "stream",
     "text": [
      "DEBUG:urllib3.connectionpool:Starting new HTTPS connection (1): www1.nseindia.com:443\n",
      "DEBUG:urllib3.connectionpool:https://www1.nseindia.com:443 \"GET /products/dynaContent/common/productsSymbolMapping.jsp?symbol=GAIL&segmentLink=3&symbolCount%0A%20%0A%0A%0A%0A%0A%0A2%0A&series=EQ&dateRange=+&fromDate=22-02-2019&toDate=21-02-2020&dataType=PRICEVOLUMEDELIVERABLE HTTP/1.1\" 200 19532\n"
     ]
    },
    {
     "name": "stdout",
     "output_type": "stream",
     "text": [
      "Downloading  [-           ] 8.33 %\r"
     ]
    },
    {
     "name": "stderr",
     "output_type": "stream",
     "text": [
      "DEBUG:urllib3.connectionpool:Starting new HTTPS connection (1): www1.nseindia.com:443\n",
      "DEBUG:urllib3.connectionpool:https://www1.nseindia.com:443 \"GET /products/dynaContent/common/productsSymbolMapping.jsp?symbol=GAIL&segmentLink=3&symbolCount%0A%20%0A%0A%0A%0A%0A%0A2%0A&series=EQ&dateRange=+&fromDate=22-02-2018&toDate=21-02-2019&dataType=PRICEVOLUMEDELIVERABLE HTTP/1.1\" 200 19781\n"
     ]
    },
    {
     "name": "stdout",
     "output_type": "stream",
     "text": [
      "Downloading  [--          ] 16.67 %\r"
     ]
    },
    {
     "name": "stderr",
     "output_type": "stream",
     "text": [
      "DEBUG:urllib3.connectionpool:Starting new HTTPS connection (1): www1.nseindia.com:443\n",
      "DEBUG:urllib3.connectionpool:https://www1.nseindia.com:443 \"GET /products/dynaContent/common/productsSymbolMapping.jsp?symbol=GAIL&segmentLink=3&symbolCount%0A%20%0A%0A%0A%0A%0A%0A2%0A&series=EQ&dateRange=+&fromDate=22-02-2017&toDate=21-02-2018&dataType=PRICEVOLUMEDELIVERABLE HTTP/1.1\" 200 19918\n"
     ]
    },
    {
     "name": "stdout",
     "output_type": "stream",
     "text": [
      "Downloading  [---         ] 25.00 %\r"
     ]
    },
    {
     "name": "stderr",
     "output_type": "stream",
     "text": [
      "DEBUG:urllib3.connectionpool:Starting new HTTPS connection (1): www1.nseindia.com:443\n",
      "DEBUG:urllib3.connectionpool:https://www1.nseindia.com:443 \"GET /products/dynaContent/common/productsSymbolMapping.jsp?symbol=GAIL&segmentLink=3&symbolCount%0A%20%0A%0A%0A%0A%0A%0A2%0A&series=EQ&dateRange=+&fromDate=23-02-2016&toDate=21-02-2017&dataType=PRICEVOLUMEDELIVERABLE HTTP/1.1\" 200 19340\n"
     ]
    },
    {
     "name": "stdout",
     "output_type": "stream",
     "text": [
      "Downloading  [----        ] 33.33 %\r"
     ]
    },
    {
     "name": "stderr",
     "output_type": "stream",
     "text": [
      "DEBUG:urllib3.connectionpool:Starting new HTTPS connection (1): www1.nseindia.com:443\n",
      "DEBUG:urllib3.connectionpool:https://www1.nseindia.com:443 \"GET /products/dynaContent/common/productsSymbolMapping.jsp?symbol=GAIL&segmentLink=3&symbolCount%0A%20%0A%0A%0A%0A%0A%0A2%0A&series=EQ&dateRange=+&fromDate=23-02-2015&toDate=22-02-2016&dataType=PRICEVOLUMEDELIVERABLE HTTP/1.1\" 200 19558\n"
     ]
    },
    {
     "name": "stdout",
     "output_type": "stream",
     "text": [
      "Downloading  [-----       ] 41.67 %\r"
     ]
    },
    {
     "name": "stderr",
     "output_type": "stream",
     "text": [
      "DEBUG:urllib3.connectionpool:Starting new HTTPS connection (1): www1.nseindia.com:443\n",
      "DEBUG:urllib3.connectionpool:https://www1.nseindia.com:443 \"GET /products/dynaContent/common/productsSymbolMapping.jsp?symbol=GAIL&segmentLink=3&symbolCount%0A%20%0A%0A%0A%0A%0A%0A2%0A&series=EQ&dateRange=+&fromDate=23-02-2014&toDate=22-02-2015&dataType=PRICEVOLUMEDELIVERABLE HTTP/1.1\" 200 19105\n"
     ]
    },
    {
     "name": "stdout",
     "output_type": "stream",
     "text": [
      "Downloading  [------      ] 50.00 %\r"
     ]
    },
    {
     "name": "stderr",
     "output_type": "stream",
     "text": [
      "DEBUG:urllib3.connectionpool:Starting new HTTPS connection (1): www1.nseindia.com:443\n",
      "DEBUG:urllib3.connectionpool:https://www1.nseindia.com:443 \"GET /products/dynaContent/common/productsSymbolMapping.jsp?symbol=GAIL&segmentLink=3&symbolCount%0A%20%0A%0A%0A%0A%0A%0A2%0A&series=EQ&dateRange=+&fromDate=23-02-2013&toDate=22-02-2014&dataType=PRICEVOLUMEDELIVERABLE HTTP/1.1\" 200 19223\n"
     ]
    },
    {
     "name": "stdout",
     "output_type": "stream",
     "text": [
      "Downloading  [-------     ] 58.33 %\r"
     ]
    },
    {
     "name": "stderr",
     "output_type": "stream",
     "text": [
      "DEBUG:urllib3.connectionpool:Starting new HTTPS connection (1): www1.nseindia.com:443\n",
      "DEBUG:urllib3.connectionpool:https://www1.nseindia.com:443 \"GET /products/dynaContent/common/productsSymbolMapping.jsp?symbol=GAIL&segmentLink=3&symbolCount%0A%20%0A%0A%0A%0A%0A%0A2%0A&series=EQ&dateRange=+&fromDate=24-02-2012&toDate=22-02-2013&dataType=PRICEVOLUMEDELIVERABLE HTTP/1.1\" 200 19305\n"
     ]
    },
    {
     "name": "stdout",
     "output_type": "stream",
     "text": [
      "Downloading  [--------    ] 66.67 %\r"
     ]
    },
    {
     "name": "stderr",
     "output_type": "stream",
     "text": [
      "DEBUG:urllib3.connectionpool:Starting new HTTPS connection (1): www1.nseindia.com:443\n",
      "DEBUG:urllib3.connectionpool:https://www1.nseindia.com:443 \"GET /products/dynaContent/common/productsSymbolMapping.jsp?symbol=GAIL&segmentLink=3&symbolCount%0A%20%0A%0A%0A%0A%0A%0A2%0A&series=EQ&dateRange=+&fromDate=24-02-2011&toDate=23-02-2012&dataType=PRICEVOLUMEDELIVERABLE HTTP/1.1\" 200 18682\n"
     ]
    },
    {
     "name": "stdout",
     "output_type": "stream",
     "text": [
      "Downloading  [---------   ] 75.00 %\r"
     ]
    },
    {
     "name": "stderr",
     "output_type": "stream",
     "text": [
      "DEBUG:urllib3.connectionpool:Starting new HTTPS connection (1): www1.nseindia.com:443\n",
      "DEBUG:urllib3.connectionpool:https://www1.nseindia.com:443 \"GET /products/dynaContent/common/productsSymbolMapping.jsp?symbol=GAIL&segmentLink=3&symbolCount%0A%20%0A%0A%0A%0A%0A%0A2%0A&series=EQ&dateRange=+&fromDate=24-02-2010&toDate=23-02-2011&dataType=PRICEVOLUMEDELIVERABLE HTTP/1.1\" 200 18284\n"
     ]
    },
    {
     "name": "stdout",
     "output_type": "stream",
     "text": [
      "Downloading  [----------  ] 83.33 %\r"
     ]
    },
    {
     "name": "stderr",
     "output_type": "stream",
     "text": [
      "DEBUG:urllib3.connectionpool:Starting new HTTPS connection (1): www1.nseindia.com:443\n",
      "DEBUG:urllib3.connectionpool:https://www1.nseindia.com:443 \"GET /products/dynaContent/common/productsSymbolMapping.jsp?symbol=GAIL&segmentLink=3&symbolCount%0A%20%0A%0A%0A%0A%0A%0A2%0A&series=EQ&dateRange=+&fromDate=31-12-2009&toDate=23-02-2010&dataType=PRICEVOLUMEDELIVERABLE HTTP/1.1\" 200 4854\n"
     ]
    },
    {
     "name": "stdout",
     "output_type": "stream",
     "text": [
      "Downloading  [----------- ] 91.67 %\r"
     ]
    },
    {
     "name": "stderr",
     "output_type": "stream",
     "text": [
      "DEBUG:urllib3.connectionpool:Starting new HTTPS connection (1): www1.nseindia.com:443\n"
     ]
    },
    {
     "name": "stdout",
     "output_type": "stream",
     "text": [
      "Downloading  [------------] 100.00 % \n",
      "Generating for NTPC\n",
      "NTPC\n"
     ]
    },
    {
     "name": "stderr",
     "output_type": "stream",
     "text": [
      "DEBUG:urllib3.connectionpool:https://www1.nseindia.com:443 \"POST /marketinfo/sym_map/symbolCount.jsp?symbol= HTTP/1.1\" 200 10\n"
     ]
    },
    {
     "name": "stdout",
     "output_type": "stream",
     "text": [
      "Downloading  [            ]"
     ]
    },
    {
     "name": "stderr",
     "output_type": "stream",
     "text": [
      "DEBUG:urllib3.connectionpool:Starting new HTTPS connection (1): www1.nseindia.com:443\n"
     ]
    },
    {
     "name": "stdout",
     "output_type": "stream",
     "text": [
      "\r"
     ]
    },
    {
     "name": "stderr",
     "output_type": "stream",
     "text": [
      "DEBUG:urllib3.connectionpool:https://www1.nseindia.com:443 \"GET /products/dynaContent/common/productsSymbolMapping.jsp?symbol=NTPC&segmentLink=3&symbolCount%0A%20%0A%0A%0A%0A%0A%0A2%0A&series=EQ&dateRange=+&fromDate=22-02-2020&toDate=20-02-2021&dataType=PRICEVOLUMEDELIVERABLE HTTP/1.1\" 200 19602\n"
     ]
    },
    {
     "name": "stdout",
     "output_type": "stream",
     "text": [
      "Downloading  [            ] 0.00 %\r"
     ]
    },
    {
     "name": "stderr",
     "output_type": "stream",
     "text": [
      "DEBUG:urllib3.connectionpool:Starting new HTTPS connection (1): www1.nseindia.com:443\n",
      "DEBUG:urllib3.connectionpool:https://www1.nseindia.com:443 \"GET /products/dynaContent/common/productsSymbolMapping.jsp?symbol=NTPC&segmentLink=3&symbolCount%0A%20%0A%0A%0A%0A%0A%0A2%0A&series=EQ&dateRange=+&fromDate=22-02-2019&toDate=21-02-2020&dataType=PRICEVOLUMEDELIVERABLE HTTP/1.1\" 200 19247\n"
     ]
    },
    {
     "name": "stdout",
     "output_type": "stream",
     "text": [
      "Downloading  [-           ] 8.33 %\r"
     ]
    },
    {
     "name": "stderr",
     "output_type": "stream",
     "text": [
      "DEBUG:urllib3.connectionpool:Starting new HTTPS connection (1): www1.nseindia.com:443\n",
      "DEBUG:urllib3.connectionpool:https://www1.nseindia.com:443 \"GET /products/dynaContent/common/productsSymbolMapping.jsp?symbol=NTPC&segmentLink=3&symbolCount%0A%20%0A%0A%0A%0A%0A%0A2%0A&series=EQ&dateRange=+&fromDate=22-02-2018&toDate=21-02-2019&dataType=PRICEVOLUMEDELIVERABLE HTTP/1.1\" 200 19064\n"
     ]
    },
    {
     "name": "stdout",
     "output_type": "stream",
     "text": [
      "Downloading  [--          ] 16.67 %\r"
     ]
    },
    {
     "name": "stderr",
     "output_type": "stream",
     "text": [
      "DEBUG:urllib3.connectionpool:Starting new HTTPS connection (1): www1.nseindia.com:443\n",
      "DEBUG:urllib3.connectionpool:https://www1.nseindia.com:443 \"GET /products/dynaContent/common/productsSymbolMapping.jsp?symbol=NTPC&segmentLink=3&symbolCount%0A%20%0A%0A%0A%0A%0A%0A2%0A&series=EQ&dateRange=+&fromDate=22-02-2017&toDate=21-02-2018&dataType=PRICEVOLUMEDELIVERABLE HTTP/1.1\" 200 18927\n"
     ]
    },
    {
     "name": "stdout",
     "output_type": "stream",
     "text": [
      "Downloading  [---         ] 25.00 %\r"
     ]
    },
    {
     "name": "stderr",
     "output_type": "stream",
     "text": [
      "DEBUG:urllib3.connectionpool:Starting new HTTPS connection (1): www1.nseindia.com:443\n",
      "DEBUG:urllib3.connectionpool:https://www1.nseindia.com:443 \"GET /products/dynaContent/common/productsSymbolMapping.jsp?symbol=NTPC&segmentLink=3&symbolCount%0A%20%0A%0A%0A%0A%0A%0A2%0A&series=EQ&dateRange=+&fromDate=23-02-2016&toDate=21-02-2017&dataType=PRICEVOLUMEDELIVERABLE HTTP/1.1\" 200 18899\n"
     ]
    },
    {
     "name": "stdout",
     "output_type": "stream",
     "text": [
      "Downloading  [----        ] 33.33 %\r"
     ]
    },
    {
     "name": "stderr",
     "output_type": "stream",
     "text": [
      "DEBUG:urllib3.connectionpool:Starting new HTTPS connection (1): www1.nseindia.com:443\n",
      "DEBUG:urllib3.connectionpool:https://www1.nseindia.com:443 \"GET /products/dynaContent/common/productsSymbolMapping.jsp?symbol=NTPC&segmentLink=3&symbolCount%0A%20%0A%0A%0A%0A%0A%0A2%0A&series=EQ&dateRange=+&fromDate=23-02-2015&toDate=22-02-2016&dataType=PRICEVOLUMEDELIVERABLE HTTP/1.1\" 200 19109\n"
     ]
    },
    {
     "name": "stdout",
     "output_type": "stream",
     "text": [
      "Downloading  [-----       ] 41.67 %\r"
     ]
    },
    {
     "name": "stderr",
     "output_type": "stream",
     "text": [
      "DEBUG:urllib3.connectionpool:Starting new HTTPS connection (1): www1.nseindia.com:443\n",
      "DEBUG:urllib3.connectionpool:https://www1.nseindia.com:443 \"GET /products/dynaContent/common/productsSymbolMapping.jsp?symbol=NTPC&segmentLink=3&symbolCount%0A%20%0A%0A%0A%0A%0A%0A2%0A&series=EQ&dateRange=+&fromDate=23-02-2014&toDate=22-02-2015&dataType=PRICEVOLUMEDELIVERABLE HTTP/1.1\" 200 18870\n"
     ]
    },
    {
     "name": "stdout",
     "output_type": "stream",
     "text": [
      "Downloading  [------      ] 50.00 %\r"
     ]
    },
    {
     "name": "stderr",
     "output_type": "stream",
     "text": [
      "DEBUG:urllib3.connectionpool:Starting new HTTPS connection (1): www1.nseindia.com:443\n",
      "DEBUG:urllib3.connectionpool:https://www1.nseindia.com:443 \"GET /products/dynaContent/common/productsSymbolMapping.jsp?symbol=NTPC&segmentLink=3&symbolCount%0A%20%0A%0A%0A%0A%0A%0A2%0A&series=EQ&dateRange=+&fromDate=23-02-2013&toDate=22-02-2014&dataType=PRICEVOLUMEDELIVERABLE HTTP/1.1\" 200 19208\n"
     ]
    },
    {
     "name": "stdout",
     "output_type": "stream",
     "text": [
      "Downloading  [-------     ] 58.33 %\r"
     ]
    },
    {
     "name": "stderr",
     "output_type": "stream",
     "text": [
      "DEBUG:urllib3.connectionpool:Starting new HTTPS connection (1): www1.nseindia.com:443\n",
      "DEBUG:urllib3.connectionpool:https://www1.nseindia.com:443 \"GET /products/dynaContent/common/productsSymbolMapping.jsp?symbol=NTPC&segmentLink=3&symbolCount%0A%20%0A%0A%0A%0A%0A%0A2%0A&series=EQ&dateRange=+&fromDate=24-02-2012&toDate=22-02-2013&dataType=PRICEVOLUMEDELIVERABLE HTTP/1.1\" 200 18925\n"
     ]
    },
    {
     "name": "stdout",
     "output_type": "stream",
     "text": [
      "Downloading  [--------    ] 66.67 %\r"
     ]
    },
    {
     "name": "stderr",
     "output_type": "stream",
     "text": [
      "DEBUG:urllib3.connectionpool:Starting new HTTPS connection (1): www1.nseindia.com:443\n",
      "DEBUG:urllib3.connectionpool:https://www1.nseindia.com:443 \"GET /products/dynaContent/common/productsSymbolMapping.jsp?symbol=NTPC&segmentLink=3&symbolCount%0A%20%0A%0A%0A%0A%0A%0A2%0A&series=EQ&dateRange=+&fromDate=24-02-2011&toDate=23-02-2012&dataType=PRICEVOLUMEDELIVERABLE HTTP/1.1\" 200 18437\n"
     ]
    },
    {
     "name": "stdout",
     "output_type": "stream",
     "text": [
      "Downloading  [---------   ] 75.00 %\r"
     ]
    },
    {
     "name": "stderr",
     "output_type": "stream",
     "text": [
      "DEBUG:urllib3.connectionpool:Starting new HTTPS connection (1): www1.nseindia.com:443\n",
      "DEBUG:urllib3.connectionpool:https://www1.nseindia.com:443 \"GET /products/dynaContent/common/productsSymbolMapping.jsp?symbol=NTPC&segmentLink=3&symbolCount%0A%20%0A%0A%0A%0A%0A%0A2%0A&series=EQ&dateRange=+&fromDate=24-02-2010&toDate=23-02-2011&dataType=PRICEVOLUMEDELIVERABLE HTTP/1.1\" 200 17716\n"
     ]
    },
    {
     "name": "stdout",
     "output_type": "stream",
     "text": [
      "Downloading  [----------  ] 83.33 %\r"
     ]
    },
    {
     "name": "stderr",
     "output_type": "stream",
     "text": [
      "DEBUG:urllib3.connectionpool:Starting new HTTPS connection (1): www1.nseindia.com:443\n",
      "DEBUG:urllib3.connectionpool:https://www1.nseindia.com:443 \"GET /products/dynaContent/common/productsSymbolMapping.jsp?symbol=NTPC&segmentLink=3&symbolCount%0A%20%0A%0A%0A%0A%0A%0A2%0A&series=EQ&dateRange=+&fromDate=31-12-2009&toDate=23-02-2010&dataType=PRICEVOLUMEDELIVERABLE HTTP/1.1\" 200 4863\n"
     ]
    },
    {
     "name": "stdout",
     "output_type": "stream",
     "text": [
      "Downloading  [----------- ] 91.67 %\r"
     ]
    },
    {
     "name": "stderr",
     "output_type": "stream",
     "text": [
      "DEBUG:urllib3.connectionpool:Starting new HTTPS connection (1): www1.nseindia.com:443\n"
     ]
    },
    {
     "name": "stdout",
     "output_type": "stream",
     "text": [
      "Downloading  [------------] 100.00 % \n",
      "Generating for TCS\n",
      "TCS\n"
     ]
    },
    {
     "name": "stderr",
     "output_type": "stream",
     "text": [
      "DEBUG:urllib3.connectionpool:https://www1.nseindia.com:443 \"POST /marketinfo/sym_map/symbolCount.jsp?symbol= HTTP/1.1\" 200 10\n"
     ]
    },
    {
     "name": "stdout",
     "output_type": "stream",
     "text": [
      "Downloading  [            ]"
     ]
    },
    {
     "name": "stderr",
     "output_type": "stream",
     "text": [
      "DEBUG:urllib3.connectionpool:Starting new HTTPS connection (1): www1.nseindia.com:443\n"
     ]
    },
    {
     "name": "stdout",
     "output_type": "stream",
     "text": [
      "\r"
     ]
    },
    {
     "name": "stderr",
     "output_type": "stream",
     "text": [
      "DEBUG:urllib3.connectionpool:https://www1.nseindia.com:443 \"GET /products/dynaContent/common/productsSymbolMapping.jsp?symbol=TCS&segmentLink=3&symbolCount%0A%20%0A%0A%0A%0A%0A%0A2%0A&series=EQ&dateRange=+&fromDate=22-02-2020&toDate=20-02-2021&dataType=PRICEVOLUMEDELIVERABLE HTTP/1.1\" 200 21383\n"
     ]
    },
    {
     "name": "stdout",
     "output_type": "stream",
     "text": [
      "Downloading  [            ] 0.00 %\r"
     ]
    },
    {
     "name": "stderr",
     "output_type": "stream",
     "text": [
      "DEBUG:urllib3.connectionpool:Starting new HTTPS connection (1): www1.nseindia.com:443\n",
      "DEBUG:urllib3.connectionpool:https://www1.nseindia.com:443 \"GET /products/dynaContent/common/productsSymbolMapping.jsp?symbol=TCS&segmentLink=3&symbolCount%0A%20%0A%0A%0A%0A%0A%0A2%0A&series=EQ&dateRange=+&fromDate=22-02-2019&toDate=21-02-2020&dataType=PRICEVOLUMEDELIVERABLE HTTP/1.1\" 200 20577\n"
     ]
    },
    {
     "name": "stdout",
     "output_type": "stream",
     "text": [
      "Downloading  [-           ] 8.33 %\r"
     ]
    },
    {
     "name": "stderr",
     "output_type": "stream",
     "text": [
      "DEBUG:urllib3.connectionpool:Starting new HTTPS connection (1): www1.nseindia.com:443\n",
      "DEBUG:urllib3.connectionpool:https://www1.nseindia.com:443 \"GET /products/dynaContent/common/productsSymbolMapping.jsp?symbol=TCS&segmentLink=3&symbolCount%0A%20%0A%0A%0A%0A%0A%0A2%0A&series=EQ&dateRange=+&fromDate=22-02-2018&toDate=21-02-2019&dataType=PRICEVOLUMEDELIVERABLE HTTP/1.1\" 200 21049\n"
     ]
    },
    {
     "name": "stdout",
     "output_type": "stream",
     "text": [
      "Downloading  [--          ] 16.67 %\r"
     ]
    },
    {
     "name": "stderr",
     "output_type": "stream",
     "text": [
      "DEBUG:urllib3.connectionpool:Starting new HTTPS connection (1): www1.nseindia.com:443\n",
      "DEBUG:urllib3.connectionpool:https://www1.nseindia.com:443 \"GET /products/dynaContent/common/productsSymbolMapping.jsp?symbol=TCS&segmentLink=3&symbolCount%0A%20%0A%0A%0A%0A%0A%0A2%0A&series=EQ&dateRange=+&fromDate=22-02-2017&toDate=21-02-2018&dataType=PRICEVOLUMEDELIVERABLE HTTP/1.1\" 200 20592\n"
     ]
    },
    {
     "name": "stdout",
     "output_type": "stream",
     "text": [
      "Downloading  [---         ] 25.00 %\r"
     ]
    },
    {
     "name": "stderr",
     "output_type": "stream",
     "text": [
      "DEBUG:urllib3.connectionpool:Starting new HTTPS connection (1): www1.nseindia.com:443\n",
      "DEBUG:urllib3.connectionpool:https://www1.nseindia.com:443 \"GET /products/dynaContent/common/productsSymbolMapping.jsp?symbol=TCS&segmentLink=3&symbolCount%0A%20%0A%0A%0A%0A%0A%0A2%0A&series=EQ&dateRange=+&fromDate=23-02-2016&toDate=21-02-2017&dataType=PRICEVOLUMEDELIVERABLE HTTP/1.1\" 200 20481\n"
     ]
    },
    {
     "name": "stdout",
     "output_type": "stream",
     "text": [
      "Downloading  [----        ] 33.33 %\r"
     ]
    },
    {
     "name": "stderr",
     "output_type": "stream",
     "text": [
      "DEBUG:urllib3.connectionpool:Starting new HTTPS connection (1): www1.nseindia.com:443\n",
      "DEBUG:urllib3.connectionpool:https://www1.nseindia.com:443 \"GET /products/dynaContent/common/productsSymbolMapping.jsp?symbol=TCS&segmentLink=3&symbolCount%0A%20%0A%0A%0A%0A%0A%0A2%0A&series=EQ&dateRange=+&fromDate=23-02-2015&toDate=22-02-2016&dataType=PRICEVOLUMEDELIVERABLE HTTP/1.1\" 200 20453\n"
     ]
    },
    {
     "name": "stdout",
     "output_type": "stream",
     "text": [
      "Downloading  [-----       ] 41.67 %\r"
     ]
    },
    {
     "name": "stderr",
     "output_type": "stream",
     "text": [
      "DEBUG:urllib3.connectionpool:Starting new HTTPS connection (1): www1.nseindia.com:443\n",
      "DEBUG:urllib3.connectionpool:https://www1.nseindia.com:443 \"GET /products/dynaContent/common/productsSymbolMapping.jsp?symbol=TCS&segmentLink=3&symbolCount%0A%20%0A%0A%0A%0A%0A%0A2%0A&series=EQ&dateRange=+&fromDate=23-02-2014&toDate=22-02-2015&dataType=PRICEVOLUMEDELIVERABLE HTTP/1.1\" 200 20155\n"
     ]
    },
    {
     "name": "stdout",
     "output_type": "stream",
     "text": [
      "Downloading  [------      ] 50.00 %\r"
     ]
    },
    {
     "name": "stderr",
     "output_type": "stream",
     "text": [
      "DEBUG:urllib3.connectionpool:Starting new HTTPS connection (1): www1.nseindia.com:443\n",
      "DEBUG:urllib3.connectionpool:https://www1.nseindia.com:443 \"GET /products/dynaContent/common/productsSymbolMapping.jsp?symbol=TCS&segmentLink=3&symbolCount%0A%20%0A%0A%0A%0A%0A%0A2%0A&series=EQ&dateRange=+&fromDate=23-02-2013&toDate=22-02-2014&dataType=PRICEVOLUMEDELIVERABLE HTTP/1.1\" 200 20524\n"
     ]
    },
    {
     "name": "stdout",
     "output_type": "stream",
     "text": [
      "Downloading  [-------     ] 58.33 %\r"
     ]
    },
    {
     "name": "stderr",
     "output_type": "stream",
     "text": [
      "DEBUG:urllib3.connectionpool:Starting new HTTPS connection (1): www1.nseindia.com:443\n",
      "DEBUG:urllib3.connectionpool:https://www1.nseindia.com:443 \"GET /products/dynaContent/common/productsSymbolMapping.jsp?symbol=TCS&segmentLink=3&symbolCount%0A%20%0A%0A%0A%0A%0A%0A2%0A&series=EQ&dateRange=+&fromDate=24-02-2012&toDate=22-02-2013&dataType=PRICEVOLUMEDELIVERABLE HTTP/1.1\" 200 20371\n"
     ]
    },
    {
     "name": "stdout",
     "output_type": "stream",
     "text": [
      "Downloading  [--------    ] 66.67 %\r"
     ]
    },
    {
     "name": "stderr",
     "output_type": "stream",
     "text": [
      "DEBUG:urllib3.connectionpool:Starting new HTTPS connection (1): www1.nseindia.com:443\n",
      "DEBUG:urllib3.connectionpool:https://www1.nseindia.com:443 \"GET /products/dynaContent/common/productsSymbolMapping.jsp?symbol=TCS&segmentLink=3&symbolCount%0A%20%0A%0A%0A%0A%0A%0A2%0A&series=EQ&dateRange=+&fromDate=24-02-2011&toDate=23-02-2012&dataType=PRICEVOLUMEDELIVERABLE HTTP/1.1\" 200 19634\n"
     ]
    },
    {
     "name": "stdout",
     "output_type": "stream",
     "text": [
      "Downloading  [---------   ] 75.00 %\r"
     ]
    },
    {
     "name": "stderr",
     "output_type": "stream",
     "text": [
      "DEBUG:urllib3.connectionpool:Starting new HTTPS connection (1): www1.nseindia.com:443\n",
      "DEBUG:urllib3.connectionpool:https://www1.nseindia.com:443 \"GET /products/dynaContent/common/productsSymbolMapping.jsp?symbol=TCS&segmentLink=3&symbolCount%0A%20%0A%0A%0A%0A%0A%0A2%0A&series=EQ&dateRange=+&fromDate=24-02-2010&toDate=23-02-2011&dataType=PRICEVOLUMEDELIVERABLE HTTP/1.1\" 200 18840\n"
     ]
    },
    {
     "name": "stdout",
     "output_type": "stream",
     "text": [
      "Downloading  [----------  ] 83.33 %\r"
     ]
    },
    {
     "name": "stderr",
     "output_type": "stream",
     "text": [
      "DEBUG:urllib3.connectionpool:Starting new HTTPS connection (1): www1.nseindia.com:443\n",
      "DEBUG:urllib3.connectionpool:https://www1.nseindia.com:443 \"GET /products/dynaContent/common/productsSymbolMapping.jsp?symbol=TCS&segmentLink=3&symbolCount%0A%20%0A%0A%0A%0A%0A%0A2%0A&series=EQ&dateRange=+&fromDate=31-12-2009&toDate=23-02-2010&dataType=PRICEVOLUMEDELIVERABLE HTTP/1.1\" 200 5064\n"
     ]
    },
    {
     "name": "stdout",
     "output_type": "stream",
     "text": [
      "Downloading  [----------- ] 91.67 %\r"
     ]
    },
    {
     "name": "stderr",
     "output_type": "stream",
     "text": [
      "DEBUG:urllib3.connectionpool:Starting new HTTPS connection (1): www1.nseindia.com:443\n"
     ]
    },
    {
     "name": "stdout",
     "output_type": "stream",
     "text": [
      "Downloading  [------------] 100.00 % \n",
      "Generating for RELIANCE\n",
      "RELIANCE\n"
     ]
    },
    {
     "name": "stderr",
     "output_type": "stream",
     "text": [
      "DEBUG:urllib3.connectionpool:https://www1.nseindia.com:443 \"POST /marketinfo/sym_map/symbolCount.jsp?symbol= HTTP/1.1\" 200 10\n"
     ]
    },
    {
     "name": "stdout",
     "output_type": "stream",
     "text": [
      "Downloading  [            ]"
     ]
    },
    {
     "name": "stderr",
     "output_type": "stream",
     "text": [
      "DEBUG:urllib3.connectionpool:Starting new HTTPS connection (1): www1.nseindia.com:443\n"
     ]
    },
    {
     "name": "stdout",
     "output_type": "stream",
     "text": [
      "\r"
     ]
    },
    {
     "name": "stderr",
     "output_type": "stream",
     "text": [
      "DEBUG:urllib3.connectionpool:https://www1.nseindia.com:443 \"GET /products/dynaContent/common/productsSymbolMapping.jsp?symbol=RELIANCE&segmentLink=3&symbolCount%0A%20%0A%0A%0A%0A%0A%0A2%0A&series=EQ&dateRange=+&fromDate=22-02-2020&toDate=20-02-2021&dataType=PRICEVOLUMEDELIVERABLE HTTP/1.1\" 200 21854\n"
     ]
    },
    {
     "name": "stdout",
     "output_type": "stream",
     "text": [
      "Downloading  [            ] 0.00 %\r"
     ]
    },
    {
     "name": "stderr",
     "output_type": "stream",
     "text": [
      "DEBUG:urllib3.connectionpool:Starting new HTTPS connection (1): www1.nseindia.com:443\n",
      "DEBUG:urllib3.connectionpool:https://www1.nseindia.com:443 \"GET /products/dynaContent/common/productsSymbolMapping.jsp?symbol=RELIANCE&segmentLink=3&symbolCount%0A%20%0A%0A%0A%0A%0A%0A2%0A&series=EQ&dateRange=+&fromDate=22-02-2019&toDate=21-02-2020&dataType=PRICEVOLUMEDELIVERABLE HTTP/1.1\" 200 20765\n"
     ]
    },
    {
     "name": "stdout",
     "output_type": "stream",
     "text": [
      "Downloading  [-           ] 8.33 %\r"
     ]
    },
    {
     "name": "stderr",
     "output_type": "stream",
     "text": [
      "DEBUG:urllib3.connectionpool:Starting new HTTPS connection (1): www1.nseindia.com:443\n",
      "DEBUG:urllib3.connectionpool:https://www1.nseindia.com:443 \"GET /products/dynaContent/common/productsSymbolMapping.jsp?symbol=RELIANCE&segmentLink=3&symbolCount%0A%20%0A%0A%0A%0A%0A%0A2%0A&series=EQ&dateRange=+&fromDate=22-02-2018&toDate=21-02-2019&dataType=PRICEVOLUMEDELIVERABLE HTTP/1.1\" 200 20850\n"
     ]
    },
    {
     "name": "stdout",
     "output_type": "stream",
     "text": [
      "Downloading  [--          ] 16.67 %\r"
     ]
    },
    {
     "name": "stderr",
     "output_type": "stream",
     "text": [
      "DEBUG:urllib3.connectionpool:Starting new HTTPS connection (1): www1.nseindia.com:443\n",
      "DEBUG:urllib3.connectionpool:https://www1.nseindia.com:443 \"GET /products/dynaContent/common/productsSymbolMapping.jsp?symbol=RELIANCE&segmentLink=3&symbolCount%0A%20%0A%0A%0A%0A%0A%0A2%0A&series=EQ&dateRange=+&fromDate=22-02-2017&toDate=21-02-2018&dataType=PRICEVOLUMEDELIVERABLE HTTP/1.1\" 200 20898\n"
     ]
    },
    {
     "name": "stdout",
     "output_type": "stream",
     "text": [
      "Downloading  [---         ] 25.00 %\r"
     ]
    },
    {
     "name": "stderr",
     "output_type": "stream",
     "text": [
      "DEBUG:urllib3.connectionpool:Starting new HTTPS connection (1): www1.nseindia.com:443\n",
      "DEBUG:urllib3.connectionpool:https://www1.nseindia.com:443 \"GET /products/dynaContent/common/productsSymbolMapping.jsp?symbol=RELIANCE&segmentLink=3&symbolCount%0A%20%0A%0A%0A%0A%0A%0A2%0A&series=EQ&dateRange=+&fromDate=23-02-2016&toDate=21-02-2017&dataType=PRICEVOLUMEDELIVERABLE HTTP/1.1\" 200 20346\n"
     ]
    },
    {
     "name": "stdout",
     "output_type": "stream",
     "text": [
      "Downloading  [----        ] 33.33 %\r"
     ]
    },
    {
     "name": "stderr",
     "output_type": "stream",
     "text": [
      "DEBUG:urllib3.connectionpool:Starting new HTTPS connection (1): www1.nseindia.com:443\n",
      "DEBUG:urllib3.connectionpool:https://www1.nseindia.com:443 \"GET /products/dynaContent/common/productsSymbolMapping.jsp?symbol=RELIANCE&segmentLink=3&symbolCount%0A%20%0A%0A%0A%0A%0A%0A2%0A&series=EQ&dateRange=+&fromDate=23-02-2015&toDate=22-02-2016&dataType=PRICEVOLUMEDELIVERABLE HTTP/1.1\" 200 20594\n"
     ]
    },
    {
     "name": "stdout",
     "output_type": "stream",
     "text": [
      "Downloading  [-----       ] 41.67 %\r"
     ]
    },
    {
     "name": "stderr",
     "output_type": "stream",
     "text": [
      "DEBUG:urllib3.connectionpool:Starting new HTTPS connection (1): www1.nseindia.com:443\n",
      "DEBUG:urllib3.connectionpool:https://www1.nseindia.com:443 \"GET /products/dynaContent/common/productsSymbolMapping.jsp?symbol=RELIANCE&segmentLink=3&symbolCount%0A%20%0A%0A%0A%0A%0A%0A2%0A&series=EQ&dateRange=+&fromDate=23-02-2014&toDate=22-02-2015&dataType=PRICEVOLUMEDELIVERABLE HTTP/1.1\" 200 20328\n"
     ]
    },
    {
     "name": "stdout",
     "output_type": "stream",
     "text": [
      "Downloading  [------      ] 50.00 %\r"
     ]
    },
    {
     "name": "stderr",
     "output_type": "stream",
     "text": [
      "DEBUG:urllib3.connectionpool:Starting new HTTPS connection (1): www1.nseindia.com:443\n",
      "DEBUG:urllib3.connectionpool:https://www1.nseindia.com:443 \"GET /products/dynaContent/common/productsSymbolMapping.jsp?symbol=RELIANCE&segmentLink=3&symbolCount%0A%20%0A%0A%0A%0A%0A%0A2%0A&series=EQ&dateRange=+&fromDate=23-02-2013&toDate=22-02-2014&dataType=PRICEVOLUMEDELIVERABLE HTTP/1.1\" 200 20364\n"
     ]
    },
    {
     "name": "stdout",
     "output_type": "stream",
     "text": [
      "Downloading  [-------     ] 58.33 %\r"
     ]
    },
    {
     "name": "stderr",
     "output_type": "stream",
     "text": [
      "DEBUG:urllib3.connectionpool:Starting new HTTPS connection (1): www1.nseindia.com:443\n",
      "DEBUG:urllib3.connectionpool:https://www1.nseindia.com:443 \"GET /products/dynaContent/common/productsSymbolMapping.jsp?symbol=RELIANCE&segmentLink=3&symbolCount%0A%20%0A%0A%0A%0A%0A%0A2%0A&series=EQ&dateRange=+&fromDate=24-02-2012&toDate=22-02-2013&dataType=PRICEVOLUMEDELIVERABLE HTTP/1.1\" 200 20489\n"
     ]
    },
    {
     "name": "stdout",
     "output_type": "stream",
     "text": [
      "Downloading  [--------    ] 66.67 %\r"
     ]
    },
    {
     "name": "stderr",
     "output_type": "stream",
     "text": [
      "DEBUG:urllib3.connectionpool:Starting new HTTPS connection (1): www1.nseindia.com:443\n",
      "DEBUG:urllib3.connectionpool:https://www1.nseindia.com:443 \"GET /products/dynaContent/common/productsSymbolMapping.jsp?symbol=RELIANCE&segmentLink=3&symbolCount%0A%20%0A%0A%0A%0A%0A%0A2%0A&series=EQ&dateRange=+&fromDate=24-02-2011&toDate=23-02-2012&dataType=PRICEVOLUMEDELIVERABLE HTTP/1.1\" 200 20096\n"
     ]
    },
    {
     "name": "stdout",
     "output_type": "stream",
     "text": [
      "Downloading  [---------   ] 75.00 %\r"
     ]
    },
    {
     "name": "stderr",
     "output_type": "stream",
     "text": [
      "DEBUG:urllib3.connectionpool:Starting new HTTPS connection (1): www1.nseindia.com:443\n",
      "DEBUG:urllib3.connectionpool:https://www1.nseindia.com:443 \"GET /products/dynaContent/common/productsSymbolMapping.jsp?symbol=RELIANCE&segmentLink=3&symbolCount%0A%20%0A%0A%0A%0A%0A%0A2%0A&series=EQ&dateRange=+&fromDate=24-02-2010&toDate=23-02-2011&dataType=PRICEVOLUMEDELIVERABLE HTTP/1.1\" 200 19268\n"
     ]
    },
    {
     "name": "stdout",
     "output_type": "stream",
     "text": [
      "Downloading  [----------  ] 83.33 %\r"
     ]
    },
    {
     "name": "stderr",
     "output_type": "stream",
     "text": [
      "DEBUG:urllib3.connectionpool:Starting new HTTPS connection (1): www1.nseindia.com:443\n",
      "DEBUG:urllib3.connectionpool:https://www1.nseindia.com:443 \"GET /products/dynaContent/common/productsSymbolMapping.jsp?symbol=RELIANCE&segmentLink=3&symbolCount%0A%20%0A%0A%0A%0A%0A%0A2%0A&series=EQ&dateRange=+&fromDate=31-12-2009&toDate=23-02-2010&dataType=PRICEVOLUMEDELIVERABLE HTTP/1.1\" 200 5125\n"
     ]
    },
    {
     "name": "stdout",
     "output_type": "stream",
     "text": [
      "Downloading  [----------- ] 91.67 %\r"
     ]
    },
    {
     "name": "stderr",
     "output_type": "stream",
     "text": [
      "DEBUG:urllib3.connectionpool:Starting new HTTPS connection (1): www1.nseindia.com:443\n"
     ]
    },
    {
     "name": "stdout",
     "output_type": "stream",
     "text": [
      "Downloading  [------------] 100.00 % \n",
      "Generating for NESTLEIND\n",
      "NESTLEIND\n"
     ]
    },
    {
     "name": "stderr",
     "output_type": "stream",
     "text": [
      "DEBUG:urllib3.connectionpool:https://www1.nseindia.com:443 \"POST /marketinfo/sym_map/symbolCount.jsp?symbol= HTTP/1.1\" 200 10\n"
     ]
    },
    {
     "name": "stdout",
     "output_type": "stream",
     "text": [
      "Downloading  [            ]"
     ]
    },
    {
     "name": "stderr",
     "output_type": "stream",
     "text": [
      "DEBUG:urllib3.connectionpool:Starting new HTTPS connection (1): www1.nseindia.com:443\n"
     ]
    },
    {
     "name": "stdout",
     "output_type": "stream",
     "text": [
      "\r"
     ]
    },
    {
     "name": "stderr",
     "output_type": "stream",
     "text": [
      "DEBUG:urllib3.connectionpool:https://www1.nseindia.com:443 \"GET /products/dynaContent/common/productsSymbolMapping.jsp?symbol=NESTLEIND&segmentLink=3&symbolCount%0A%20%0A%0A%0A%0A%0A%0A2%0A&series=EQ&dateRange=+&fromDate=22-02-2020&toDate=20-02-2021&dataType=PRICEVOLUMEDELIVERABLE HTTP/1.1\" 200 21005\n"
     ]
    },
    {
     "name": "stdout",
     "output_type": "stream",
     "text": [
      "Downloading  [            ] 0.00 %\r"
     ]
    },
    {
     "name": "stderr",
     "output_type": "stream",
     "text": [
      "DEBUG:urllib3.connectionpool:Starting new HTTPS connection (1): www1.nseindia.com:443\n",
      "DEBUG:urllib3.connectionpool:https://www1.nseindia.com:443 \"GET /products/dynaContent/common/productsSymbolMapping.jsp?symbol=NESTLEIND&segmentLink=3&symbolCount%0A%20%0A%0A%0A%0A%0A%0A2%0A&series=EQ&dateRange=+&fromDate=22-02-2019&toDate=21-02-2020&dataType=PRICEVOLUMEDELIVERABLE HTTP/1.1\" 200 20423\n"
     ]
    },
    {
     "name": "stdout",
     "output_type": "stream",
     "text": [
      "Downloading  [-           ] 8.33 %\r"
     ]
    },
    {
     "name": "stderr",
     "output_type": "stream",
     "text": [
      "DEBUG:urllib3.connectionpool:Starting new HTTPS connection (1): www1.nseindia.com:443\n",
      "DEBUG:urllib3.connectionpool:https://www1.nseindia.com:443 \"GET /products/dynaContent/common/productsSymbolMapping.jsp?symbol=NESTLEIND&segmentLink=3&symbolCount%0A%20%0A%0A%0A%0A%0A%0A2%0A&series=EQ&dateRange=+&fromDate=22-02-2018&toDate=21-02-2019&dataType=PRICEVOLUMEDELIVERABLE HTTP/1.1\" 200 20423\n"
     ]
    },
    {
     "name": "stdout",
     "output_type": "stream",
     "text": [
      "Downloading  [--          ] 16.67 %\r"
     ]
    },
    {
     "name": "stderr",
     "output_type": "stream",
     "text": [
      "DEBUG:urllib3.connectionpool:Starting new HTTPS connection (1): www1.nseindia.com:443\n",
      "DEBUG:urllib3.connectionpool:https://www1.nseindia.com:443 \"GET /products/dynaContent/common/productsSymbolMapping.jsp?symbol=NESTLEIND&segmentLink=3&symbolCount%0A%20%0A%0A%0A%0A%0A%0A2%0A&series=EQ&dateRange=+&fromDate=22-02-2017&toDate=21-02-2018&dataType=PRICEVOLUMEDELIVERABLE HTTP/1.1\" 200 19616\n"
     ]
    },
    {
     "name": "stdout",
     "output_type": "stream",
     "text": [
      "Downloading  [---         ] 25.00 %\r"
     ]
    },
    {
     "name": "stderr",
     "output_type": "stream",
     "text": [
      "DEBUG:urllib3.connectionpool:Starting new HTTPS connection (1): www1.nseindia.com:443\n",
      "DEBUG:urllib3.connectionpool:https://www1.nseindia.com:443 \"GET /products/dynaContent/common/productsSymbolMapping.jsp?symbol=NESTLEIND&segmentLink=3&symbolCount%0A%20%0A%0A%0A%0A%0A%0A2%0A&series=EQ&dateRange=+&fromDate=23-02-2016&toDate=21-02-2017&dataType=PRICEVOLUMEDELIVERABLE HTTP/1.1\" 200 19739\n"
     ]
    },
    {
     "name": "stdout",
     "output_type": "stream",
     "text": [
      "Downloading  [----        ] 33.33 %\r"
     ]
    },
    {
     "name": "stderr",
     "output_type": "stream",
     "text": [
      "DEBUG:urllib3.connectionpool:Starting new HTTPS connection (1): www1.nseindia.com:443\n",
      "DEBUG:urllib3.connectionpool:https://www1.nseindia.com:443 \"GET /products/dynaContent/common/productsSymbolMapping.jsp?symbol=NESTLEIND&segmentLink=3&symbolCount%0A%20%0A%0A%0A%0A%0A%0A2%0A&series=EQ&dateRange=+&fromDate=23-02-2015&toDate=22-02-2016&dataType=PRICEVOLUMEDELIVERABLE HTTP/1.1\" 200 19958\n"
     ]
    },
    {
     "name": "stdout",
     "output_type": "stream",
     "text": [
      "Downloading  [-----       ] 41.67 %\r"
     ]
    },
    {
     "name": "stderr",
     "output_type": "stream",
     "text": [
      "DEBUG:urllib3.connectionpool:Starting new HTTPS connection (1): www1.nseindia.com:443\n",
      "DEBUG:urllib3.connectionpool:https://www1.nseindia.com:443 \"GET /products/dynaContent/common/productsSymbolMapping.jsp?symbol=NESTLEIND&segmentLink=3&symbolCount%0A%20%0A%0A%0A%0A%0A%0A2%0A&series=EQ&dateRange=+&fromDate=23-02-2014&toDate=22-02-2015&dataType=PRICEVOLUMEDELIVERABLE HTTP/1.1\" 200 18998\n"
     ]
    },
    {
     "name": "stdout",
     "output_type": "stream",
     "text": [
      "Downloading  [------      ] 50.00 %\r"
     ]
    },
    {
     "name": "stderr",
     "output_type": "stream",
     "text": [
      "DEBUG:urllib3.connectionpool:Starting new HTTPS connection (1): www1.nseindia.com:443\n",
      "DEBUG:urllib3.connectionpool:https://www1.nseindia.com:443 \"GET /products/dynaContent/common/productsSymbolMapping.jsp?symbol=NESTLEIND&segmentLink=3&symbolCount%0A%20%0A%0A%0A%0A%0A%0A2%0A&series=EQ&dateRange=+&fromDate=23-02-2013&toDate=22-02-2014&dataType=PRICEVOLUMEDELIVERABLE HTTP/1.1\" 200 19331\n"
     ]
    },
    {
     "name": "stdout",
     "output_type": "stream",
     "text": [
      "Downloading  [-------     ] 58.33 %\r"
     ]
    },
    {
     "name": "stderr",
     "output_type": "stream",
     "text": [
      "DEBUG:urllib3.connectionpool:Starting new HTTPS connection (1): www1.nseindia.com:443\n",
      "DEBUG:urllib3.connectionpool:https://www1.nseindia.com:443 \"GET /products/dynaContent/common/productsSymbolMapping.jsp?symbol=NESTLEIND&segmentLink=3&symbolCount%0A%20%0A%0A%0A%0A%0A%0A2%0A&series=EQ&dateRange=+&fromDate=24-02-2012&toDate=22-02-2013&dataType=PRICEVOLUMEDELIVERABLE HTTP/1.1\" 200 19320\n"
     ]
    },
    {
     "name": "stdout",
     "output_type": "stream",
     "text": [
      "Downloading  [--------    ] 66.67 %\r"
     ]
    },
    {
     "name": "stderr",
     "output_type": "stream",
     "text": [
      "DEBUG:urllib3.connectionpool:Starting new HTTPS connection (1): www1.nseindia.com:443\n",
      "DEBUG:urllib3.connectionpool:https://www1.nseindia.com:443 \"GET /products/dynaContent/common/productsSymbolMapping.jsp?symbol=NESTLEIND&segmentLink=3&symbolCount%0A%20%0A%0A%0A%0A%0A%0A2%0A&series=EQ&dateRange=+&fromDate=24-02-2011&toDate=23-02-2012&dataType=PRICEVOLUMEDELIVERABLE HTTP/1.1\" 200 18680\n"
     ]
    },
    {
     "name": "stdout",
     "output_type": "stream",
     "text": [
      "Downloading  [---------   ] 75.00 %\r"
     ]
    },
    {
     "name": "stderr",
     "output_type": "stream",
     "text": [
      "DEBUG:urllib3.connectionpool:Starting new HTTPS connection (1): www1.nseindia.com:443\n",
      "DEBUG:urllib3.connectionpool:https://www1.nseindia.com:443 \"GET /products/dynaContent/common/productsSymbolMapping.jsp?symbol=NESTLEIND&segmentLink=3&symbolCount%0A%20%0A%0A%0A%0A%0A%0A2%0A&series=EQ&dateRange=+&fromDate=24-02-2010&toDate=23-02-2011&dataType=PRICEVOLUMEDELIVERABLE HTTP/1.1\" 200 17937\n"
     ]
    },
    {
     "name": "stdout",
     "output_type": "stream",
     "text": [
      "Downloading  [----------  ] 83.33 %\r"
     ]
    },
    {
     "name": "stderr",
     "output_type": "stream",
     "text": [
      "DEBUG:urllib3.connectionpool:Starting new HTTPS connection (1): www1.nseindia.com:443\n",
      "DEBUG:urllib3.connectionpool:https://www1.nseindia.com:443 \"GET /products/dynaContent/common/productsSymbolMapping.jsp?symbol=NESTLEIND&segmentLink=3&symbolCount%0A%20%0A%0A%0A%0A%0A%0A2%0A&series=EQ&dateRange=+&fromDate=31-12-2009&toDate=23-02-2010&dataType=PRICEVOLUMEDELIVERABLE HTTP/1.1\" 200 4165\n"
     ]
    },
    {
     "name": "stdout",
     "output_type": "stream",
     "text": [
      "Downloading  [----------- ] 91.67 %\r"
     ]
    },
    {
     "name": "stderr",
     "output_type": "stream",
     "text": [
      "DEBUG:urllib3.connectionpool:Starting new HTTPS connection (1): www1.nseindia.com:443\n"
     ]
    },
    {
     "name": "stdout",
     "output_type": "stream",
     "text": [
      "Downloading  [------------] 100.00 % \n",
      "Generating for BAJAJFINSV\n",
      "BAJAJFINSV\n"
     ]
    },
    {
     "name": "stderr",
     "output_type": "stream",
     "text": [
      "DEBUG:urllib3.connectionpool:https://www1.nseindia.com:443 \"POST /marketinfo/sym_map/symbolCount.jsp?symbol= HTTP/1.1\" 200 10\n"
     ]
    },
    {
     "name": "stdout",
     "output_type": "stream",
     "text": [
      "Downloading  [            ]"
     ]
    },
    {
     "name": "stderr",
     "output_type": "stream",
     "text": [
      "DEBUG:urllib3.connectionpool:Starting new HTTPS connection (1): www1.nseindia.com:443\n"
     ]
    },
    {
     "name": "stdout",
     "output_type": "stream",
     "text": [
      "\r"
     ]
    },
    {
     "name": "stderr",
     "output_type": "stream",
     "text": [
      "DEBUG:urllib3.connectionpool:https://www1.nseindia.com:443 \"GET /products/dynaContent/common/productsSymbolMapping.jsp?symbol=BAJAJFINSV&segmentLink=3&symbolCount%0A%20%0A%0A%0A%0A%0A%0A2%0A&series=EQ&dateRange=+&fromDate=22-02-2020&toDate=20-02-2021&dataType=PRICEVOLUMEDELIVERABLE HTTP/1.1\" 200 21475\n"
     ]
    },
    {
     "name": "stdout",
     "output_type": "stream",
     "text": [
      "Downloading  [            ] 0.00 %\r"
     ]
    },
    {
     "name": "stderr",
     "output_type": "stream",
     "text": [
      "DEBUG:urllib3.connectionpool:Starting new HTTPS connection (1): www1.nseindia.com:443\n",
      "DEBUG:urllib3.connectionpool:https://www1.nseindia.com:443 \"GET /products/dynaContent/common/productsSymbolMapping.jsp?symbol=BAJAJFINSV&segmentLink=3&symbolCount%0A%20%0A%0A%0A%0A%0A%0A2%0A&series=EQ&dateRange=+&fromDate=22-02-2019&toDate=21-02-2020&dataType=PRICEVOLUMEDELIVERABLE HTTP/1.1\" 200 20628\n"
     ]
    },
    {
     "name": "stdout",
     "output_type": "stream",
     "text": [
      "Downloading  [-           ] 8.33 %\r"
     ]
    },
    {
     "name": "stderr",
     "output_type": "stream",
     "text": [
      "DEBUG:urllib3.connectionpool:Starting new HTTPS connection (1): www1.nseindia.com:443\n",
      "DEBUG:urllib3.connectionpool:https://www1.nseindia.com:443 \"GET /products/dynaContent/common/productsSymbolMapping.jsp?symbol=BAJAJFINSV&segmentLink=3&symbolCount%0A%20%0A%0A%0A%0A%0A%0A2%0A&series=EQ&dateRange=+&fromDate=22-02-2018&toDate=21-02-2019&dataType=PRICEVOLUMEDELIVERABLE HTTP/1.1\" 200 20576\n"
     ]
    },
    {
     "name": "stdout",
     "output_type": "stream",
     "text": [
      "Downloading  [--          ] 16.67 %\r"
     ]
    },
    {
     "name": "stderr",
     "output_type": "stream",
     "text": [
      "DEBUG:urllib3.connectionpool:Starting new HTTPS connection (1): www1.nseindia.com:443\n",
      "DEBUG:urllib3.connectionpool:https://www1.nseindia.com:443 \"GET /products/dynaContent/common/productsSymbolMapping.jsp?symbol=BAJAJFINSV&segmentLink=3&symbolCount%0A%20%0A%0A%0A%0A%0A%0A2%0A&series=EQ&dateRange=+&fromDate=22-02-2017&toDate=21-02-2018&dataType=PRICEVOLUMEDELIVERABLE HTTP/1.1\" 200 20333\n"
     ]
    },
    {
     "name": "stdout",
     "output_type": "stream",
     "text": [
      "Downloading  [---         ] 25.00 %\r"
     ]
    },
    {
     "name": "stderr",
     "output_type": "stream",
     "text": [
      "DEBUG:urllib3.connectionpool:Starting new HTTPS connection (1): www1.nseindia.com:443\n",
      "DEBUG:urllib3.connectionpool:https://www1.nseindia.com:443 \"GET /products/dynaContent/common/productsSymbolMapping.jsp?symbol=BAJAJFINSV&segmentLink=3&symbolCount%0A%20%0A%0A%0A%0A%0A%0A2%0A&series=EQ&dateRange=+&fromDate=23-02-2016&toDate=21-02-2017&dataType=PRICEVOLUMEDELIVERABLE HTTP/1.1\" 200 19882\n"
     ]
    },
    {
     "name": "stdout",
     "output_type": "stream",
     "text": [
      "Downloading  [----        ] 33.33 %\r"
     ]
    },
    {
     "name": "stderr",
     "output_type": "stream",
     "text": [
      "DEBUG:urllib3.connectionpool:Starting new HTTPS connection (1): www1.nseindia.com:443\n",
      "DEBUG:urllib3.connectionpool:https://www1.nseindia.com:443 \"GET /products/dynaContent/common/productsSymbolMapping.jsp?symbol=BAJAJFINSV&segmentLink=3&symbolCount%0A%20%0A%0A%0A%0A%0A%0A2%0A&series=EQ&dateRange=+&fromDate=23-02-2015&toDate=22-02-2016&dataType=PRICEVOLUMEDELIVERABLE HTTP/1.1\" 200 19271\n"
     ]
    },
    {
     "name": "stdout",
     "output_type": "stream",
     "text": [
      "Downloading  [-----       ] 41.67 %\r"
     ]
    },
    {
     "name": "stderr",
     "output_type": "stream",
     "text": [
      "DEBUG:urllib3.connectionpool:Starting new HTTPS connection (1): www1.nseindia.com:443\n",
      "DEBUG:urllib3.connectionpool:https://www1.nseindia.com:443 \"GET /products/dynaContent/common/productsSymbolMapping.jsp?symbol=BAJAJFINSV&segmentLink=3&symbolCount%0A%20%0A%0A%0A%0A%0A%0A2%0A&series=EQ&dateRange=+&fromDate=23-02-2014&toDate=22-02-2015&dataType=PRICEVOLUMEDELIVERABLE HTTP/1.1\" 200 18441\n"
     ]
    },
    {
     "name": "stdout",
     "output_type": "stream",
     "text": [
      "Downloading  [------      ] 50.00 %\r"
     ]
    },
    {
     "name": "stderr",
     "output_type": "stream",
     "text": [
      "DEBUG:urllib3.connectionpool:Starting new HTTPS connection (1): www1.nseindia.com:443\n",
      "DEBUG:urllib3.connectionpool:https://www1.nseindia.com:443 \"GET /products/dynaContent/common/productsSymbolMapping.jsp?symbol=BAJAJFINSV&segmentLink=3&symbolCount%0A%20%0A%0A%0A%0A%0A%0A2%0A&series=EQ&dateRange=+&fromDate=23-02-2013&toDate=22-02-2014&dataType=PRICEVOLUMEDELIVERABLE HTTP/1.1\" 200 18676\n"
     ]
    },
    {
     "name": "stdout",
     "output_type": "stream",
     "text": [
      "Downloading  [-------     ] 58.33 %\r"
     ]
    },
    {
     "name": "stderr",
     "output_type": "stream",
     "text": [
      "DEBUG:urllib3.connectionpool:Starting new HTTPS connection (1): www1.nseindia.com:443\n",
      "DEBUG:urllib3.connectionpool:https://www1.nseindia.com:443 \"GET /products/dynaContent/common/productsSymbolMapping.jsp?symbol=BAJAJFINSV&segmentLink=3&symbolCount%0A%20%0A%0A%0A%0A%0A%0A2%0A&series=EQ&dateRange=+&fromDate=24-02-2012&toDate=22-02-2013&dataType=PRICEVOLUMEDELIVERABLE HTTP/1.1\" 200 19187\n"
     ]
    },
    {
     "name": "stdout",
     "output_type": "stream",
     "text": [
      "Downloading  [--------    ] 66.67 %\r"
     ]
    },
    {
     "name": "stderr",
     "output_type": "stream",
     "text": [
      "DEBUG:urllib3.connectionpool:Starting new HTTPS connection (1): www1.nseindia.com:443\n",
      "DEBUG:urllib3.connectionpool:https://www1.nseindia.com:443 \"GET /products/dynaContent/common/productsSymbolMapping.jsp?symbol=BAJAJFINSV&segmentLink=3&symbolCount%0A%20%0A%0A%0A%0A%0A%0A2%0A&series=EQ&dateRange=+&fromDate=24-02-2011&toDate=23-02-2012&dataType=PRICEVOLUMEDELIVERABLE HTTP/1.1\" 200 18463\n"
     ]
    },
    {
     "name": "stdout",
     "output_type": "stream",
     "text": [
      "Downloading  [---------   ] 75.00 %\r"
     ]
    },
    {
     "name": "stderr",
     "output_type": "stream",
     "text": [
      "DEBUG:urllib3.connectionpool:Starting new HTTPS connection (1): www1.nseindia.com:443\n",
      "DEBUG:urllib3.connectionpool:https://www1.nseindia.com:443 \"GET /products/dynaContent/common/productsSymbolMapping.jsp?symbol=BAJAJFINSV&segmentLink=3&symbolCount%0A%20%0A%0A%0A%0A%0A%0A2%0A&series=EQ&dateRange=+&fromDate=24-02-2010&toDate=23-02-2011&dataType=PRICEVOLUMEDELIVERABLE HTTP/1.1\" 200 17884\n"
     ]
    },
    {
     "name": "stdout",
     "output_type": "stream",
     "text": [
      "Downloading  [----------  ] 83.33 %\r"
     ]
    },
    {
     "name": "stderr",
     "output_type": "stream",
     "text": [
      "DEBUG:urllib3.connectionpool:Starting new HTTPS connection (1): www1.nseindia.com:443\n",
      "DEBUG:urllib3.connectionpool:https://www1.nseindia.com:443 \"GET /products/dynaContent/common/productsSymbolMapping.jsp?symbol=BAJAJFINSV&segmentLink=3&symbolCount%0A%20%0A%0A%0A%0A%0A%0A2%0A&series=EQ&dateRange=+&fromDate=31-12-2009&toDate=23-02-2010&dataType=PRICEVOLUMEDELIVERABLE HTTP/1.1\" 200 4617\n"
     ]
    },
    {
     "name": "stdout",
     "output_type": "stream",
     "text": [
      "Downloading  [----------- ] 91.67 %\r"
     ]
    },
    {
     "name": "stderr",
     "output_type": "stream",
     "text": [
      "DEBUG:urllib3.connectionpool:Starting new HTTPS connection (1): www1.nseindia.com:443\n"
     ]
    },
    {
     "name": "stdout",
     "output_type": "stream",
     "text": [
      "Downloading  [------------] 100.00 % \n",
      "Generating for UNIPLY\n",
      "UNIPLY\n"
     ]
    },
    {
     "name": "stderr",
     "output_type": "stream",
     "text": [
      "DEBUG:urllib3.connectionpool:https://www1.nseindia.com:443 \"POST /marketinfo/sym_map/symbolCount.jsp?symbol= HTTP/1.1\" 200 10\n"
     ]
    },
    {
     "name": "stdout",
     "output_type": "stream",
     "text": [
      "Downloading  [            ]"
     ]
    },
    {
     "name": "stderr",
     "output_type": "stream",
     "text": [
      "DEBUG:urllib3.connectionpool:Starting new HTTPS connection (1): www1.nseindia.com:443\n"
     ]
    },
    {
     "name": "stdout",
     "output_type": "stream",
     "text": [
      "\r"
     ]
    },
    {
     "name": "stderr",
     "output_type": "stream",
     "text": [
      "DEBUG:urllib3.connectionpool:https://www1.nseindia.com:443 \"GET /products/dynaContent/common/productsSymbolMapping.jsp?symbol=UNIPLY&segmentLink=3&symbolCount%0A%20%0A%0A%0A%0A%0A%0A2%0A&series=EQ&dateRange=+&fromDate=22-02-2020&toDate=20-02-2021&dataType=PRICEVOLUMEDELIVERABLE HTTP/1.1\" 200 10703\n"
     ]
    },
    {
     "name": "stdout",
     "output_type": "stream",
     "text": [
      "Downloading  [            ] 0.00 %\r"
     ]
    },
    {
     "name": "stderr",
     "output_type": "stream",
     "text": [
      "DEBUG:urllib3.connectionpool:Starting new HTTPS connection (1): www1.nseindia.com:443\n",
      "DEBUG:urllib3.connectionpool:https://www1.nseindia.com:443 \"GET /products/dynaContent/common/productsSymbolMapping.jsp?symbol=UNIPLY&segmentLink=3&symbolCount%0A%20%0A%0A%0A%0A%0A%0A2%0A&series=EQ&dateRange=+&fromDate=22-02-2019&toDate=21-02-2020&dataType=PRICEVOLUMEDELIVERABLE HTTP/1.1\" 200 14507\n"
     ]
    },
    {
     "name": "stdout",
     "output_type": "stream",
     "text": [
      "Downloading  [-           ] 8.33 %\r"
     ]
    },
    {
     "name": "stderr",
     "output_type": "stream",
     "text": [
      "DEBUG:urllib3.connectionpool:Starting new HTTPS connection (1): www1.nseindia.com:443\n",
      "DEBUG:urllib3.connectionpool:https://www1.nseindia.com:443 \"GET /products/dynaContent/common/productsSymbolMapping.jsp?symbol=UNIPLY&segmentLink=3&symbolCount%0A%20%0A%0A%0A%0A%0A%0A2%0A&series=EQ&dateRange=+&fromDate=22-02-2018&toDate=21-02-2019&dataType=PRICEVOLUMEDELIVERABLE HTTP/1.1\" 200 17888\n"
     ]
    },
    {
     "name": "stdout",
     "output_type": "stream",
     "text": [
      "Downloading  [--          ] 16.67 %\r"
     ]
    },
    {
     "name": "stderr",
     "output_type": "stream",
     "text": [
      "DEBUG:urllib3.connectionpool:Starting new HTTPS connection (1): www1.nseindia.com:443\n",
      "DEBUG:urllib3.connectionpool:https://www1.nseindia.com:443 \"GET /products/dynaContent/common/productsSymbolMapping.jsp?symbol=UNIPLY&segmentLink=3&symbolCount%0A%20%0A%0A%0A%0A%0A%0A2%0A&series=EQ&dateRange=+&fromDate=22-02-2017&toDate=21-02-2018&dataType=PRICEVOLUMEDELIVERABLE HTTP/1.1\" 200 15547\n"
     ]
    },
    {
     "name": "stdout",
     "output_type": "stream",
     "text": [
      "Downloading  [---         ] 25.00 %\r"
     ]
    },
    {
     "name": "stderr",
     "output_type": "stream",
     "text": [
      "DEBUG:urllib3.connectionpool:Starting new HTTPS connection (1): www1.nseindia.com:443\n",
      "DEBUG:urllib3.connectionpool:https://www1.nseindia.com:443 \"GET /products/dynaContent/common/productsSymbolMapping.jsp?symbol=UNIPLY&segmentLink=3&symbolCount%0A%20%0A%0A%0A%0A%0A%0A2%0A&series=EQ&dateRange=+&fromDate=23-02-2016&toDate=21-02-2017&dataType=PRICEVOLUMEDELIVERABLE HTTP/1.1\" 200 17477\n"
     ]
    },
    {
     "name": "stdout",
     "output_type": "stream",
     "text": [
      "Downloading  [----        ] 33.33 %\r"
     ]
    },
    {
     "name": "stderr",
     "output_type": "stream",
     "text": [
      "DEBUG:urllib3.connectionpool:Starting new HTTPS connection (1): www1.nseindia.com:443\n",
      "DEBUG:urllib3.connectionpool:https://www1.nseindia.com:443 \"GET /products/dynaContent/common/productsSymbolMapping.jsp?symbol=UNIPLY&segmentLink=3&symbolCount%0A%20%0A%0A%0A%0A%0A%0A2%0A&series=EQ&dateRange=+&fromDate=23-02-2015&toDate=22-02-2016&dataType=PRICEVOLUMEDELIVERABLE HTTP/1.1\" 200 12825\n"
     ]
    },
    {
     "name": "stdout",
     "output_type": "stream",
     "text": [
      "Downloading  [-----       ] 41.67 %\r"
     ]
    },
    {
     "name": "stderr",
     "output_type": "stream",
     "text": [
      "DEBUG:urllib3.connectionpool:Starting new HTTPS connection (1): www1.nseindia.com:443\n",
      "DEBUG:urllib3.connectionpool:https://www1.nseindia.com:443 \"GET /products/dynaContent/common/productsSymbolMapping.jsp?symbol=UNIPLY&segmentLink=3&symbolCount%0A%20%0A%0A%0A%0A%0A%0A2%0A&series=EQ&dateRange=+&fromDate=23-02-2014&toDate=22-02-2015&dataType=PRICEVOLUMEDELIVERABLE HTTP/1.1\" 200 9780\n"
     ]
    },
    {
     "name": "stdout",
     "output_type": "stream",
     "text": [
      "Downloading  [------      ] 50.00 %\r"
     ]
    },
    {
     "name": "stderr",
     "output_type": "stream",
     "text": [
      "DEBUG:urllib3.connectionpool:Starting new HTTPS connection (1): www1.nseindia.com:443\n",
      "DEBUG:urllib3.connectionpool:https://www1.nseindia.com:443 \"GET /products/dynaContent/common/productsSymbolMapping.jsp?symbol=UNIPLY&segmentLink=3&symbolCount%0A%20%0A%0A%0A%0A%0A%0A2%0A&series=EQ&dateRange=+&fromDate=23-02-2013&toDate=22-02-2014&dataType=PRICEVOLUMEDELIVERABLE HTTP/1.1\" 200 7654\n"
     ]
    },
    {
     "name": "stdout",
     "output_type": "stream",
     "text": [
      "Downloading  [-------     ] 58.33 %\r"
     ]
    },
    {
     "name": "stderr",
     "output_type": "stream",
     "text": [
      "DEBUG:urllib3.connectionpool:Starting new HTTPS connection (1): www1.nseindia.com:443\n",
      "DEBUG:urllib3.connectionpool:https://www1.nseindia.com:443 \"GET /products/dynaContent/common/productsSymbolMapping.jsp?symbol=UNIPLY&segmentLink=3&symbolCount%0A%20%0A%0A%0A%0A%0A%0A2%0A&series=EQ&dateRange=+&fromDate=24-02-2012&toDate=22-02-2013&dataType=PRICEVOLUMEDELIVERABLE HTTP/1.1\" 200 11351\n"
     ]
    },
    {
     "name": "stdout",
     "output_type": "stream",
     "text": [
      "Downloading  [--------    ] 66.67 %\r"
     ]
    },
    {
     "name": "stderr",
     "output_type": "stream",
     "text": [
      "DEBUG:urllib3.connectionpool:Starting new HTTPS connection (1): www1.nseindia.com:443\n",
      "DEBUG:urllib3.connectionpool:https://www1.nseindia.com:443 \"GET /products/dynaContent/common/productsSymbolMapping.jsp?symbol=UNIPLY&segmentLink=3&symbolCount%0A%20%0A%0A%0A%0A%0A%0A2%0A&series=EQ&dateRange=+&fromDate=24-02-2011&toDate=23-02-2012&dataType=PRICEVOLUMEDELIVERABLE HTTP/1.1\" 200 13709\n"
     ]
    },
    {
     "name": "stdout",
     "output_type": "stream",
     "text": [
      "Downloading  [---------   ] 75.00 %\r"
     ]
    },
    {
     "name": "stderr",
     "output_type": "stream",
     "text": [
      "DEBUG:urllib3.connectionpool:Starting new HTTPS connection (1): www1.nseindia.com:443\n",
      "DEBUG:urllib3.connectionpool:https://www1.nseindia.com:443 \"GET /products/dynaContent/common/productsSymbolMapping.jsp?symbol=UNIPLY&segmentLink=3&symbolCount%0A%20%0A%0A%0A%0A%0A%0A2%0A&series=EQ&dateRange=+&fromDate=24-02-2010&toDate=23-02-2011&dataType=PRICEVOLUMEDELIVERABLE HTTP/1.1\" 200 13115\n"
     ]
    },
    {
     "name": "stdout",
     "output_type": "stream",
     "text": [
      "Downloading  [----------  ] 83.33 %\r"
     ]
    },
    {
     "name": "stderr",
     "output_type": "stream",
     "text": [
      "DEBUG:urllib3.connectionpool:Starting new HTTPS connection (1): www1.nseindia.com:443\n",
      "DEBUG:urllib3.connectionpool:https://www1.nseindia.com:443 \"GET /products/dynaContent/common/productsSymbolMapping.jsp?symbol=UNIPLY&segmentLink=3&symbolCount%0A%20%0A%0A%0A%0A%0A%0A2%0A&series=EQ&dateRange=+&fromDate=31-12-2009&toDate=23-02-2010&dataType=PRICEVOLUMEDELIVERABLE HTTP/1.1\" 200 3973\n"
     ]
    },
    {
     "name": "stdout",
     "output_type": "stream",
     "text": [
      "Downloading  [----------- ] 91.67 %\r"
     ]
    },
    {
     "name": "stderr",
     "output_type": "stream",
     "text": [
      "DEBUG:urllib3.connectionpool:Starting new HTTPS connection (1): www1.nseindia.com:443\n"
     ]
    },
    {
     "name": "stdout",
     "output_type": "stream",
     "text": [
      "Downloading  [------------] 100.00 % \n",
      "Generating for DBREALTY\n",
      "DBREALTY\n"
     ]
    },
    {
     "name": "stderr",
     "output_type": "stream",
     "text": [
      "DEBUG:urllib3.connectionpool:https://www1.nseindia.com:443 \"POST /marketinfo/sym_map/symbolCount.jsp?symbol= HTTP/1.1\" 200 10\n"
     ]
    },
    {
     "name": "stdout",
     "output_type": "stream",
     "text": [
      "Downloading  [            ]"
     ]
    },
    {
     "name": "stderr",
     "output_type": "stream",
     "text": [
      "DEBUG:urllib3.connectionpool:Starting new HTTPS connection (1): www1.nseindia.com:443\n"
     ]
    },
    {
     "name": "stdout",
     "output_type": "stream",
     "text": [
      "\r"
     ]
    },
    {
     "name": "stderr",
     "output_type": "stream",
     "text": [
      "DEBUG:urllib3.connectionpool:https://www1.nseindia.com:443 \"GET /products/dynaContent/common/productsSymbolMapping.jsp?symbol=DBREALTY&segmentLink=3&symbolCount%0A%20%0A%0A%0A%0A%0A%0A2%0A&series=EQ&dateRange=+&fromDate=22-02-2020&toDate=20-02-2021&dataType=PRICEVOLUMEDELIVERABLE HTTP/1.1\" 200 12999\n"
     ]
    },
    {
     "name": "stdout",
     "output_type": "stream",
     "text": [
      "Downloading  [            ] 0.00 %\r"
     ]
    },
    {
     "name": "stderr",
     "output_type": "stream",
     "text": [
      "DEBUG:urllib3.connectionpool:Starting new HTTPS connection (1): www1.nseindia.com:443\n",
      "DEBUG:urllib3.connectionpool:https://www1.nseindia.com:443 \"GET /products/dynaContent/common/productsSymbolMapping.jsp?symbol=DBREALTY&segmentLink=3&symbolCount%0A%20%0A%0A%0A%0A%0A%0A2%0A&series=EQ&dateRange=+&fromDate=22-02-2019&toDate=21-02-2020&dataType=PRICEVOLUMEDELIVERABLE HTTP/1.1\" 200 12876\n"
     ]
    },
    {
     "name": "stdout",
     "output_type": "stream",
     "text": [
      "Downloading  [-           ] 8.33 %\r"
     ]
    },
    {
     "name": "stderr",
     "output_type": "stream",
     "text": [
      "DEBUG:urllib3.connectionpool:Starting new HTTPS connection (1): www1.nseindia.com:443\n",
      "DEBUG:urllib3.connectionpool:https://www1.nseindia.com:443 \"GET /products/dynaContent/common/productsSymbolMapping.jsp?symbol=DBREALTY&segmentLink=3&symbolCount%0A%20%0A%0A%0A%0A%0A%0A2%0A&series=EQ&dateRange=+&fromDate=22-02-2018&toDate=21-02-2019&dataType=PRICEVOLUMEDELIVERABLE HTTP/1.1\" 200 16346\n"
     ]
    },
    {
     "name": "stdout",
     "output_type": "stream",
     "text": [
      "Downloading  [--          ] 16.67 %\r"
     ]
    },
    {
     "name": "stderr",
     "output_type": "stream",
     "text": [
      "DEBUG:urllib3.connectionpool:Starting new HTTPS connection (1): www1.nseindia.com:443\n",
      "DEBUG:urllib3.connectionpool:https://www1.nseindia.com:443 \"GET /products/dynaContent/common/productsSymbolMapping.jsp?symbol=DBREALTY&segmentLink=3&symbolCount%0A%20%0A%0A%0A%0A%0A%0A2%0A&series=EQ&dateRange=+&fromDate=22-02-2017&toDate=21-02-2018&dataType=PRICEVOLUMEDELIVERABLE HTTP/1.1\" 200 17491\n"
     ]
    },
    {
     "name": "stdout",
     "output_type": "stream",
     "text": [
      "Downloading  [---         ] 25.00 %\r"
     ]
    },
    {
     "name": "stderr",
     "output_type": "stream",
     "text": [
      "DEBUG:urllib3.connectionpool:Starting new HTTPS connection (1): www1.nseindia.com:443\n",
      "DEBUG:urllib3.connectionpool:https://www1.nseindia.com:443 \"GET /products/dynaContent/common/productsSymbolMapping.jsp?symbol=DBREALTY&segmentLink=3&symbolCount%0A%20%0A%0A%0A%0A%0A%0A2%0A&series=EQ&dateRange=+&fromDate=23-02-2016&toDate=21-02-2017&dataType=PRICEVOLUMEDELIVERABLE HTTP/1.1\" 200 17288\n"
     ]
    },
    {
     "name": "stdout",
     "output_type": "stream",
     "text": [
      "Downloading  [----        ] 33.33 %\r"
     ]
    },
    {
     "name": "stderr",
     "output_type": "stream",
     "text": [
      "DEBUG:urllib3.connectionpool:Starting new HTTPS connection (1): www1.nseindia.com:443\n",
      "DEBUG:urllib3.connectionpool:https://www1.nseindia.com:443 \"GET /products/dynaContent/common/productsSymbolMapping.jsp?symbol=DBREALTY&segmentLink=3&symbolCount%0A%20%0A%0A%0A%0A%0A%0A2%0A&series=EQ&dateRange=+&fromDate=23-02-2015&toDate=22-02-2016&dataType=PRICEVOLUMEDELIVERABLE HTTP/1.1\" 200 17649\n"
     ]
    },
    {
     "name": "stdout",
     "output_type": "stream",
     "text": [
      "Downloading  [-----       ] 41.67 %\r"
     ]
    },
    {
     "name": "stderr",
     "output_type": "stream",
     "text": [
      "DEBUG:urllib3.connectionpool:Starting new HTTPS connection (1): www1.nseindia.com:443\n",
      "DEBUG:urllib3.connectionpool:https://www1.nseindia.com:443 \"GET /products/dynaContent/common/productsSymbolMapping.jsp?symbol=DBREALTY&segmentLink=3&symbolCount%0A%20%0A%0A%0A%0A%0A%0A2%0A&series=EQ&dateRange=+&fromDate=23-02-2014&toDate=22-02-2015&dataType=PRICEVOLUMEDELIVERABLE HTTP/1.1\" 200 16791\n"
     ]
    },
    {
     "name": "stdout",
     "output_type": "stream",
     "text": [
      "Downloading  [------      ] 50.00 %\r"
     ]
    },
    {
     "name": "stderr",
     "output_type": "stream",
     "text": [
      "DEBUG:urllib3.connectionpool:Starting new HTTPS connection (1): www1.nseindia.com:443\n",
      "DEBUG:urllib3.connectionpool:https://www1.nseindia.com:443 \"GET /products/dynaContent/common/productsSymbolMapping.jsp?symbol=DBREALTY&segmentLink=3&symbolCount%0A%20%0A%0A%0A%0A%0A%0A2%0A&series=EQ&dateRange=+&fromDate=23-02-2013&toDate=22-02-2014&dataType=PRICEVOLUMEDELIVERABLE HTTP/1.1\" 200 17697\n"
     ]
    },
    {
     "name": "stdout",
     "output_type": "stream",
     "text": [
      "Downloading  [-------     ] 58.33 %\r"
     ]
    },
    {
     "name": "stderr",
     "output_type": "stream",
     "text": [
      "DEBUG:urllib3.connectionpool:Starting new HTTPS connection (1): www1.nseindia.com:443\n",
      "DEBUG:urllib3.connectionpool:https://www1.nseindia.com:443 \"GET /products/dynaContent/common/productsSymbolMapping.jsp?symbol=DBREALTY&segmentLink=3&symbolCount%0A%20%0A%0A%0A%0A%0A%0A2%0A&series=EQ&dateRange=+&fromDate=24-02-2012&toDate=22-02-2013&dataType=PRICEVOLUMEDELIVERABLE HTTP/1.1\" 200 16077\n"
     ]
    },
    {
     "name": "stdout",
     "output_type": "stream",
     "text": [
      "Downloading  [--------    ] 66.67 %\r"
     ]
    },
    {
     "name": "stderr",
     "output_type": "stream",
     "text": [
      "DEBUG:urllib3.connectionpool:Starting new HTTPS connection (1): www1.nseindia.com:443\n",
      "DEBUG:urllib3.connectionpool:https://www1.nseindia.com:443 \"GET /products/dynaContent/common/productsSymbolMapping.jsp?symbol=DBREALTY&segmentLink=3&symbolCount%0A%20%0A%0A%0A%0A%0A%0A2%0A&series=EQ&dateRange=+&fromDate=24-02-2011&toDate=23-02-2012&dataType=PRICEVOLUMEDELIVERABLE HTTP/1.1\" 200 17941\n"
     ]
    },
    {
     "name": "stdout",
     "output_type": "stream",
     "text": [
      "Downloading  [---------   ] 75.00 %\r"
     ]
    },
    {
     "name": "stderr",
     "output_type": "stream",
     "text": [
      "DEBUG:urllib3.connectionpool:Starting new HTTPS connection (1): www1.nseindia.com:443\n",
      "DEBUG:urllib3.connectionpool:https://www1.nseindia.com:443 \"GET /products/dynaContent/common/productsSymbolMapping.jsp?symbol=DBREALTY&segmentLink=3&symbolCount%0A%20%0A%0A%0A%0A%0A%0A2%0A&series=EQ&dateRange=+&fromDate=24-02-2010&toDate=23-02-2011&dataType=PRICEVOLUMEDELIVERABLE HTTP/1.1\" 200 17442\n"
     ]
    },
    {
     "name": "stdout",
     "output_type": "stream",
     "text": [
      "Downloading  [----------  ] 83.33 %\r"
     ]
    },
    {
     "name": "stderr",
     "output_type": "stream",
     "text": [
      "DEBUG:urllib3.connectionpool:Starting new HTTPS connection (1): www1.nseindia.com:443\n",
      "DEBUG:urllib3.connectionpool:https://www1.nseindia.com:443 \"GET /products/dynaContent/common/productsSymbolMapping.jsp?symbol=DBREALTY&segmentLink=3&symbolCount%0A%20%0A%0A%0A%0A%0A%0A2%0A&series=EQ&dateRange=+&fromDate=31-12-2009&toDate=23-02-2010&dataType=PRICEVOLUMEDELIVERABLE HTTP/1.1\" 200 119\n",
      "DEBUG:urllib3.connectionpool:Starting new HTTPS connection (1): www1.nseindia.com:443\n"
     ]
    },
    {
     "name": "stdout",
     "output_type": "stream",
     "text": [
      "Downloading  [------------] 100.00 % \n",
      "Generating for INDIAMART\n",
      "INDIAMART\n"
     ]
    },
    {
     "name": "stderr",
     "output_type": "stream",
     "text": [
      "DEBUG:urllib3.connectionpool:https://www1.nseindia.com:443 \"POST /marketinfo/sym_map/symbolCount.jsp?symbol= HTTP/1.1\" 200 10\n"
     ]
    },
    {
     "name": "stdout",
     "output_type": "stream",
     "text": [
      "Downloading  [            ]"
     ]
    },
    {
     "name": "stderr",
     "output_type": "stream",
     "text": [
      "DEBUG:urllib3.connectionpool:Starting new HTTPS connection (1): www1.nseindia.com:443\n"
     ]
    },
    {
     "name": "stdout",
     "output_type": "stream",
     "text": [
      "\r"
     ]
    },
    {
     "name": "stderr",
     "output_type": "stream",
     "text": [
      "DEBUG:urllib3.connectionpool:https://www1.nseindia.com:443 \"GET /products/dynaContent/common/productsSymbolMapping.jsp?symbol=INDIAMART&segmentLink=3&symbolCount%0A%20%0A%0A%0A%0A%0A%0A2%0A&series=EQ&dateRange=+&fromDate=22-02-2020&toDate=20-02-2021&dataType=PRICEVOLUMEDELIVERABLE HTTP/1.1\" 200 20242\n"
     ]
    },
    {
     "name": "stdout",
     "output_type": "stream",
     "text": [
      "Downloading  [            ] 0.00 %\r"
     ]
    },
    {
     "name": "stderr",
     "output_type": "stream",
     "text": [
      "DEBUG:urllib3.connectionpool:Starting new HTTPS connection (1): www1.nseindia.com:443\n",
      "DEBUG:urllib3.connectionpool:https://www1.nseindia.com:443 \"GET /products/dynaContent/common/productsSymbolMapping.jsp?symbol=INDIAMART&segmentLink=3&symbolCount%0A%20%0A%0A%0A%0A%0A%0A2%0A&series=EQ&dateRange=+&fromDate=22-02-2019&toDate=21-02-2020&dataType=PRICEVOLUMEDELIVERABLE HTTP/1.1\" 200 14993\n"
     ]
    },
    {
     "name": "stdout",
     "output_type": "stream",
     "text": [
      "Downloading  [-           ] 8.33 %\r"
     ]
    },
    {
     "name": "stderr",
     "output_type": "stream",
     "text": [
      "DEBUG:urllib3.connectionpool:Starting new HTTPS connection (1): www1.nseindia.com:443\n",
      "DEBUG:urllib3.connectionpool:https://www1.nseindia.com:443 \"GET /products/dynaContent/common/productsSymbolMapping.jsp?symbol=INDIAMART&segmentLink=3&symbolCount%0A%20%0A%0A%0A%0A%0A%0A2%0A&series=EQ&dateRange=+&fromDate=22-02-2018&toDate=21-02-2019&dataType=PRICEVOLUMEDELIVERABLE HTTP/1.1\" 200 119\n",
      "DEBUG:urllib3.connectionpool:Starting new HTTPS connection (1): www1.nseindia.com:443\n",
      "DEBUG:urllib3.connectionpool:https://www1.nseindia.com:443 \"GET /products/dynaContent/common/productsSymbolMapping.jsp?symbol=INDIAMART&segmentLink=3&symbolCount%0A%20%0A%0A%0A%0A%0A%0A2%0A&series=EQ&dateRange=+&fromDate=22-02-2017&toDate=21-02-2018&dataType=PRICEVOLUMEDELIVERABLE HTTP/1.1\" 200 119\n",
      "DEBUG:urllib3.connectionpool:Starting new HTTPS connection (1): www1.nseindia.com:443\n",
      "DEBUG:urllib3.connectionpool:https://www1.nseindia.com:443 \"GET /products/dynaContent/common/productsSymbolMapping.jsp?symbol=INDIAMART&segmentLink=3&symbolCount%0A%20%0A%0A%0A%0A%0A%0A2%0A&series=EQ&dateRange=+&fromDate=23-02-2016&toDate=21-02-2017&dataType=PRICEVOLUMEDELIVERABLE HTTP/1.1\" 200 119\n",
      "DEBUG:urllib3.connectionpool:Starting new HTTPS connection (1): www1.nseindia.com:443\n",
      "DEBUG:urllib3.connectionpool:https://www1.nseindia.com:443 \"GET /products/dynaContent/common/productsSymbolMapping.jsp?symbol=INDIAMART&segmentLink=3&symbolCount%0A%20%0A%0A%0A%0A%0A%0A2%0A&series=EQ&dateRange=+&fromDate=23-02-2015&toDate=22-02-2016&dataType=PRICEVOLUMEDELIVERABLE HTTP/1.1\" 200 119\n",
      "DEBUG:urllib3.connectionpool:Starting new HTTPS connection (1): www1.nseindia.com:443\n",
      "DEBUG:urllib3.connectionpool:https://www1.nseindia.com:443 \"GET /products/dynaContent/common/productsSymbolMapping.jsp?symbol=INDIAMART&segmentLink=3&symbolCount%0A%20%0A%0A%0A%0A%0A%0A2%0A&series=EQ&dateRange=+&fromDate=23-02-2014&toDate=22-02-2015&dataType=PRICEVOLUMEDELIVERABLE HTTP/1.1\" 200 119\n",
      "DEBUG:urllib3.connectionpool:Starting new HTTPS connection (1): www1.nseindia.com:443\n",
      "DEBUG:urllib3.connectionpool:https://www1.nseindia.com:443 \"GET /products/dynaContent/common/productsSymbolMapping.jsp?symbol=INDIAMART&segmentLink=3&symbolCount%0A%20%0A%0A%0A%0A%0A%0A2%0A&series=EQ&dateRange=+&fromDate=23-02-2013&toDate=22-02-2014&dataType=PRICEVOLUMEDELIVERABLE HTTP/1.1\" 200 119\n",
      "DEBUG:urllib3.connectionpool:Starting new HTTPS connection (1): www1.nseindia.com:443\n",
      "DEBUG:urllib3.connectionpool:https://www1.nseindia.com:443 \"GET /products/dynaContent/common/productsSymbolMapping.jsp?symbol=INDIAMART&segmentLink=3&symbolCount%0A%20%0A%0A%0A%0A%0A%0A2%0A&series=EQ&dateRange=+&fromDate=24-02-2012&toDate=22-02-2013&dataType=PRICEVOLUMEDELIVERABLE HTTP/1.1\" 200 119\n",
      "DEBUG:urllib3.connectionpool:Starting new HTTPS connection (1): www1.nseindia.com:443\n",
      "DEBUG:urllib3.connectionpool:https://www1.nseindia.com:443 \"GET /products/dynaContent/common/productsSymbolMapping.jsp?symbol=INDIAMART&segmentLink=3&symbolCount%0A%20%0A%0A%0A%0A%0A%0A2%0A&series=EQ&dateRange=+&fromDate=24-02-2011&toDate=23-02-2012&dataType=PRICEVOLUMEDELIVERABLE HTTP/1.1\" 200 119\n",
      "DEBUG:urllib3.connectionpool:Starting new HTTPS connection (1): www1.nseindia.com:443\n",
      "DEBUG:urllib3.connectionpool:https://www1.nseindia.com:443 \"GET /products/dynaContent/common/productsSymbolMapping.jsp?symbol=INDIAMART&segmentLink=3&symbolCount%0A%20%0A%0A%0A%0A%0A%0A2%0A&series=EQ&dateRange=+&fromDate=24-02-2010&toDate=23-02-2011&dataType=PRICEVOLUMEDELIVERABLE HTTP/1.1\" 200 119\n",
      "DEBUG:urllib3.connectionpool:Starting new HTTPS connection (1): www1.nseindia.com:443\n",
      "DEBUG:urllib3.connectionpool:https://www1.nseindia.com:443 \"GET /products/dynaContent/common/productsSymbolMapping.jsp?symbol=INDIAMART&segmentLink=3&symbolCount%0A%20%0A%0A%0A%0A%0A%0A2%0A&series=EQ&dateRange=+&fromDate=31-12-2009&toDate=23-02-2010&dataType=PRICEVOLUMEDELIVERABLE HTTP/1.1\" 200 119\n"
     ]
    },
    {
     "name": "stdout",
     "output_type": "stream",
     "text": [
      "Downloading  [------------] 100.00 % \n",
      "Generating for HUHTAMAKI\n"
     ]
    },
    {
     "ename": "ValueError",
     "evalue": "Check Index name. Try RATNAMANI as index name.",
     "output_type": "error",
     "traceback": [
      "\u001b[1;31m---------------------------------------------------------------------------\u001b[0m",
      "\u001b[1;31mValueError\u001b[0m                                Traceback (most recent call last)",
      "\u001b[1;32m<ipython-input-27-26c200dbe7b8>\u001b[0m in \u001b[0;36m<module>\u001b[1;34m\u001b[0m\n\u001b[0;32m      5\u001b[0m     \u001b[0mname\u001b[0m\u001b[1;33m=\u001b[0m\u001b[0mstr\u001b[0m\u001b[1;33m(\u001b[0m\u001b[0mi\u001b[0m\u001b[1;33m)\u001b[0m \u001b[1;33m+\u001b[0m \u001b[0mstr\u001b[0m\u001b[1;33m(\u001b[0m\u001b[0mtoday\u001b[0m\u001b[1;33m)\u001b[0m \u001b[1;33m+\u001b[0m \u001b[1;34m'.csv'\u001b[0m\u001b[1;33m\u001b[0m\u001b[1;33m\u001b[0m\u001b[0m\n\u001b[0;32m      6\u001b[0m     \u001b[0mfilenames\u001b[0m\u001b[1;33m.\u001b[0m\u001b[0mappend\u001b[0m\u001b[1;33m(\u001b[0m\u001b[0mname\u001b[0m\u001b[1;33m)\u001b[0m\u001b[1;33m\u001b[0m\u001b[1;33m\u001b[0m\u001b[0m\n\u001b[1;32m----> 7\u001b[1;33m     \u001b[0mnewDF\u001b[0m\u001b[1;33m=\u001b[0m\u001b[0mstocks\u001b[0m\u001b[1;33m.\u001b[0m\u001b[0mget_data\u001b[0m\u001b[1;33m(\u001b[0m\u001b[0mstockSymbol\u001b[0m\u001b[1;33m=\u001b[0m\u001b[0mi\u001b[0m\u001b[1;33m,\u001b[0m \u001b[0mstart_date\u001b[0m \u001b[1;33m=\u001b[0m \u001b[1;34m'31-12-2009'\u001b[0m\u001b[1;33m,\u001b[0m \u001b[0mend_date\u001b[0m \u001b[1;33m=\u001b[0m \u001b[1;34m'20-2-2021'\u001b[0m\u001b[1;33m)\u001b[0m\u001b[1;33m\u001b[0m\u001b[1;33m\u001b[0m\u001b[0m\n\u001b[0m\u001b[0;32m      8\u001b[0m     \u001b[0mnewDF\u001b[0m\u001b[1;33m.\u001b[0m\u001b[0mto_csv\u001b[0m\u001b[1;33m(\u001b[0m\u001b[1;34m\"Files\\\\HistoricalData\\\\\"\u001b[0m\u001b[1;33m+\u001b[0m\u001b[0mstr\u001b[0m\u001b[1;33m(\u001b[0m\u001b[0mname\u001b[0m\u001b[1;33m)\u001b[0m\u001b[1;33m)\u001b[0m\u001b[1;33m\u001b[0m\u001b[1;33m\u001b[0m\u001b[0m\n\u001b[0;32m      9\u001b[0m \u001b[1;33m\u001b[0m\u001b[0m\n",
      "\u001b[1;32mc:\\users\\dell\\appdata\\local\\programs\\python\\python38\\lib\\site-packages\\NSEDownload\\stocks.py\u001b[0m in \u001b[0;36mget_data\u001b[1;34m(stockSymbol, full_data, start_date, end_date)\u001b[0m\n\u001b[0;32m     13\u001b[0m \u001b[1;32mdef\u001b[0m \u001b[0mget_data\u001b[0m\u001b[1;33m(\u001b[0m\u001b[0mstockSymbol\u001b[0m\u001b[1;33m,\u001b[0m\u001b[0mfull_data\u001b[0m\u001b[1;33m=\u001b[0m\u001b[1;32mNone\u001b[0m\u001b[1;33m,\u001b[0m\u001b[0mstart_date\u001b[0m\u001b[1;33m=\u001b[0m\u001b[1;32mNone\u001b[0m\u001b[1;33m,\u001b[0m\u001b[0mend_date\u001b[0m\u001b[1;33m=\u001b[0m\u001b[1;32mNone\u001b[0m\u001b[1;33m)\u001b[0m\u001b[1;33m:\u001b[0m\u001b[1;33m\u001b[0m\u001b[1;33m\u001b[0m\u001b[0m\n\u001b[0;32m     14\u001b[0m \u001b[1;33m\u001b[0m\u001b[0m\n\u001b[1;32m---> 15\u001b[1;33m         \u001b[0mcheck_name\u001b[0m\u001b[1;33m(\u001b[0m\u001b[0mstocks_values\u001b[0m\u001b[1;33m,\u001b[0m \u001b[0mstocks_values\u001b[0m\u001b[1;33m,\u001b[0m \u001b[0mstockSymbol\u001b[0m\u001b[1;33m)\u001b[0m\u001b[1;33m\u001b[0m\u001b[1;33m\u001b[0m\u001b[0m\n\u001b[0m\u001b[0;32m     16\u001b[0m \u001b[1;33m\u001b[0m\u001b[0m\n\u001b[0;32m     17\u001b[0m         \u001b[0mfirst\u001b[0m \u001b[1;33m=\u001b[0m \u001b[1;34m'https://www1.nseindia.com/products/dynaContent/common/productsSymbolMapping.jsp'\u001b[0m\u001b[1;33m\u001b[0m\u001b[1;33m\u001b[0m\u001b[0m\n",
      "\u001b[1;32mc:\\users\\dell\\appdata\\local\\programs\\python\\python38\\lib\\site-packages\\NSEDownload\\check.py\u001b[0m in \u001b[0;36mcheck_name\u001b[1;34m(arr, values, indexName)\u001b[0m\n\u001b[0;32m     23\u001b[0m \u001b[1;33m\u001b[0m\u001b[0m\n\u001b[0;32m     24\u001b[0m         \u001b[1;32mif\u001b[0m\u001b[1;33m(\u001b[0m\u001b[0mflag\u001b[0m\u001b[1;33m==\u001b[0m\u001b[1;36m0\u001b[0m\u001b[1;33m)\u001b[0m\u001b[1;33m:\u001b[0m\u001b[1;33m\u001b[0m\u001b[1;33m\u001b[0m\u001b[0m\n\u001b[1;32m---> 25\u001b[1;33m                 \u001b[1;32mraise\u001b[0m \u001b[0mValueError\u001b[0m\u001b[1;33m(\u001b[0m\u001b[1;34m\"Check Index name. Try {} as index name.\"\u001b[0m\u001b[1;33m.\u001b[0m\u001b[0mformat\u001b[0m\u001b[1;33m(\u001b[0m\u001b[0mmaxVal\u001b[0m\u001b[1;33m)\u001b[0m\u001b[1;33m)\u001b[0m\u001b[1;33m\u001b[0m\u001b[1;33m\u001b[0m\u001b[0m\n\u001b[0m",
      "\u001b[1;31mValueError\u001b[0m: Check Index name. Try RATNAMANI as index name."
     ]
    }
   ],
   "source": [
    "#df = stocks.get_data(stockSymbol=\"RELIANCE\", start_date = '31-12-2009', end_date = '2-2-2021')\n",
    "filenames=[]\n",
    "for i in symbols:\n",
    "    print(\"Generating for \"+str(i))\n",
    "    name=str(i) + str(today) + '.csv'\n",
    "    filenames.append(name)\n",
    "    newDF=stocks.get_data(stockSymbol=i, start_date = '31-12-2009', end_date = '20-2-2021')\n",
    "    newDF.to_csv(\"Files\\\\HistoricalData\\\\\"+str(name))\n",
    "    \n"
   ]
  },
  {
   "cell_type": "code",
   "execution_count": null,
   "metadata": {},
   "outputs": [],
   "source": []
  }
 ],
 "metadata": {
  "kernelspec": {
   "display_name": "Python 3",
   "language": "python",
   "name": "python3"
  },
  "language_info": {
   "codemirror_mode": {
    "name": "ipython",
    "version": 3
   },
   "file_extension": ".py",
   "mimetype": "text/x-python",
   "name": "python",
   "nbconvert_exporter": "python",
   "pygments_lexer": "ipython3",
   "version": "3.8.5"
  }
 },
 "nbformat": 4,
 "nbformat_minor": 4
}
